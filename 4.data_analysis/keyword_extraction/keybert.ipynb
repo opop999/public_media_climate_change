{
 "cells": [
  {
   "cell_type": "code",
   "execution_count": 1,
   "metadata": {},
   "outputs": [],
   "source": [
    "from keybert import KeyBERT # Import the KeyBERT model\n",
    "from sentence_transformers import SentenceTransformer # Import the Sentence Transformer model\n",
    "\n",
    "sentence_model = SentenceTransformer(\"paraphrase-multilingual-MiniLM-L12-v2\") # Load a sentence transformer model\n",
    "\n",
    "kw_model = KeyBERT(model=sentence_model) # Load KeyBERT model\n"
   ]
  },
  {
   "cell_type": "code",
   "execution_count": 2,
   "metadata": {},
   "outputs": [],
   "source": [
    "test_doc = [\"\"\"\n",
    "         Vláda nebude zvyšovat daně, opakuje premiér Petr Fiala (ODS) i přes opačné názory některých koaličních partnerů a ekonomických poradců. Je ale možné za stávající výše zdanění konsolidovat rozvrácené veřejné rozpočty? V pořadu Pro a proti Českého rozhlasu Plus diskutovali ekonom a člen Národní ekonomické rady vlády Libor Dušek a místopředseda Poslanecké sněmovny a ekonomický expert ODS Jan Skopeček. Podle něj se už sice dlouho mluví o škrtech, vidíme ale spíš navyšování dalších výdajů. „I současná situace si vyžádala další výdaje, některé jsou jednorázové, ale jiné jsou trvalé, třeba valorizace důchodů. Takže se zvyšuje deficit bez reálné ochoty snižovat výdaje.“ Skopeček vidí problém především na výdajové straně rozpočtu, nikoli na příjmové. „Ale souhlasím, že dnešní deficity jsou budoucí daně.“ „Největší problém je na výdajové straně,“ opakuje politik. „To, co se utrhlo, byly veřejné výdaje, které rostou bez ohledu na to, jak naše ekonomika pracuje a jaký má potenciál. Musíme se bavit o jednorázových škrtech, ale i o reformách systémů, které zatěžují veřejné finance nejvíc, stejně jako o institucionálních změnách.“\n",
    "      \"\"\"]"
   ]
  },
  {
   "cell_type": "code",
   "execution_count": 3,
   "metadata": {},
   "outputs": [
    {
     "data": {
      "text/html": [
       "<pre style=\"white-space:pre;overflow-x:auto;line-height:normal;font-family:Menlo,'DejaVu Sans Mono',consolas,'Courier New',monospace\"><span style=\"color: #000000; text-decoration-color: #000000; background-color: #ffff00\">Vláda</span> nebude zvyšovat <span style=\"color: #000000; text-decoration-color: #000000; background-color: #ffff00\">daně</span> opakuje premiér Petr Fiala ODS přes opačné názory některých koaličních partnerů \n",
       "ekonomických poradců Je ale možné za stávající výše <span style=\"color: #000000; text-decoration-color: #000000; background-color: #ffff00\">zdanění</span> konsolidovat rozvrácené veřejné <span style=\"color: #000000; text-decoration-color: #000000; background-color: #ffff00\">rozpočty</span> pořadu Pro \n",
       "proti Českého rozhlasu Plus diskutovali ekonom člen Národní ekonomické rady <span style=\"color: #000000; text-decoration-color: #000000; background-color: #ffff00\">vlády</span> Libor Dušek místopředseda \n",
       "Poslanecké sněmovny ekonomický expert ODS Jan Skopeček Podle něj se už sice dlouho mluví škrtech vidíme ale spíš \n",
       "navyšování dalších výdajů současná situace si vyžádala další výdaje některé jsou jednorázové ale jiné jsou trvalé \n",
       "třeba valorizace důchodů Takže se zvyšuje deficit bez reálné ochoty snižovat výdaje Skopeček vidí problém především\n",
       "na výdajové straně rozpočtu nikoli na příjmové Ale souhlasím že dnešní deficity jsou budoucí <span style=\"color: #000000; text-decoration-color: #000000; background-color: #ffff00\">daně</span> Největší problém \n",
       "je na výdajové straně opakuje politik To co se utrhlo byly veřejné výdaje které rostou bez ohledu na to jak naše \n",
       "ekonomika pracuje jaký má potenciál Musíme se bavit jednorázových škrtech ale reformách systémů které zatěžují \n",
       "veřejné finance nejvíc stejně jako institucionálních změnách\n",
       "</pre>\n"
      ],
      "text/plain": [
       "\u001b[30;48;2;255;255;0mVláda\u001b[0m nebude zvyšovat \u001b[30;48;2;255;255;0mdaně\u001b[0m opakuje premiér Petr Fiala ODS přes opačné názory některých koaličních partnerů \n",
       "ekonomických poradců Je ale možné za stávající výše \u001b[30;48;2;255;255;0mzdanění\u001b[0m konsolidovat rozvrácené veřejné \u001b[30;48;2;255;255;0mrozpočty\u001b[0m pořadu Pro \n",
       "proti Českého rozhlasu Plus diskutovali ekonom člen Národní ekonomické rady \u001b[30;48;2;255;255;0mvlády\u001b[0m Libor Dušek místopředseda \n",
       "Poslanecké sněmovny ekonomický expert ODS Jan Skopeček Podle něj se už sice dlouho mluví škrtech vidíme ale spíš \n",
       "navyšování dalších výdajů současná situace si vyžádala další výdaje některé jsou jednorázové ale jiné jsou trvalé \n",
       "třeba valorizace důchodů Takže se zvyšuje deficit bez reálné ochoty snižovat výdaje Skopeček vidí problém především\n",
       "na výdajové straně rozpočtu nikoli na příjmové Ale souhlasím že dnešní deficity jsou budoucí \u001b[30;48;2;255;255;0mdaně\u001b[0m Největší problém \n",
       "je na výdajové straně opakuje politik To co se utrhlo byly veřejné výdaje které rostou bez ohledu na to jak naše \n",
       "ekonomika pracuje jaký má potenciál Musíme se bavit jednorázových škrtech ale reformách systémů které zatěžují \n",
       "veřejné finance nejvíc stejně jako institucionálních změnách\n"
      ]
     },
     "metadata": {},
     "output_type": "display_data"
    },
    {
     "data": {
      "text/plain": [
       "[('zdanění', 0.6025),\n",
       " ('daně', 0.584),\n",
       " ('rozpočty', 0.5112),\n",
       " ('vláda', 0.4971),\n",
       " ('vlády', 0.4758)]"
      ]
     },
     "execution_count": 3,
     "metadata": {},
     "output_type": "execute_result"
    }
   ],
   "source": [
    "# get the keywords from the document\n",
    "kw_model.extract_keywords(test_doc, keyphrase_ngram_range=(1, 1), highlight=True, top_n=5)"
   ]
  }
 ],
 "metadata": {
  "kernelspec": {
   "display_name": "Python 3.10.6 ('datascience')",
   "language": "python",
   "name": "python3"
  },
  "language_info": {
   "codemirror_mode": {
    "name": "ipython",
    "version": 3
   },
   "file_extension": ".py",
   "mimetype": "text/x-python",
   "name": "python",
   "nbconvert_exporter": "python",
   "pygments_lexer": "ipython3",
   "version": "3.10.8"
  },
  "orig_nbformat": 4,
  "vscode": {
   "interpreter": {
    "hash": "7fcc423611767790f2393ecee3bb6574101f9de8433eefd3b59182ef24a3412e"
   }
  }
 },
 "nbformat": 4,
 "nbformat_minor": 2
}
