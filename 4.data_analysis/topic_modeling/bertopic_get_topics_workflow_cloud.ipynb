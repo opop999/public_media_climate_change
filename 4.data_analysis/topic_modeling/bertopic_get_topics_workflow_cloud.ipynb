{
 "cells": [
  {
   "cell_type": "code",
   "execution_count": 25,
   "metadata": {},
   "outputs": [],
   "source": [
    "import json\n",
    "import numpy as np\n",
    "import pandas as pd\n",
    "from bertopic import BERTopic\n",
    "from sentence_transformers import SentenceTransformer\n",
    "from sklearn.feature_extraction.text import CountVectorizer\n",
    "from umap import UMAP\n",
    "\n",
    "YEAR=\"2012\"\n",
    "EMBEDDINGS_PATH = f\"data/embeddings_sentences_with_dates_{YEAR}.npz\"\n",
    "CSV_PATH = f\"data/sentences_with_dates_{YEAR}.csv\""
   ]
  },
  {
   "cell_type": "code",
   "execution_count": 2,
   "metadata": {},
   "outputs": [],
   "source": [
    "# Load json file with stopwords as a list\n",
    "with open(\"data/stopwords_cs.json\", \"r\") as f:\n",
    "    stopwords_cs = json.load(f)\n",
    "    \n",
    "stopwords_cs.extend([\"moderátorka\", \"moderátor\", \"redaktorka\", \"redaktor\"])\n"
   ]
  },
  {
   "cell_type": "code",
   "execution_count": 26,
   "metadata": {},
   "outputs": [],
   "source": [
    "sentence_model = SentenceTransformer(\"paraphrase-multilingual-MiniLM-L12-v2\")\n",
    "custom_umap_model = UMAP(n_components=2, metric='cosine', random_state=3859, low_memory=True)\n",
    "vectorizer_model = CountVectorizer(stop_words=stopwords_cs)\n",
    "topic_model = BERTopic(embedding_model=sentence_model, umap_model=custom_umap_model, vectorizer_model=vectorizer_model, min_topic_size = 10, calculate_probabilities=False, verbose=True, low_memory=True)"
   ]
  },
  {
   "cell_type": "code",
   "execution_count": 27,
   "metadata": {},
   "outputs": [],
   "source": [
    "# Load npz file as an array and csv file as a list\n",
    "embeddings = np.load(EMBEDDINGS_PATH)['arr_0']\n",
    "sentences = pd.read_csv(CSV_PATH)[\"sentence\"].tolist()\n",
    "# Create random index of length 1000\n",
    "random_index = np.random.choice(len(sentences), 1000, replace=False)\n",
    "\n",
    "\n",
    "# dates = pd.read_csv(CSV_PATH)[\"date\"].tolist()\n",
    "# array_2 = np.concatenate((sentence_model.encode([\"Ahoj.\",  \"Co je.\"]), sentence_model.encode([\"Jak se máte.\",  \"čau lidi.\"])), axis=0)"
   ]
  },
  {
   "cell_type": "code",
   "execution_count": 28,
   "metadata": {},
   "outputs": [
    {
     "data": {
      "text/plain": [
       "['reforma vysokého školství.',\n",
       " 'daniel takáč moderátor vysoké školy by měly fungovat podle nových pravidel alespoň na nich začíná pracovat vláda.',\n",
       " 'slíbila to totiž v programovém prohlášení.',\n",
       " 'zatím je vláda ve fázi psaní záměrů jak by chtěla vysokoškolské vzdělávání organizovat ale už přespříští školní rok by chtěla aby pravidla platila tedy ještě předtím je musí přepsat do paragrafu a prosadit v parlamentu což není zrovna krátká záležitost.',\n",
       " 'už v té obecné fázi ale kabinet naráží.',\n",
       " 'záměry se nelíbí ani řadě pracovníků vysokých škol ani mnohým studentům.',\n",
       " 'proč se jim nelíbí?',\n",
       " 'co je na vládních záměrech špatně a co je naopak rozumné a přijatelné?',\n",
       " 'právě o tom si můžete popovídat v dnešním hyde parku a nejenom o tom s prorektorem univerzity karlovy stanislavem štechem.',\n",
       " 'dobrý večer.',\n",
       " 'pane profesore dobrý večer.',\n",
       " 'vítejte u nás.',\n",
       " 'stanislav štech prorektor pro rozvoj univerzita karlova dobrý večer.',\n",
       " 'daniel takáč moderátor díky že jste do hyde parku přišel.',\n",
       " 'reforma je potřeba.',\n",
       " 'na tom se shodují s ministerstvem školství zástupci vysokých škol.',\n",
       " 'návrh který jde ale na vládu se už velké části z nich moc nelíbí. redaktor bude to konec svobody vysokých škol.',\n",
       " 'politici chtějí mít větší vliv tvrdí kritici.',\n",
       " 'bude to čerstvý vítr na českých vysokých školách.',\n",
       " 'spojení s praxí a pohled zvenčí říkají lidé z ministerstva školství.',\n",
       " 'to je spor číslo jedna po roli takzvané rady školy.',\n",
       " 'ta dostává silnější pravomoci než má současná správní rada a sedět v ní mají lidé kteří nejsou z dané univerzity.',\n",
       " 'ivan wilhelm náměstek ministra školství pro vysoké školy jezdím po světě skandinávské země švýcarsko prostě další mají takovýhle institut je to záležitost kterou si chválí a kterou říkají že je to ku prospěchu tý věci.',\n",
       " 'když se záležitostí vnitřní záležitostí té školy mohou posoudit očima lidí zevně ale ne politiky.',\n",
       " 'to je naprosto vyloučeno.',\n",
       " 'a nikde tam taková věc není. redaktor podle kritiků tím ale akademická půda ztratí svoji svobodu a akademický senát bude mít menší vliv.',\n",
       " 'o něj jde ve sporu číslo 2.',\n",
       " 've hře je jeho reálný vliv na fungování školy.',\n",
       " 'dále bude například navrhovat rektora.',\n",
       " 'rada školy ale nemusí s doporučením souhlasit.',\n",
       " 'jak se bude pak dál postupovat bude záležet na vysoké škole.',\n",
       " 'další výměna názorů je u obsazení židlí.',\n",
       " 'návrh počítá se třetinou pro studenty.',\n",
       " 'škole tím chtějí dát až polovinu.',\n",
       " 'spor číslo 3 školné.',\n",
       " 'michal stehlík děkan filosofická fakulta uk v praze studio 24 19.1.2012 ve chvíli kdy školné bude tentokrát už na soukromých kde je i u nás jako na veřejných čili odpadá komparační výhoda jednak kvality a jednak vůbec toho srovnání takže tady se vychází vlastně vstříc soukromému podnikání oproti zájmu státu. redaktor ivan wilhelm ale jasně říká není to nic nového.',\n",
       " 'školné je v programovém prohlášení vlády ze srpna 2010.',\n",
       " 'ivan wilhelm náměstek ministra školství pro vysoké školy tehdy já jsem nepostřehl že by někdo se bouřil protestoval. redaktor školné bude maximálně 10 tisíc za semestr a jeho výše pokud bude člověk studovat v řádných termínech se nezmění.',\n",
       " 'vybrané peníze nepůjdou do státního rozpočtu zůstanou vysokým školám.',\n",
       " 'studenti budou moct sáhnout po zvýhodněné půjčce.',\n",
       " 'ty ale bude řešit jiný zákon.',\n",
       " 'podle kritiků je prý nedotažený.',\n",
       " 'zatím není jasné kdy by začali lidé splácet.',\n",
       " 'další je spor č. 4 vliv praxe.',\n",
       " 'spolupráce ano říkají obě strany.',\n",
       " 'otázka je jak úzká.',\n",
       " 'podle rektora univerzity karlovy václava hampla hrozí že by se z vysoké školy mohla stát přípravka soukromých firem.',\n",
       " 'podle ministra školství josefa dobeše se ale mají jít akademici vyvětrat do praxe získat nové kontakty a pak se zase klidně vrátit zpátky do školy.',\n",
       " 'k věcnému záměru zákona o vysokých školách dostalo ministerstvo školství 152 připomínek z toho 48 bylo od rady vysokých škol jen 14 dobešovi lidé nepřijali.',\n",
       " 'daniel takáč moderátor tohle je tedy stručný přehled toho co chce vláda i toho jak se k tomu ostatně vysoké školy alespoň někteří jejich zástupci staví.',\n",
       " 'na co se chcete ptát prorektora univerzity karlovy závisí hodně na vás.',\n",
       " 'kontakty k nám hledejte na našem webu nejlépe na adrese www.hydeparkct24.cz kde jsou tradiční plusové mínusové body ty dnes samozřejmě nechybí kterými můžete vystoupení stanislava štecha ohodnotit a svými palci coby pomocné kritérium případně některou otázku podpořit tak aby měla větší šanci se do našeho vysílání dostat.',\n",
       " 'tak pane profesore pojďme na to začneme na facebooku kde je ta první otázka týkající se problematiky vysokých škol.',\n",
       " 'ptá se docent vojtěch merunka pane prorektore školné a další změny fungování vysokých škol byly ve volebním programu ods i top 09 a jsou jasně napsané v programovém prohlášení vlády.',\n",
       " 'proč protestujete až teď.',\n",
       " 'akademická obec se měla ozvat v době sestavování vlády.',\n",
       " 'není teď už pozdě?',\n",
       " 'stanislav štech prorektor pro rozvoj univerzita karlova já si myslím že pozdě není nikdy protože by tam mělo vždycky platit pravidlo zamezení větší škodě.',\n",
       " 'takže já bych jenom poopravil malinko to úvodní tvrzení.',\n",
       " 'já jsem třeba byl jeden z těch kteří opravdu protestovali od samého počátku a dokonce už v červnu 2010.',\n",
       " 'bylo nás pravda málo a nebylo to jaksi sdíleno oficiálními institucemi jaksi akademické sféry.',\n",
       " 'není pravda že by se vůbec neobjevovaly nějaké analýzy argumenty které ukazovaly v čem je vlastně školné zejména v době ve které teďka žijeme škodlivé.',\n",
       " 'daniel takáč moderátor mluvíte říkáte školné.',\n",
       " 'pouze školné nebo i ty další věci?',\n",
       " 'je pravda že o školném to byl snad první výstup z koaličních jednání že školné bude to je pravda.',\n",
       " 'stanislav štech prorektor pro rozvoj univerzita karlova ano.',\n",
       " 'ano.',\n",
       " 'ano.',\n",
       " 'bez jakéhokoliv podrobnějšího zdůvodňování argumentace.',\n",
       " 'v tom je totiž problém i té druhé normy na kterou se zřejmě ptáte.',\n",
       " 'ten věcný záměr zákona o vysokých školách a tam si myslím že je situace ale opravdu jiná.',\n",
       " 'já bych tady velice rád odlišil věcný záměr zákona o finanční pomoci studentů souzvuk hlasů .',\n",
       " 'daniel takáč moderátor to školné je v tom záměru vysokoškolského zákona.',\n",
       " 'stanislav štech prorektor pro rozvoj univerzita karlova je v tom záměru taky ale vlastně nabývá ten jeho efekt ty jeho možné dopady ve světle toho druhého.',\n",
       " 'daniel takáč moderátor ano to řešení je v tom dalším zákoně.',\n",
       " 'stanislav štech prorektor pro rozvoj univerzita karlova a já bych řekl že pokud jde o ten věcný záměr zákona o vysokých školách připravovaný tak tam samozřejmě od samého začátku nejenom my jsme dokonce nevarovali od samého začátku my jsme už v předchozích verzích které ona bílá kniha vpředchozích jaksi jednáních která fungovala v období ještě topolánkovy vlády univerzity zejména univerzita karlova poukazovala na značné problémy spojené s takovým tím jednoznačným modelováním a orientováním vysokých škol zejména univerzit směrem k modelu univerzita jako firma.',\n",
       " 'a to si myslím že nikdo nám nemůže říct že jsme se neozývali včas.',\n",
       " 'daniel takáč moderátor facebook tam je další otázka.',\n",
       " 'předpokládám že se k podrobnějšímu rozboru toho co říkáte dostaneme.',\n",
       " 'uvidíme jak budou vypadat otázky.',\n",
       " 'petr sojka člen akademického senátu univerzity palackého v olomouci jsem velmi znepokojen tím že věcný zákon zákona omezuje základní akademické svobody a ministerstva nechce akceptovat připomínky rady vysokých škol.',\n",
       " 'žádným způsobem nereflektuje vůli 20 akademických senátů ze 26 vysokých škol.',\n",
       " 'co na to říkáte?',\n",
       " 'nejdříve co říkáte na to že ministerstva nereflektuje?',\n",
       " 'stanislav štech prorektor pro rozvoj univerzita karlova tak já si myslím že nereflektuje jaksi v této chvíli nebo v této fázi.',\n",
       " 'jsem přesvědčen o tom že je potřeba začít jednat a že by se jaksi ty věci měly posunout.',\n",
       " 'já si myslím že teď je to v určité fázi kdy ministerstva tak trošku jako stachanovsky si řeklo mám tady nějaký věci který k určitému datu musím odevzdat do vlády do vlády posléze do legislativní rady no tak jsem to splnil 23.',\n",
       " '12. mimochodem ten druhý věcný záměr nebyl splněn včas.',\n",
       " 'ten byl dodán až s nějaký desetidenním zpožděním ale prostě já to beru tak že prostě hlava nehlava problémy neproblémy nesrozumitelné tudíž v tomto okamžiku nediskutujeme.',\n",
       " 'já jsem přesvědčen o tom že nemá li dojít k nějaké opravdu kolizi významné a velké tak se jednat bude.',\n",
       " 'daniel takáč moderátor tak a teď to o čem pan sojka píše.',\n",
       " 'omezuje základní akademické svobody.',\n",
       " 'v čem?',\n",
       " 'pokud s tím souhlasíte.',\n",
       " 'stanislav štech prorektor pro rozvoj univerzita karlova zakládá podmínky pro to aby ve vývoji zase mohly být omezeny akademické svobody.',\n",
       " 'to tam určitě je protože je třeba si uvědomit že ta záležitost z akademických svobod jako je svobodné vyučování bádání jaksi sebeřízení tedy ta svoboda samosprávy to je něco co není samoúčelné.',\n",
       " 'a co vyžaduje velmi citlivě vyvážený poměr vlastně jaksi té odpovědnosti a povinností kdy jaksi vztah s tím externím světem s tím vnějším světem mimo ty univerzity musí být nastaven tak aby rozhodně nebyl dirigistický přímo jaksi řídící.',\n",
       " 'tohle vám prosím vás funguje já se omlouvám já musím doplnit pana emeritního rektora wilhelma.',\n",
       " 'oni existují zase země které nám vzkazují doslova tedy spojených státech ve velké británii a které nám naopak ukazují pozor dívejte se jaké to může mít vážné dopady na výzkumné programy ve školách kde skutečně se toho zmocní abych tak řekl souzvuk hlasů .',\n",
       " 'daniel takáč moderátor dobře ale když profesor wilhelm říká že to někde funguje.',\n",
       " 'funguje tedy ten systém někde nebo nikde nefunguje?',\n",
       " 'stanislav štech prorektor pro rozvoj univerzita karlova já nemůžu znát samozřejmě situaci ve všech zemích ale souzvuk hlasů .',\n",
       " 'daniel takáč moderátor dobře ale existují v nějakém systému který funguje?',\n",
       " 'stanislav štech prorektor pro rozvoj univerzita karlova ano.',\n",
       " 'existují jaksi typy škol typy orientace s jejím posláním specifickým které vytváří například v evropě to co se nazývá cizím slovem medger.',\n",
       " 'to je to že vy spojíte do velkých kolosů univerzity určitého typu kde se ty programové profily doplňují.',\n",
       " 'zadáte k nim třeba velké soukromé firmy ale ta mise ta poslání těchhle velkých seskupení je od samého začátku že fungují jako dodavatelé prostě výrobků na trh pracovníků s určitým pracovním profilem a fungují v tomto duchu.',\n",
       " 'ale to je prosím vás ošetřeno vždycky zvlášť od systému vysokého školství ale třeba od klasických univerzit.',\n",
       " 'takže třeba nemůžu říct že by byla země která by to měla jenom podle toho prvního modelu.',\n",
       " 'daniel takáč moderátor v čem je ten dirigismus jak jste říkal dirigismus zvenku?',\n",
       " 'stanislav štech prorektor pro rozvoj univerzita karlova podívejte se jestliže fungujete na tomhle principu kdy rozhodující správní rada která není jen poradní která vlastně vstupuje do toho výkonu té moci jestliže rektor má manažerskou smlouvu a je manager vlastně jestliže vy fungujete podle nějakých prosím vás když má někdo podnikatelský záměr a investuje do něj no tak přeci vy mu neřeknete teď já potřebuju 3 roky klidu a budu v laboratoři si dělat protože se mi tady jeví docela zajímavé věci kolem nějakých parazitů.',\n",
       " 'ale on vám bude říkat já potřebuju teďka tohle do roka do dvou já investuju peníze nějaké.',\n",
       " 'daniel takáč moderátor dobře ale to vám někdo jak vám to řekne?',\n",
       " 'to přijde nějaká firma já tady nesu peníze a vy uděláte tohle to?',\n",
       " 'tam přece není nikde řečeno že vy musíte tu firmu poslechnout.',\n",
       " 'stanislav štech prorektor pro rozvoj univerzita karlova ano i to existuje i to existuje to je provázanost které jsou.',\n",
       " 'daniel takáč moderátor ano ale je to rozhodnutí té školy.',\n",
       " 'tam vám nic nenařizují že musíte tu firmu poslechnout.',\n",
       " 'stanislav štech prorektor pro rozvoj univerzita karlova je to dost nakonec rozhodnutí té školy která už je totálně proměněná.',\n",
       " 'čili není to ta škola kde o tom rozhodují například tomu se říká kolegiální a akademická autorita kde o tom rozhodují grémia těch lidí kteří skutečně mají zaprvé na vědomí jako cíl hlavně rozvoj skutečně toho poznání a kteří zároveň znají podmínky toho co to je poznávat.',\n",
       " 'kteří prostě vědí že si nemůžete nechat říci a do konce listopadu pánové tady je potřeba jako vymyslet žárovku a jestli teda jako nevíte jak na to tak jste neschopní my vás vystavíme do konkurence s jinýma a my prostě tu žárovku jako vymyslet žárovku je něco co nevzniká na vnější požadavek popud ba dokonce ani na souzvuk hlasů .',\n",
       " 'daniel takáč moderátor a vy si myslíte že rektor něco takového dělat bude?',\n",
       " 'rektor který je mimochodem volem akademickým senátem tedy tou akademickou obcí?',\n",
       " 'stanislav štech prorektor pro rozvoj univerzita karlova dosud.',\n",
       " 'dosud je navrhován zatím.',\n",
       " 'daniel takáč moderátor má být i dále.',\n",
       " 'stanislav štech prorektor pro rozvoj univerzita karlova no víte ano.',\n",
       " 'on má být navržen jestliže teda nebude ovšem se líbit správní radě tak bude veto a nikdo úplně přesně neví co bude dál jak se dál bude postupovat.',\n",
       " 'říkají že statut vysoké školy souzvuk hlasů .',\n",
       " 'daniel takáč moderátor pan wilhelm v české televizi ráno říkal že za určitých podmínek senát bude moci onu radu přehlasovat asi nějakou větší většinou.',\n",
       " 'takto bylo ráno uvedeno pravda ve věcnému záměru nic takového není.',\n",
       " 'stanislav štech prorektor pro rozvoj univerzita karlova není a je to tak že snad si to mohou upravit statuty.',\n",
       " 'víte v některých těch debatách tady o těch detailech opravdu jsme na velmi tenkém ledě.',\n",
       " 'to se měnilo a mění třeba jako během roku třikrát některé věci.',\n",
       " 'teď něco odešlo do atd.',\n",
       " 'daniel takáč moderátor čerpám z toho co teď je na stránkách úřadu vlády tedy jo a tam to není tedy to nějaké následné pravidlo.',\n",
       " 'nicméně když si ho upraví statut není to věc který tedy mimochodem také připravuje akademický senát tak ať si senáty samy v rámci té samosprávy zařídí ty konfliktní situace.',\n",
       " 'stanislav štech prorektor pro rozvoj univerzita karlova ano.',\n",
       " 'ano.',\n",
       " 'ale nezapomeňte že v tom návrhu je to že ta správní rada může velmi významným způsobem tlačit vlastně na tu akademickou souzvuk hlasů .',\n",
       " 'daniel takáč moderátor rada vysoké školy.',\n",
       " 'stanislav štech prorektor pro rozvoj univerzita karlova pardon rada vysoké školy já to ještě říkám postaru.',\n",
       " 'daniel takáč moderátor souzvuk hlasů správní rada ano.',\n",
       " 'stanislav štech prorektor pro rozvoj univerzita karlova ostatně nevím proč je tam správní to by tam klidně mohlo zůstat.',\n",
       " 'a jaksi může přesto že má dneska nové pravomoci tak může ovlivnit jako dlouhodobý záměr přes vlastně pravidla financování přes tyto záležitosti tak může abych tak řekl přitlačit je ke zdi tu akademickou obec.',\n",
       " 'daniel takáč moderátor no a není to dobře že právě ta kontrola zvenku že ta vysoká škola bude víc s tím vnějším okolím žít?',\n",
       " 'stanislav štech prorektor pro rozvoj univerzita karlova ale ona s ním nežije.',\n",
       " 'snad prokázal někdo někdy že v drtivé většině na všech vysokých školách nežijeme v kontaktu tou vnější realitou že ji nevnímáme?',\n",
       " 'daniel takáč moderátor někdo to právě tvrdí že vysoké školy jsou tak trochu odtrženy.',\n",
       " 'stanislav štech prorektor pro rozvoj univerzita karlova prosím vás tohle to je starý fór který se říká v podstatě od canta lumulta 200 let se říká.',\n",
       " 'no proč?',\n",
       " 'protože ti lidé jsou samozřejmě povahou své činnosti nesrozumitelný tomu vnějšku.',\n",
       " 'ano jako víte ono jaksi pracovat duševně a něco jako bádat tak je samozřejmě podivné z vnějšího pozorování když člověk jen třeba sedí nebo jen tak divně se jako povaluje jenom tak jako chodí.',\n",
       " 'teď něco ho najednou napadne.',\n",
       " 'jako jak ho máte vyhodnotit?',\n",
       " 'pomocí nějakého jednoho společného mustru.',\n",
       " 'takže ono to vypadá že ti lidé vůbec nekomunikují s vnějškem.',\n",
       " 'vždyť to není pravda.',\n",
       " 'kdyby to byla pravda tak bychom nemohli zvládnout všechny ty úkoly za posledních zhruba 10 až 15 let.',\n",
       " 'daniel takáč moderátor na chatu vojtěch hejl dobrý den budou se k protestu přidávat i ostatní vysoké školy nebo je to jen iniciativa univerzity karlovy?',\n",
       " 'patrně jde o ten dnešek.',\n",
       " 'vy jste to jaksi materializovali jak bych tak řekl do shromáždění házení melounu informacemi o tom že budou petice možná i stávky.',\n",
       " 'stanislav štech prorektor pro rozvoj univerzita karlova podívejte se první věc.',\n",
       " 'závisí to na reakci v současné chvíli už tedy vlády na to jak se budou dále věci vyvíjet takže nemohu říci za všech okolností budeme tady jaksi vyzývat ke stávkám rebeliím.',\n",
       " 'to jsme taky nikdy neřekli.',\n",
       " 'za druhé to shromáždění které jsme svolali je dokonce velmi jako bych řekl akademického kodexu.',\n",
       " 'my jsme řekli ale ne všichni vědí co tam je.',\n",
       " 'ne všichni vědí co je potřeba sice probrat seznámit se říct kritická místa která vidíme a dát období šanci i lidem aby si to nastudovali a řekli ne vy jste třeba ne úplně přesně některé věci tvrdili.',\n",
       " 'pojďme jaksi se s tím pořádně obeznámit.',\n",
       " 'to je ta druhá věc.',\n",
       " 'a třetí věc je jestli že bude ta situace zablokovaná tak že tam budou skutečně ty věci které jsou pro nás nepřekročitelné tak my jsme samozřejmě v dnešní rezoluci za těchto podmínek vyzvali ostatní vysoké školy jejich akademické obce aby se k nám připojily.',\n",
       " 'daniel takáč moderátor třeba i k té stávce.',\n",
       " 'jste ochotni dojít až do stávky?',\n",
       " 'stanislav štech prorektor pro rozvoj univerzita karlova to víte to je zase taková hypotetická záležitost.',\n",
       " 'když ta věc se bude vyvíjet tak že nám nic jiného nezbyde.',\n",
       " 'daniel takáč moderátor no tak pak když to bude tak souzvuk hlasů .',\n",
       " 'stanislav štech prorektor pro rozvoj univerzita karlova ano no samozřejmě to je poslední a to je vždycky poslední.',\n",
       " 'daniel takáč moderátor jiřina na chatu pane prorektore je někde na webu k dispozici vaše představa reformy vysokých škol?',\n",
       " 'předpokládám že tady mluvíte za celou akademickou obec nikoliv jen za univerzitu karlovu.',\n",
       " 'kritizovat ministerstvo dovede každý ale co děláte pro reformy vy akademici?',\n",
       " 'tedy je někde nějaký váš materiál?',\n",
       " 'stanislav štech prorektor pro rozvoj univerzita karlova poslyšte jako já osobně nemám moc rád situace kdy kritizuj jen tehdy to se říkávalo soudruhům můžeš kritizovat sám když konstruktivně .',\n",
       " 'tedy jak to máme udělat my?',\n",
       " 'jako my nejsme skutečně jaksi ministerstvo a ministr přesto jsme tohle předjímali.',\n",
       " 'předjímali jsme to už před třemi lety.',\n",
       " 'na stránkách mohu naší divačce doporučit na stránkách www.cuni.cz.',\n",
       " 'daniel takáč moderátor to jsou stránky karlovy univerzity.',\n",
       " 'stanislav štech prorektor pro rozvoj univerzita karlova univerzity je i fórum.',\n",
       " 'tam když se klikne a klikne se na téma nebo se naťuká perspektivy dalšího vývoje českého vysokého školství tak tam najde náš materiál který jsme teda velmi levně a lacino tedy ve své pracovní době vypracovali jako alternativu k tomu k té takzvané bílé knize tenkrát.',\n",
       " 'upozorňuji že to je staré 3 roky.',\n",
       " 'jinými slovy aby nikdo neříkal ale teďka ve věcném záměru je něco jiného.',\n",
       " 'jinými slovy ono by to chtělo aktualizovat a mluvit o tom.',\n",
       " 'a to si myslím že souzvuk hlasů .',\n",
       " 'daniel takáč moderátor čili nějakou reformu k reformě taky připravíte a zveřejníte?',\n",
       " 'stanislav štech prorektor pro rozvoj univerzita karlova to vám teď nemohu říct.',\n",
       " 'o tom jsme až takhle nemluvili.',\n",
       " 'já bych chtěl jenom jednu věc na to úvodní říci že se všichni shodnou že musí být hluboká reforma není pravda.',\n",
       " 'univerzita kalova už tenkrát i dneska tvrdí že když se provede důkladný rozbor tak se zjistí že stačila pravděpodobně komplexní novela.',\n",
       " 'a my jsme navrhli témata pro novelizaci současného zákona o vysokých školách.',\n",
       " 'čili není to tak že je nutno udělat totální kotrmelec a všechno rozhodit a přeorat a ještě riskovat že v poslanecké sněmovně se na to napojí všelijaké zajímavé přílepky.',\n",
       " 'daniel takáč moderátor není to tak že na tu komplexní reformu se napojují lépe ty přílepky v té sněmovně?',\n",
       " 'stanislav štech prorektor pro rozvoj univerzita karlova neřekl bych.',\n",
       " 'neřekl bych.',\n",
       " 'samozřejmě je to podobný problém ale jakoby vy tam zachovává my tam navrhujeme zachovat některé pilíře které se osvědčily.',\n",
       " 'daniel takáč moderátor jan hejl na chatu dobrý večer jak může skupina nespokojených s věcnými v ruce podněcovat k sociálním nepokojům?',\n",
       " 'jediný kdo svými kroky podněcuje k nepokojům je ministr dobeš se svými návrhy které každý den mění.',\n",
       " 'vyzvete ministra k odchodu?',\n",
       " 'stanislav štech prorektor pro rozvoj univerzita karlova tak podívejte se já jsem byl já vím na co to naráží.',\n",
       " 'na tu reakci že jsme diskutovali s naší akademickou obcí a už jsme se dozvěděli že pan ministr na to reagoval způsobem tím že rektor hampl neodpovědný člověk podněcuje k sociálním nepokojům.',\n",
       " 'daniel takáč moderátor souzvuk hlasů na kopeček.',\n",
       " 'stanislav štech prorektor pro rozvoj univerzita karlova víte já vám nebudu ani tady říkat co mi to všechno připomíná jaké analogie bylo by to laciné.',\n",
       " 'ono k těm věcem z minulého režimu se snadno jaksi vždycky najde nějaké přirovnání.',\n",
       " 'daniel takáč moderátor dobře a podstata té otázky vyzvete ministra k odchodu?',\n",
       " 'stanislav štech prorektor pro rozvoj univerzita karlova podívejte se jestliže se to bude to je jako s tou stávkou.',\n",
       " 'jestliže se situace bude vyvíjet takto a bude nadále trvat něco co bych označil jako arogantní.',\n",
       " 'mimochodem všimněte si my říkáme že hrozí po přijetí nového zákona že by existovala politická ingerence.',\n",
       " 'říká se nám ne to je vyloučeno.',\n",
       " 'ale už teď když se objeví něco co má charakter akademického shromáždění s věcnou argumentací tak se dozvíme že má přijít rektor nezávisle svobodné veřejné vysoké školy na kobereček?',\n",
       " 'bude mi to muset vysvětlit nebo jak zněla.',\n",
       " 'já teda vycházím z toho co je v médiích.',\n",
       " 'já jsem s panem ministrem nemluvil ale je li to pravda tak jako bych řekl že potvrzuje naše domněnky a obavy.',\n",
       " 'daniel takáč moderátor facebook.',\n",
       " 'jiřina se tam ptá nelíbí se mi že akademici organizují protesty popichují studenty k demonstracím atd.',\n",
       " 'zástupci vysokých škol jednali s ministrem tak si měli všechno vyjasnit na jednání.',\n",
       " 'dát připomínky a stát si za nimi.',\n",
       " 'nebo snad chcete říct že ministerstvo jenom přikazuje?',\n",
       " 'stanislav štech prorektor pro rozvoj univerzita karlova ne to určitě ne.',\n",
       " 'já bych teda paní jiřině připomněl že ono jako podněcuje popichuje já bych řekl že jsme ještě velmi umírnění velmi střízliví že jsme se snažili všechny argumenty jaksi popsat že máme.',\n",
       " 'vydali jsme krátkého kritického průvodce ve kterém je napsáno co je v návrhu bez jakéhokoliv zkreslování.',\n",
       " 'proč asi zřejmě je ten motiv a proč je to špatně.',\n",
       " 'podle nás nevím co na tom je jako nepřijatelného.',\n",
       " 'podněcování.',\n",
       " 'tak jestliže tady hrozí něco.',\n",
       " 'víte to je tak jako jestliže teďka máme udělat třeba nějakou škodu že jsme rozbili pár melounů a nebo by se snad někde převrátila nějaká popelnice při našich bouřlivých protestech našich studentů tak je to pořád možná menší škoda než kdybychom za 5 let zjistili jako že se jaksi v našem vzdělávacím systému došlo třeba k zániku celých oborů nebo celých fakult atd.',\n",
       " 'že se prostě zužuje vlastně souzvuk hlasů .',\n",
       " 'daniel takáč moderátor proč by měly zanikat obory či fakulty?',\n",
       " 'stanislav štech prorektor pro rozvoj univerzita karlova no podívejte se když se podíváte na zkušenost třeba britských vysokých škol a univerzit někdy od roku 2010 a když zjistíte že ze dne na den během jednoho dvou měsíců se přijde a řekne se tak tady od září řekne se to v červnu třeba končí katedrála sociologie filozofie etnografie.',\n",
       " 'to se nedá dohledat doložit.',\n",
       " 'ono to fakt se to nerentuje.',\n",
       " 'to už fakt nejde souzvuk hlasů .',\n",
       " 'daniel takáč moderátor kdo přijde a řekne že tahle katedra končí?',\n",
       " 'stanislav štech prorektor pro rozvoj univerzita karlova no protože jestliže zavedete ten komplex těch změn tak první věc kterou uděláte samozřejmě to už se neříká v tom kontextu je že vám řádně vám zredukují financování ze státního rozpočtu.',\n",
       " 'dávno pryč je argumentace z roku 2008.',\n",
       " 'to všechno je bonus navíc abyste se mohli rozvíjet.',\n",
       " 'daniel takáč moderátor a teď myslíte školné?',\n",
       " 'stanislav štech prorektor pro rozvoj univerzita karlova ano například.',\n",
       " 'já to beru v celém kontextu.',\n",
       " 'jestliže tam je nějaká správní rada složená z externí která říká no tak změňte trochu ten výzkumný program aby vám to něco přinášelo.',\n",
       " 'jestliže k tomu jaksi jako existují příklady tohoto a existují příklady z 2. strany atlantiku kdy nám kolegové z new york univerzity říkají víte ale ono je to tak že jsme museli zrušit po 3 letech celý jeden výzkumný program v oblasti biochemie.',\n",
       " 'takže nám prostě řekli to teď ne.',\n",
       " 'my teď jedeme na viagru nebo něco jiného podobného prostě protože teď se zjistilo že nám to přinese víc peněz a my si zaplatíme další školní rok?',\n",
       " 'já jenom říkám že tyto věci již ve světě existují.',\n",
       " 'proč proboha se i tyto zkušenosti neprobíraly nerozebíraly?',\n",
       " 'a neprobíralo se třeba jak jim třeba zabránit.',\n",
       " 'daniel takáč moderátor a nebylo to třeba proto že ta biochemie když jste tedy zmínil tenhle konkrétní příklad že vlastně nic nevymýšlela nic nepřinášela a tak se prostě škola věnuje něčemu jinému.',\n",
       " 'stanislav štech prorektor pro rozvoj univerzita karlova no no ale tak je to jak víte se vším.',\n",
       " 'jako ta naše kultura.',\n",
       " 'ta funguje na tom že dlouho se nic nevymýšlí a že to rozhodně není když někdo říká kontrolujme po roce.',\n",
       " 'no tak samozřejmě to aby nikdo nechodil do práce a nic nedělal je jedna věc.',\n",
       " 'druhá věc je že nemůžete říct tomu budoucímu edisonovi jako ta žárovka už je listopad.',\n",
       " 'daniel takáč moderátor venoušek na chatu je v daném zákoně něco co podle vás může zlepšit vysoké školství v čr?',\n",
       " 'jakými konkrétními kroky byste ho zlepšil v případě možností?',\n",
       " 'jak může školné zlepšit veřejné školství a zvýšit motivaci studenta?',\n",
       " 'jak tvrdí ministr resp. tvrdil pan vitula?',\n",
       " 'tak to je hned několik otázek.',\n",
       " 'stanislav štech prorektor pro rozvoj univerzita karlova to je moc.',\n",
       " 'nechte mi to tam jestli můžete.',\n",
       " 'daniel takáč moderátor nebojte nechám to tam.',\n",
       " 'já bych to taky zapomněl.',\n",
       " 'tedy je v daném zákoně něco co může zlepšit vysoké školství?',\n",
       " 'stanislav štech prorektor pro rozvoj univerzita karlova ale to víte že no.',\n",
       " 'je tam to co jsme dlouho prosazovali v tom našem materiálu perspektivy.',\n",
       " 'je tam náznak nebo návrh takzvaného kontraktového financování nebo rámcové smlouvy mezi vysokou školou a ministerstvem.',\n",
       " 'byl tam teď nevím přesně v jaké podobě to je teďka na tom vládním serveru ale jako náznak toho že by tu měl být větší důraz na kvalitu a něco jako diferenciace nebo typologie vysokých škol.',\n",
       " 'ale náznak protože my jinak víme že není li příliš ochota k tomu aby se jaksi nám dávala nějaká záruka aspoň na 3 roky na 5let ale my nefungujeme v ročním cyklu.',\n",
       " 'my fungujeme v cyklu 3 nebo 3 2 nebo prostě 5 let.',\n",
       " 'jako my nemůžeme čekat že teďka něco začneme se studenty dostat na to peníze a za rok nám někdo řekne vy už máte jenom půlku.',\n",
       " 'jinými slovy tohle to je zárodek dobré myšlenky.',\n",
       " 'daniel takáč moderátor a jsou tam konkrétní kroky ke zlepšení?',\n",
       " 'stanislav štech prorektor pro rozvoj univerzita karlova ano ty jsou.',\n",
       " 'daniel takáč moderátor jeden nejdůležitější co by se jako to kardinální mělo udělat aby se zlepšilo vysokoškolské vzdělávání?',\n",
       " 'stanislav štech prorektor pro rozvoj univerzita karlova to je úplně jednoduchý.',\n",
       " 'je potřeba zvážit výpadek signálu a říci že musíme z posledních příček ve financování vysokého školství veřejného z veřejných prostředků musíme výrazně přidat.',\n",
       " 'prostě jestliže jsme na spodku no tak nemůžeme se tvářit že jako tak buďte pružnější a nasmlouvejte si víc podniků který vám něco zaplatí.',\n",
       " 'podle mě toto je naprosto kardinální krok.',\n",
       " 'daniel takáč moderátor více veřejných peněz.',\n",
       " 'stanislav štech prorektor pro rozvoj univerzita karlova druhá vázat to na opravdu seriózní fungování dlouhodobých záměrů a jejich analýza kritická ze strany státu samozřejmě i toho našeho námi přijatého a na to navázané právě ty rámcové smlouvy.',\n",
       " 'aby se nám řeklo tohle jste si chtěli dělat ale my si myslíme že ne tak úplně.',\n",
       " 'my dáme své argumenty oni dají své argumenty tedy za představitele státu a my si řekneme za kolik peněz teda a kdy a v jaké formě bude kontrolováno to plnění.',\n",
       " 'daniel takáč moderátor jak může školné zlepšit veřejné školství a zvýšit motivaci studenta?',\n",
       " 'stanislav štech prorektor pro rozvoj univerzita karlova víte co já trošku se pohybuji v oblasti pedagogický psycholog jsem a pohybuji se i v oblasti takže čtu sociologickou literaturu sociologii vzdělávání a institucí.',\n",
       " 'já se moc omlouvám.',\n",
       " 'někdo mě nařkne z ideologické předpojatosti.',\n",
       " 'já neznám jediný argument že by školné zvýšilo a zlepšilo kvalitu veřejného školství.',\n",
       " 'takový neexistuje.',\n",
       " 'ať mi někdo předloží že existuje studie která prokáže zvyšování kvality větší motivaci studentů atd.',\n",
       " 'všichni zahraniční kolegové vám píší že to prostě nic takového že tam je nulová korelace.',\n",
       " 'vidíme to nakonec na soukromém školství.',\n",
       " 'platí a je to snad jako kvalitnější nebo rychlejší?',\n",
       " 'naopak víme že pokud jde třeba ze soukromé vysoké školy tak je to spíš většina neříkám všechny.',\n",
       " 'ale drtivá většina z nich tam není zaručeno to že když platíte tak máte kvalitnější učitele kvalitnější výuku a vy jste více motivováni.',\n",
       " 'nic takového není nikde prokázáno.',\n",
       " 'daniel takáč moderátor v hyde parku si teď pojďme řekněme pro zahraniční zkušenosti s tím jak vypadá vysokoškolské vzdělávání.',\n",
       " 'ladislav tvarůžek teď prostřednictvím skypu je s námi ve spojení tedy ve spojení s hyde parkem.',\n",
       " 'ladislave dobrý večer přeju.',\n",
       " 'ladislav tvarůžek student dobrý večer do studia.',\n",
       " 'daniel takáč moderátor první věc.',\n",
       " 'jak se tedy ve velké británii studuje a nějaké srovnání se studiem na české vysoké škole nebo se studiem v čr.',\n",
       " 'můžete to nějak porovnat?',\n",
       " 'ladislav tvarůžek student takže já studuji osobně magisterský kurz ekonomie.',\n",
       " 'studuje se velice intenzivně tzn. že je zde docela velký důraz na práci mimo kurzy a skupinovou práci.',\n",
       " 'a v porovnání s českým studiem bych to srovnal tak že si myslím že je zde úroveň vcelku srovnatelná i díky tomu že bych jinak neměl tu možnost to magisterské studium zde vlastně mít možnost dostudovat.',\n",
       " 'a na druhou stranu bych řekl ale zde je vyšší asi zpětná vazby od profesorů ohledně toho jak vlastně studenti jsou spokojeni s látkou s přístupem učitelů atd.',\n",
       " 'daniel takáč moderátor jsou nároky učitelů výrazně vyšší než co se třeba říká o studiu u nás?',\n",
       " 'nebo jestli máte to přímé srovnání se studiem na české vysoké škole.',\n",
       " 'ladislav tvarůžek student řekl bych že to je vyšší.',\n",
       " 'asi záleží na tom na jakou školu jdete.',\n",
       " 'pokud půjdete na prestižní školu britskou tak samozřejmě ty nároky si myslím že tam budou ještě vyšší než jsou u nás na prestižní vysoké škole.',\n",
       " 'daniel takáč moderátor my jsme tady mluvili o těch vnějších ingerencích z businessu z politiky.',\n",
       " 'mluví se o něčem takovém ve velké británii nebo to jsou věci které vás se třeba vůbec nedotýkají ani jste to neslyšel mezi studenty?',\n",
       " 'ladislav tvarůžek student můžete mi trochu přiblížit to téma já jsem bohužel asi neslyšel.',\n",
       " 'daniel takáč moderátor asi ne úplně všechno.',\n",
       " 'mluvili jsme o tom že nový vysokoškolský zákon který je zatím řekněme v prvotních stádiích tady v čr tak má podle názorů řady pracovníků vysokých škol i řady studentů umožnit strukturou orgánů a jejich pravomocemi v nové podobě zásahy zvenčí od businessu od politiků například.',\n",
       " 'to je ta podstata té výhrady.',\n",
       " 'mluví se o něčem takovém ve velké británii že by businessmani politici a různé jiné vnější skupiny zasahovaly do fungování vysokých škol?',\n",
       " 'je to tam vnímáno jako problém nebo ne?',\n",
       " 'ladislav tvarůžek student já si myslím že o tom tématu jsem zde neslyšel.',\n",
       " 'je možné že se mýlím ale myslím si že se zde mluví hlavně o tom jaký vliv mají na studium studenti samotní že vlastně zde samotné unie studentské mají mnohem větší vliv než takový který je v čr.',\n",
       " 'daniel takáč moderátor poslední věc.',\n",
       " 'školné.',\n",
       " 'že se ve velké británii platí víme.',\n",
       " 'jak je vysoké a jak se na to studenti lidově řečeno tváří?',\n",
       " 'ladislav tvarůžek student školné je vysoké.',\n",
       " 'já to vím z vlastní zkušenosti protože platím stejné školné jako britští studenti.',\n",
       " 'daniel takáč moderátor to je kolik jestli se můžu zeptat?',\n",
       " 'jak je vysoké to školné?',\n",
       " 'ladislav tvarůžek student za prestižní obor ekonomie je to 13 410 liber na rok.',\n",
       " 'daniel takáč moderátor a ty reakce na tuto výši školného?',\n",
       " 'ladislav tvarůžek student reakce jsou takové že se samozřejmě se očekává to že kvalita studia tzn. jak ta zpětná vazba přednášky materiály budou na té úrovni za kterou si platíte ale otázka je jestli takhle vysokou hodnotu to má nebo ne.',\n",
       " 'daniel takáč moderátor vláďo děkujeme za informace a zdravíme do velké británie.',\n",
       " 'na shledanou a dobrý večer.',\n",
       " 'ladislav tvarůžek student nemáte zač.',\n",
       " 'na shledanou.',\n",
       " 'daniel takáč moderátor tak stručná reakce na jednoho ze studentů.',\n",
       " 'stanislav štech prorektor pro rozvoj univerzita karlova velmi stručná samozřejmě nevím přesně jaký to byl obor a škola takže těžko můžu posuzovat a zobecňovat z jedné zkušenosti.',\n",
       " 'já samozřejmě beru ty zkušenosti jako autentické neshazuji je jenom prostě mi přijde že nevědět o tom že v británii koluje výbušný text který se jmenuje indefents of public hair edjucation na obranu veřejného vysokého školství podepsaný čelnímu představiteli oxfordu a cambridge což jistě bude taky patřit mezi ty prestižní školy.',\n",
       " 'nevědět že tam v devíti tezích je varováno před ohrožením toho jak dál vlastně zvyšování pravomocí těch rad správních rad a vlastně nekontrolované zvyšování školného jak poškodí vysoké školství tak já samozřejmě jako chápu že nemůže pan kolega to znát nebo se s tím seznámit ale divil bych se jakže by to byl jenom takový nějaký papír okrajový.',\n",
       " 'uvnitř toho papíru uvnitř toho tedy té zprávy tam se právě mluví i o tom co vlastně přineslo nebo nepřinesla ta očekávání v tom větším propojení a vnější svět a trošku zvyšovat školné.',\n",
       " 'ale bohužel musím říct že kdesi na straně můžu to dát k dispozici nebo odkázat na to na straně 3 nebo 4 toho dokumentu se praví že jako hrozným zjištěním bylo to že vlastně tyhlety zvyšování té motivace nevedlo k vyšší kvalitě a k vyšší konkurence schopnosti jak u těch jednotlivých škol.',\n",
       " 'když to překročí určitou hranici.',\n",
       " 'daniel takáč moderátor myslíte motivaci jaké to že do toho zasahuje vnějšek nebo to.',\n",
       " 'stanislav štech prorektor pro rozvoj univerzita karlova tok že se školné to že si mohou zasoutěžit školy z malinko nižší že některý obor se bude platit víc atd. ono se ukázalo že vlastně to tak není jak například jedna z těch britských zpráva l alespoň tedy za rok 2010 říká že ono to vedlo spíše k tomu že vám to tzv. kanalizuje určité sociální skupiny lidí a prostě lidi kteří na to nemají ani nemají na to splácet to 30 let tak ty jdou prostě na ty nejlevnější obory a jdou na speciální práci zdravotnictví učitelství atd. zatímco ti kteří na to mají jdou na tu ekonomii a tak.',\n",
       " 'daniel takáč moderátor chat tam je další otázka od petra.',\n",
       " 'řekněte co je špatného na tom aby si student vysoké školy něco málo na studium zaplatil ze svého proč by to všem měli platit ti ostatní.?',\n",
       " 'každý by chtěl studovat zadarmo pak má téměř vždy vyšší plat anebo uteče do zahraničí.',\n",
       " 'a navíc platím víc si toho vážím.',\n",
       " 'stanislav štech prorektor pro rozvoj univerzita karlova no tak nemá téměř vždy vyšší plat to by se měl podívat na statistiky.',\n",
       " 'daniel takáč moderátor jedna z reakcí na našem webu dnes potvrzuje to co říkáte tedy.',\n",
       " 'stanislav štech prorektor pro rozvoj univerzita karlova uteče do zahraničí prosím vás nepřeceňujme to víte co bylo kolem lékařů.',\n",
       " 'děkujeme odejděte.',\n",
       " 'a kolik vlastně reálně opravdu to mělo na to nakročeno a jak to s tím je já prostě si myslím že to takhle není a ano platím víc si toho vážím.',\n",
       " 'to je velká otázka já vzpomínám na kolegu profesora psychologie právě z newyorské univerzity který mi říkal ano platím jsem drzejší a víc chci pro výsledný produkt.',\n",
       " 'to znamená jako vždyť přeci platím jestli mi to potřebujete dát až na druhý termín taj já si připlatím.',\n",
       " 'takže ono to není tak úplně jednoznačné.',\n",
       " 'a pokud jde o to.',\n",
       " 'daniel takáč moderátor dobře a není tam to to je totiž jeden z argumentů který se objevuje že ten student toho chce víc od té školy aby ho líp učila víc.',\n",
       " 'stanislav štech prorektor pro rozvoj univerzita karlova není potvrzeno je to jedna ze spekulativních domněnek.',\n",
       " 'není žádná seriozní studie která by přesvědčivě ukázala že pak toho chce víc a chce něco kvalitně.',\n",
       " 'chce rychleji ukončit to bezesporu protože vám narůstá dluh že jo.',\n",
       " 'co je špatného na tom aby si zaplatil ze svého a on platí teď.',\n",
       " 'prosím vás výzkumu eurostudent eurobaromatrů ukazují jak už teď vlastně je to obrovská investice ale hlavně proč my máme co to je zase za slovník jako jako za dělnické peníze no dobře tak jako ano teď je to tak že se přeci tady musí sestavovat nějaké minimum společenské solidarity a vazeb.',\n",
       " 'já který již nemám děti na vysoké škole rád ze svých daní zaplatí vzdělávání v učňovských oborech které jsou potřeba třeba svářečů a nebudu přeci říkat moje dítě se nevzdělává na svářeče tak co bych to platil.',\n",
       " 'já si myslím že tady je třeba se vrátit k naprosto základním myšlenkám a právě formulovat v těch východiscích stojíme o to aby tady bylo veřejné tedy bez školného bez poplatků vzdělávání.',\n",
       " 'jakém rozsahu v jakých oborech a prostě tohleto si musíme říct a nebo ne je to každého věc a každý ať si zaplatí a skončí to tím že který rodič na to budou mít tak si zaplatí obor na který budou mít.',\n",
       " 'daniel takáč moderátor vyjádření toho že je to investice je to investice do mě.',\n",
       " 'stanislav štech prorektor pro rozvoj univerzita karlova je to investice do společnosti.',\n",
       " 'daniel takáč moderátor finanční vyjádření není na místě?',\n",
       " 'stanislav štech prorektor pro rozvoj univerzita karlova ne. je jen část jako vždycky.',\n",
       " 'znáte lidové přísloví jistě i diváci co máš v hlavě to ti nikdo neukradne.',\n",
       " 'ukrást lze pouze statek který je opravdu statkem pohybujícím se k tržní měně.',\n",
       " 'co máš v hlavě není prostě je hybridní povahy smíšené povahy ale hlavně ty efekty které to má.',\n",
       " 'to přeci není jenom to že já teď budu mít skvělej job mimochodem stále méně ho máme a v krizi ještě méně za ten vysokoškolský diplom.',\n",
       " 'a ta šance je větší i v těch zemích kde ten diferenciál mzdový je už dneska 1 2 mimochodem třeba v těch skandinávských některých ale hlavně my víme že takto vzdělaní lidé se té společnosti vyplácí v jiných oblastech zdravotní chování bezpečnostní chování kultura v obcích atd.',\n",
       " 'daniel takáč moderátor jarda na chatu.',\n",
       " 'proč má stát financovat studenty pochybných oborů jak je filozofie takové obory by měly být zpoplatněny a naopak bez školného by měly zůstat užitečné obory které podporují konkurence schopnost a o jejichž absolventy je zájem.',\n",
       " 'stanislav štech prorektor pro rozvoj univerzita karlova no to je výborné to je jakože to skočí prostě tím že až nám někdo řekne které že jsou ty pro tu konkurenceschopnost nevím na jak dlouho.',\n",
       " 'oni se taky mění tak jako ty ano že jo ty budeme a jak my víme.',\n",
       " 'prosím vás filozofie je pochybný obor to nevím tedy to já si jí tedy velmi vážím.',\n",
       " 'daniel takáč moderátor tak podle jardova názoru patrně asi ano.',\n",
       " 'stanislav štech prorektor pro rozvoj univerzita karlova já bych to je přece od jardy argument jako v čem je pochybný obor té filozofie já mám jenom jednu zkušenost vždycky v historii a to není jenom teď ale řekněme zpátky už zase znovu nějakých 200 let tak vždycky když se začínalo tím že se řeklo.právě obor jako filozofie nebo takové ty neužitečné jak s nimi zatočíme nebo jak je nějakým způsobem zredukujeme tak to začal být začátek cesty ke špatným koncům.',\n",
       " 'ono se najednou začalo zjišťovat že prostě my potřebujeme některé neužitečné obory.',\n",
       " 'daniel takáč moderátor dobrý večer hyde park daniel telefonujete k nám a můžete se ptát stanislava štecha.',\n",
       " 'kdopak se dovolal?',\n",
       " 'hana karbanová telefonující dobrý den tady je hana karbanová.',\n",
       " 'prosím vás pěkně já bych se ráda zeptala na toto já přicházím do styku s desítkami studentů kteří by rádi u nás studovali na vysokých školách a pocházejí ze zemí které nejsou členy eu a když se jich zeptám proč přišli studovat nebo by rádi studovali v naší republice tak oni odpovídají protože u vás je studium na vysokých školách zadarmo .',\n",
       " 'jak je to zpoplatněním se studentů kteří nejsou z eu a pokud neplatí za vysokoškolské vzdělání není to na úkor našich studentů.',\n",
       " 'daniel takáč moderátor hanko děkujeme pane profesore.',\n",
       " 'stanislav štech prorektor pro rozvoj univerzita karlova no není to na úkor našich studentů. to bychom museli rozlišit dvě kategorie zahraniční studenti kteří studují v cizím jazyce ten program ti platí a neplatí málo.',\n",
       " 'daniel takáč moderátor kolik?',\n",
       " 'stanislav štech prorektor pro rozvoj univerzita karlova podle oborů.',\n",
       " 'samozřejmě kdy 100 000 na medicínu.',\n",
       " 'daniel takáč moderátor podle informací které jsem dostal jen to asi 1000 euro teďko nevím jestli semestr nebo.',\n",
       " 'stanislav štech prorektor pro rozvoj univerzita karlova ono se to liší podle oborů samozřejmě medicína je výrazně dražší než jiné ale jaksi tam se samozřejmě platí to není.',\n",
       " 'jestliže ten student studuje v českém jazyce.',\n",
       " 'zejména je li to student ze zemí eu tak se na něj nahlíží jako prostě na našeho studenta a pak je to v pořádku přeci jsme tvrdili že chceme společný evropský prostor atd. jsou li mimo zemi eu je to zase trošku jiný příběh.',\n",
       " 'daniel takáč moderátor tak další otázka psanou podobou v dnešním hyde parku je od lucie m.',\n",
       " 'dobrý večer je faktem že dochází k inflaci vysokých škol studentů je pořád víc ale uplatnění na trhu nenachází nedojde zavedením školného pouze k tomu že veřejné vysoké školy se změní vlastně na soukromé a budou přijímat každého nikoho nevyhodí jenom aby platil školné.',\n",
       " 'stanislav štech prorektor pro rozvoj univerzita karlova no druhá část ano toho se bojíme proto taky proti tomu protestujeme.',\n",
       " 'samozřejmě. v soukromých školách není v těch návrzích ani slovo ale de facto všichni cítíme že to je vlastně zvýhodnění těch škol ale těch soukromých škol ale pokud by šlo o ty tak ta první část té otázky byla.',\n",
       " 'daniel takáč moderátor tak už jí asi nevrátíme.',\n",
       " 'stanislav štech prorektor pro rozvoj univerzita karlova no já jsem se zaměřil na tu druhou a to mě právě teďka vypadlo.',\n",
       " 'daniel takáč moderátor tak pokusíme se otázku vrátit.',\n",
       " 'to bych rád myslím že to bylo zajímavé to by se povést mohlo čímž děkuji režii.',\n",
       " 'inflace vysokých škol.',\n",
       " 'stanislav štech prorektor pro rozvoj univerzita karlova ano to je proto jsme nerad že to zmizelo tak takhle prosím vás k především není pravda že uplatnění na trhu nenacházejí tam prostě když se podíváte na tabulky a na ta čísla v jakých oborech a říká se třeba filozofie tady padlo a dneska nám to říkal pan děkan stehlík ano ale to není pravda jako existuje 0 5 nebo ani ne jedno procento absolventů filozofické fakulty který nemají do rok a to ještě záleží jak to měříme jestli do roka nebo do 18 měsíců nemají zaměstnání není to vůbec pravda že ti lidé nenachází nacházejí.',\n",
       " 'daniel takáč moderátor a inflace vysokých škol.',\n",
       " 'stanislav štech prorektor pro rozvoj univerzita karlova ale samozřejmě ale to je ten problém víte my tady nemluvíme o tom nejpodstatnějším ta otázka bohužel ještě nepadla řešíme systém a nebo vnitřek fungování a povahu fungování jednotlivých škol.',\n",
       " 'myslíte si že prostě proto že jsme nezvládli celek systému terciálního vzdělávání prostě protože do roku 2008 jsme slyšeli přijímejte přijímejte přijímejte jsme strašně pozadu musí být kvanta masy další škola si podala splnila li základní zejména víte podívejte se kolik soukromých škol bylo nějakým způsobem třeba akreditováno a jak se proměnila potom jejich zajištění a kvalita v průběhu času tak já si myslím že tohle jsou ty pravé problémy je to pravda existuje inflace vysokých škol.',\n",
       " 'podívejte se kolik jich je na počet obyvatel v německu podívejte se v jiných zemích a vidíte že jich je opravdu moc.',\n",
       " 'daniel takáč moderátor nabízíme další pohled od zahraničí další student který ví jak se ve světě studuje tentokrát prostřednictvím skypu zdravím petr kliku petře dobrý večer.',\n",
       " 'petr klika student dobrý večer.',\n",
       " 'daniel takáč moderátor vy jste studoval ve finsku pokud se nemýlím podobná otázka jako na láďu to srovnání studium v čechách studium v zemi kde jste byl tedy finsko.',\n",
       " 'petr klika student tak studium ve finsku mě se největší rozdíl který můžu říct s ohledem na české školství bylo v tom že tam je daleko větší důraz na týmovou práci.',\n",
       " 'pracuje se vlastně na konkrétních projektech které jsou právě cíleném pro to je jak tady bylo řečeno jeden příklad z jednoho předmětu na začátku semestru vlastně přišli 4 klienti kteří dbá nabízeli jakýsi projekt my jsme si potom mohli vybrat valně téma který nás zaujalo byli jsme rozděleni do nějakého týmu a pak vlastně v rámci celého toho semestru jsem pracovali na projektu konkrétně přímo pro toho klienta tak to bych řekl že je největší rozdíl.',\n",
       " 'daniel takáč moderátor tedy to co jsme tady v hyde parku taky rozebírali jakási vnější ingerence od byznysu od politiků což by měl podle odpůrců toho nového vysokoškolského zákona nový vysokoškolský zákon znamenat.',\n",
       " 'to není problém ve finsku tam se na to takhle nedívá na akademické půdě nikdo?',\n",
       " 'petr klika student úplně přesně nevím ale z mého pohledu já s tím jakoby nemám problém naopak mě se to celkem líbí protože si myslím že ten student jakoby přichází do tý konkrétní praxe kterou pak může využít v rámci toho zaměstnání.',\n",
       " 'daniel takáč moderátor a to jste petře studoval ve finštině?',\n",
       " 'petr klika student studoval jsme v angličtině?',\n",
       " 'daniel takáč moderátor poslední věc školné ve finsku je anebo není?',\n",
       " 'petr klika student finsko je sociální stát jak víme takže školné není takže studenti mohou jak finští tak mezinárodní studenti studují zdarma.',\n",
       " 'naopak finští studenti ještě dostávají stipendium od státu takže ale jestli možná ještě srovnání já tedy v česku studuji na soukromé vysoké škole.',\n",
       " 'to znamená že se školným mám zkušenosti.',\n",
       " 'z mého pohledu školném není vůbec špatná věc mě to osobně motivuje protože vím že když budu studovat dobře tak školné vlastně platit nemusím protože nějaký stipendijní program a myslím si že je to pro toho studenta motivující aby na tu školu nekašlal ale více se snažil aby dosáhl dobrých výsledků.',\n",
       " 'daniel takáč moderátor petře máme tu prorektora univerzity karlovy chcete se ho na něco přímo takto zeptat?',\n",
       " 'petr klika student spíš bych jenom ještě komentoval tady co jsem zaslechl k tomu školnému.',\n",
       " 'já si myslím že právě naopak z mého pohledu v dnešní době mna vysokých školách studuje vyloženě hodně mladých lidí.',\n",
       " 'myslím že týká to bylo zmíněný a já si myslím že kdyby to školný se zavedlo i na státních školách takže by to tak jakoby zdravě prořídlo protože si myslím že spousta lidí studuje jenom z toho důvodu k aby měli jakoby nějaký výhody že jsou studenti aby případně měli nějaký titul ale myslím si že jakoby ve skutečnosti na tu školu více méně jakoby kašlou.',\n",
       " 'to si myslím že když by bylo zavedený školný ta by to zmizelo a vlastně to studium by se tím zkvalitnilo.',\n",
       " 'daniel takáč moderátor tak pane profesore tady máte příklad studenta kterého školné motivuje tak prosím zareagujte na to včetně toho že by vysoké školy zdravě prořídly kdyby bylo školné.',\n",
       " 'stanislav štech prorektor pro rozvoj univerzita karlova na to radši zapomenu to by mohlo být k tou jaksi nesrozumitelné .',\n",
       " 'daniel takáč moderátor nezapomínejte.',\n",
       " 'stanislav štech prorektor pro rozvoj univerzita karlova ale chci říci že tam je pikantní to že kolega říká jak je to báječný jak by to bylo dobrý chválí finské školství kde lidi dostávají ještě za to že studují .',\n",
       " 'stipendium a neplatí školné a existují věci které mají finové přímo v zákoně protože jak říkal náš kolega je to sociální stát takže to je jedna věc takže já tam trošičku cítím rozpor.',\n",
       " 'znamená to tedy že protože je v zemi kde není školné tak jako.',\n",
       " 'daniel takáč moderátor prosím.',\n",
       " 'přesně k tomu co petr říkal to znamená zaprvé je to motivující a druhé zdravě by prořídly vysoké školy?',\n",
       " 'stanislav štech prorektor pro rozvoj univerzita karlova počkejte ale asi to není motivující já se omlouvám jestliže je v zemi kde školné nejen že není ale ještě stát dávám za to že studuje a studuje se tam výborně.',\n",
       " 'daniel takáč moderátor on tam studoval semestr pokud se nemýlím on studuje tady na soukromé škole.',\n",
       " 'stanislav štech prorektor pro rozvoj univerzita karlova ano to já vám ale já jenom říkám že mi nepřijde potom jako proč by to mělo platit tady a tam ne já jenom říká já tam cítím prostě rozpornost v tom vyjádření takže to asi není ani tím jako jestli má někdo stipendium nebo tím jestli je školné.',\n",
       " 'to co ale školné podle mého soudu není jde to prostě z veřejného vysokého školství které má především zastupovat veřejný zájem který musí být formulovaný tak to dělá další sektor soukromého školství.',\n",
       " 'to je to co já říkám to že existují jednotlivé případy a třeba jich nebude málo kdy lidé budou říkat to bylo výborný mě to popohnalo mě to nutilo to já jsem neřekl že neexistuje já říkám že jsem nikdy nečetl a neviděl žádnou studii která by přesvědčivě dokumentovala že tento názor který jsme slyšeli není řekněme řídký ojedinělý nebo vázaný na specifické když říkal klient projekt tak jsem zbystřil jako jo co to bylo za obor co to bylo za klienty atd. atd.',\n",
       " 'daniel takáč moderátor řekl bych že to byla technika ale je to důležité není to jedno.',\n",
       " 'prostě klient si něco objedná a vysoká škola mu na tom bude pracovat studenti se něco naučí to není dobrá cesta pro vysoké školy?',\n",
       " 'stanislav štech prorektor pro rozvoj univerzita karlova to je naprosto sekundární role vysoké školy univerzitního typu tzv. klasické univerzity tom je tam jako třetí čtvrtá role jako její.',\n",
       " 'jejím jaksi posláním není aby se řešily věci k jako utilitární ta má úplně jiné poslání které pomůžou někde nějakému klientovi ať už je to já nevím státní nebo soukromý ale samozřejmě a to je to co jsme říkal na začátku jedna z věcí která by se mohla bývala rozpracovat je jak zvládneme celek toho systému a které tam budou školy které budou tvrdě fungovat na principu těsné vazby právě i na ty tzv. klienty ale nemůžeme udělat něco paušálně univerzálního co má platit jak pro já nevím obory společensko vědní na filozofické fakultě univerzity jako univerzita karlova nebo masarykova a to co stejně bude platit pro nějakou takovouto školu typu která bude velmi úzce technologicky nebo jinak zaměřená.',\n",
       " 'daniel takáč moderátor petru klikovi poděkování za účast v hyde parku taky přeji pěkný večer.',\n",
       " 'pojďme k dalším otázkám.',\n",
       " 'na chatu vašek.',\n",
       " 'dle mezinárodního srovnávání nejlepší univerzity jsou elitní platí se na nich vysoké školné a jsou propojené s byznysem.',\n",
       " 'o absolventy je pak obrovský zájem.',\n",
       " 'je to tedy pravý opak než vaše představa škol socialistického typu zdarma a pro všechny.',\n",
       " 'stanislav štech prorektor pro rozvoj univerzita karlova no tak je li socialistické školství tohoto typu finsko vychvalované jak jsme právě slyšeli dánsko kde se taky mimochodem daniel takáč moderátor dobře proti tomu amerika velká británie.',\n",
       " 'stanislav štech prorektor pro rozvoj univerzita karlova proto tomu amerika velká británie nebo jak jsem se dozvěděl na jednání v unescfu v červnu jedny ze zemí kde je celek systému nejproblematičtější a jak říkali odborníci je tam shromáždění mohu říci i jména ale to myslím teď není důležité špička naprosto unikátních nenapodobitelných korporací v usa je jakoby zastírá a do stínu dostává to že 90 té kvality toho zbytku toho systému je hluboko pod úrovní toho co máme v evropě ve většině.',\n",
       " 'jinými slovy za prvé.',\n",
       " 'daniel takáč moderátor britské školy ty jsou v evropě taky elita a taky placené.',\n",
       " 'abychom se dostali k podstatě té vaškovi otázky.',\n",
       " 'stanislav štech prorektor pro rozvoj univerzita karlova no podívejte se ano ta vaškova otázka je jakoby vsugeruje že jestliže to bude propojeno s byznysem jestli že se bude platit vysoká škola pak jen tak bude kvalitní vysoká škola.',\n",
       " 'a že všichni mohou asi to co je nebezpečné.',\n",
       " 'že všichni mohou mít doma a třeba je to země o 4 milionech obyvatel nebo deseti harvard nebo cambridge nebo něco takového to před čím varovalo unesco v tom červnu bylo abychom toto nezaměňovali protože existují případy kolapsů vzdělávacích systémů jen namátkou malajsie dobře tak ten případ tam padl tak ho říkám kde se tak zaměřili na to aby měli jednu školu mezi prvními padesáti že ji zkolaboval zbytek toho systému.',\n",
       " 'ni tak já nevím jestli ta mezinárodní srovnání jsou opravdu velmi problematická a já neříkám že jako není třeba usilovat o vyšší kvalitu až o elitnost aby v té zemi byly v některých bodech.',\n",
       " 'daniel takáč moderátor a příklad tedy neplacené školy veřejné školy která je na nejvyšších patrech toho mezinárodního žebříčku znáte?',\n",
       " 'stanislav štech prorektor pro rozvoj univerzita karlova veřejná neplacená v nejvyšších patrech nevybavím si asi bych to teďka ale jsem o tom přesvědčen že určitě takové jsou ale teď si konkrétní nevybavím.',\n",
       " 'daniel takáč moderátor facebook.',\n",
       " 'jaroslav pleskot.',\n",
       " 'dobrý večer pane profesore myslím že poslední roky vzniká velká inflace soukromých vysokých škol je v připravovaném zákoně počítáno se zpřesněním kritérií pro jejich existenci omezení a vzniku nových?',\n",
       " 'stanislav štech prorektor pro rozvoj univerzita karlova no tak trošičku už jsem tady ano potvrzuje to co říkám pan jaroslav pleskot a pokud jde o to to už jsem tady taky naznačoval že připravovaném věcném záměru není nic takového co by právě se věnovalo právě soukromým školám.',\n",
       " 'daniel takáč moderátor ani nová pravidla pro akreditační komisi a akreditační agenturu nebo jak přesně se to má jmenovat.',\n",
       " 'stanislav štech prorektor pro rozvoj univerzita karlova to je velmi nesrozumitelné samozřejmě že v akreditační je.',\n",
       " 'daniel takáč moderátor tam nebudou ta pravidla přísnější tak aby se tomuto zamezilo?',\n",
       " 'stanislav štech prorektor pro rozvoj univerzita karlova to je zase takové občas věštění z křišťálové koule to je tam napsáno tak zmatečně ostatně to i právníci z naší právnické fakulty i vědecká rada velmi ostře kritizovala po dobu jaksi dikce toho věcného záměru.',\n",
       " 'tam je to tak že my nevím co to udělá v tom paragrafovaném znění.',\n",
       " 'teoreticky ale já si to nedovedu představit.',\n",
       " 'jestliže teď ve věcném záměru není nic co by vymezovalo že se budeme zabývat kritérii pro kontrolu kvality soukromých vysokých škol ta bych se divil že by se to tam dostalo v paragrafovaném znění.',\n",
       " 'daniel takáč moderátor prostřednictvím idnes jsem tady našel špičky toho žebříčku.',\n",
       " 'top univerzity a jejich výběr. 10 nejlepších univerzity.',\n",
       " 'calty harwardova univerzita stanfordova univerzita k oxford prinston cambridge massechusecký technologický institut imperial collage v londýně chicagská univerzita a kalifornská univerzita které z nich jsou tedy neplacené?',\n",
       " 'stanislav štech prorektor pro rozvoj univerzita karlova není žádná ale já vám něco řeknu ten problém je v tom že všimněte si to co se běžně začalo už dneska analyzovat protože je velká kritika těhle ringtingů ne od nás ne jako ti co se brání údajně kvalitě a tak nebo přísnějším kritériím ale skutečně i v zemích ostatních je velká kritika těch ratingů a jedna z věcí která se skulině diskutuje je např.',\n",
       " 'ennglish language bays tedy zkreslení dané angličtinou anglickým jazykem za druhé politika braindrainu a její aktivní podpora takže finanční to znamenák když se tam podíváte kolik je tam amerických studentů a amerických učitelů tak zjistíte že to na mnohých těch špičkových školách je to naprostá menšina a položme otázku jinak je možné si představit že tím že zavedeme školné nebo nějaké principy další plodové podnikatelské abych tak řekl manažerské takže s češtinou nebo že všechno předěláme do angličtiny na všech podstatných českých univerzitách a že tedy se dostaneme do nějakého padesátého nebo stého místa je to vůbec potřeba je tom nutné.',\n",
       " 'daniel takáč moderátor ještě bych měl doplnit že to je podle žebříčku times educations aby ta informace byla úplná aby ta informace byla úplná ale odpovězte si na svojí otázku ano je to nutné a není to nutné a dostali bychom se tak vysoko?',\n",
       " 'stanislav štech prorektor pro rozvoj univerzita karlova já neodpovím svým jaksi názorem odpovím názorem ellen hisecornové z dublinu expertky ke které se připojili a teď mi vypadlo jméno koordinátor toho timesu kterého jste citoval který říká že není nezbytné že naopak velmi se varuje před strategií koncentrujeme peníze udělejme excelenci a věnujme to tomu abychom do 5 let měli dvě univerzity v první stovce.',\n",
       " 'tato strategie před ní velmi varují.',\n",
       " 'daniel takáč moderátor pan špalek na chatu.',\n",
       " 'dobrý večer ministerstvo školství by rádo dostalo jednu z českých univerzit do žebříčku dvou set nejprestižnějších univerzit světa připravuje ministerstvo program excelence českých univerzit obdobným německém nebo dánském připravuje si univerzita karlova vlastní plán excelence?',\n",
       " 'stanislav štech prorektor pro rozvoj univerzita karlova obecně jako výzva jako snaha se zlepšovat jako snaha porovnávat se.',\n",
       " 'my třeba jsme se zapojili teďka do tzv.',\n",
       " 'che oblastního srovnávání které nemá ten charakter žebříčku ale třeba nám říká pro letoškem v medicíně ve farmacii jste na tom takhle jo parametry vaše parametry o těch znávaných kvalitních se liší v tom a v tom.',\n",
       " 'to já považuji za daleko rozumnější a není to tak 183 v nějakém jaksi jednom čísle v jakémsi komplexním ukazateli který dá dohromady hrušky a jablka takže to určitě ne.',\n",
       " 'program excelence ten tady zazněl někdy v polovině minulého roku a my jsme to velmi uvítali protože je třeba si skutečně ty věci probrat říci co jsou ta kritéria a říci aby se ukázalo jako skutečně v jakých oborech kolik těch českých škol má na tu excelenci ve vědě v základním výzkumu v aplikovaném v dalších a dalších třeba oborech vzdělávání.',\n",
       " 'daniel takáč moderátor ministerstvo připraven má program excelence.',\n",
       " 'stanislav štech prorektor pro rozvoj univerzita karlova no on byl anoncován a zatím z těch dvou které měly podpořit kvalitu jeden byl krédo jeden excelence tak zatím vím že jisté pokroky se děly v tom krédu o excelenci.',\n",
       " 'mě není známo že by nějak moc pokročil.',\n",
       " 'a pokud jde o univerzitu karlovu no to je od samého začátku program excelence prostě je jestliže univerzita jenom od letošního roku spouští speciální stimulační programy pro mladé pro post doktorandy pro lidi který by se vrátili a byli naši chtěli by se vrátit k nám z ciziny pro vlastní programy badatelských projektů které nejsou agenturními financovány agenturně ze strany státu atd.',\n",
       " 'my program excelence rozvíjíme prostě už několik let.',\n",
       " 'daniel takáč moderátor akademická obec otázka na chatu.',\n",
       " 'kritizuje i závěr zákona zrušit současný formát titulu docent profesor proč je lepší současná praxe kdy habilitace píšící učitelé nezřídka nemají čas na své povinnosti vůči studentům.',\n",
       " 'k čemu jsou profesoři nemající už čeho více dosáhnout?',\n",
       " 'stanislav štech prorektor pro rozvoj univerzita karlova vidím že se i hodně věří i takovému tomu biči jako hlavnímu motivu jako že když už nemůžeš být dalším nadprofesorem tak už nic neděláš.',\n",
       " 'on má samozřejmě jiný úkol.',\n",
       " 'profesor by měl být prostě člověk který třeba píše koncipuje udává směr vede doktorandy jaksi je garantem nějakých studijních programů nových nebo badatelských oblastí které garantuje to jako není záležitost jenomže nemotivuje člověka k práci kvalitní na univerzitě co že už nemá možnost dosáhnout žádný titul.',\n",
       " 'víte tam já vám řeknu co akademické obci nejvíc vadí abych to zkrátil jenom to byl ten šílený návrh který zase pochází z úplně jiného kulturního prostředí tak toho anglosaského která sází na takovou tu expertíz hodně změřitelnou hned prostě poziční docentura.',\n",
       " 'uděláš výběrové řízení jako udělal si ho na nějakou náplň činnosti a tím je prostě spojená automaticky že jsi docent nebo profesor to ten poslední vývoj v tom věcném záměru přeci jenom trošku posunul alespoň u té docentury ale já chci říct jednu věc jestliže modlou současných jaksi modelů je výkonnost výkonnost a dokládej tak neexistuje nic víc založeného na velmi přísné kontrole výkonnosti jako je právě docentura profesura.',\n",
       " 'prostě že to trvá 15 let no hold v tom našem světě to tak chodí ta časovost je jiná než vyrobit housku.',\n",
       " 'daniel takáč moderátor carx na chatu jste přesvědčen že univerzita karlova poskytuje studentům servis na úrovni 21. století jak ve výuce tak v ostatních službách.',\n",
       " 'zkušenost s carx popisuje vyučující mezi sebou pletichaří místo aby učili studijní. ukládá práci do šuplíku student je vše možné ne ale zákazník.',\n",
       " 'stanislav štech prorektor pro rozvoj univerzita karlova otázka ne tak formulovaná že moje jediná odpověď je ne. no absolutně neposkytuje studentům ve všech oborech všech fakultách atd. servis na úrovni špičkové ve výuce ostatních službách tak tohleto určitě ne. my víme kde ne.',\n",
       " 'daniel takáč moderátor tady jste prorektor pro rozvoj jestli dobře vím.',\n",
       " 'stanislav štech prorektor pro rozvoj univerzita karlova pro strategický rozvoj.',\n",
       " 'daniel takáč moderátor ano tak asi moc nerozvíjíte když sám říkáte že neposkytuje.',\n",
       " 'stanislav štech prorektor pro rozvoj univerzita karlova ne ne ne tak víme podívejte se jako přeci ty věci se nedají právě přitom jak na nás dolehla ta mystifikace a nutnost přizpůsobovat se kritériím která platí úplně pro všechny školy nabírat studenty hledat jakým způsobem přežít nemůžeme potom tvrdit že servis je perfektní že pomalu existuje tutorský vztah když v okamžiku aby se přežilo tak jsme museli znásobit třeba během tří let nesrozumitelné na trojnásobek nemůžete pokud jde o to další pletichaření šuplíky jako to jsem rád že není zákazník to já bych nechtěl aby byl zákazník protože zákazník znamená k tak jsem tady tak koukej nabídnout nějaký kvalitní zboží a když ne tak já tě budu urgovat někde.',\n",
       " 'daniel takáč moderátor tak by to nemělo být.',\n",
       " 'stanislav štech prorektor pro rozvoj univerzita karlova skutečně no ne tak já doufám že tady někdo by to chtěl tady říká že by chtě aby byl zákazník jo.',\n",
       " 'daniel takáč moderátor a vy říkáte ne?',\n",
       " 'stanislav štech prorektor pro rozvoj univerzita karlova a já říkám ne ale jako musí bát partner daleko horší je ne že jako zákazník ale že když s tím studentem se nejedná jako s partnerem který je jako plnohodnotně si váží jako jeho názoru a já taky na něj reaguaju nepovýšeně atd. to když se děje no tak to samozřejmě je třeba s tím něco dělat je to opravdu systémová charakteristika uk v této dekádě.',\n",
       " 'já myslím že takové věci jistě existují ale nemyslím si že.',\n",
       " 'daniel takáč moderátor pane profesore díky že jste přišel věnoval se naši divákům takhle vás hodnotí tik kteří se rozhodli že hodnotit budou 25 mínus 75 plus váš výsledek ještě jednou poděkování za účast v hyde parku nashledanou.',\n",
       " 'pozvánka pro vás na zítřejší hyde parku bude tu jiří grygar netřeba představovat pro dnešek pěkný večer pokud možno s českou televizí.',\n",
       " 'tisk s novinářem.',\n",
       " 'přehled informací z denního tisku.',\n",
       " 'vystupující jolka krásná moderátorka jiří václavek moderátor tomáš sacher redaktor respekt pouze anotováno',\n",
       " 'tisk s novinářem.',\n",
       " 'přehled informací z denního tisku vystupující barbora kroužková moderátorka františek lutonský moderátor petr kamberský komentátor lidových novin pouze anotováno',\n",
       " '75 let hokejové ligy.',\n",
       " 'a teď vám taky řekneme že před 75 lety se odehrála nebo odstartovala celostátní hokejová liga.',\n",
       " 'tehdy se odehrály tři zápasy.',\n",
       " 'jedním z nich bylo také utkání mezi vítkovicemi a spartou praha.',\n",
       " 'je dobré taky připomenout že tehdy se hrálo zejména na přírodním ledě a kluby moc velký zájem o tu novou soutěž neprojevovaly.',\n",
       " 'vystupující františek lutonský moderátor barbora kroužková moderátorka daniel šumbera redaktor václav linhart 1. utkání ligy buly 3.',\n",
       " '1.',\n",
       " '2007 ladislav staněk 1. utkání ligy buly 3.',\n",
       " '1. 2007 pouze anotováno',\n",
       " 'karolina nebo fukušima?.',\n",
       " 'barbora kroužková moderátorka v centru ostravy se staví jaderná elektrárna.',\n",
       " 'takhle šokují filmaři kteří v tomto duchu natočili fiktivní reportáž.',\n",
       " 'a takto protestují proti projektu nová karolína.',\n",
       " 'v plánu bylo původně představit určitou architektonickou perlu.',\n",
       " 'co se v ostravě děje a co se tam staví tak na to se názory různí.',\n",
       " 'františek lutonský moderátor zeptáme se každopádně pánů vladimíra skórky filmového tvůrce hudebníka a martina šimíčka scénáristy.',\n",
       " 'dobrý den.',\n",
       " 'vladimír skórka filmový tvůrce hudebník dobrý den.',\n",
       " 'martin šimíček scénárista dobrý den.',\n",
       " 'františek lutonský moderátor prostřednictvím telefonních linek také dalibora madeje náměstka primátora ostravy pro životní prostředí.',\n",
       " 'i vám dobrý den.',\n",
       " 'dalibor madej náměstek primátora ostravy pro životní prostředí ods dobré ráno.',\n",
       " 'františek lutonský moderátor tak pane náměstku s dovolením začneme u vás.',\n",
       " 'co se teda rodí v centru ostravy?',\n",
       " 'dalibor madej náměstek primátora ostravy pro životní prostředí ods v centru ostravy se rodí v této chvíli to že se staví docela velký velká část města.',\n",
       " 'františek lutonský moderátor a ta soutěž byla nějak problematická nebyla nějak problematická?',\n",
       " 'ta původní se opravdu zrušila?',\n",
       " 'dalibor madej náměstek primátora ostravy pro životní prostředí ods tak jsou dvě cesty jak využít pozemek tak v centru města.',\n",
       " 'a to je buď architektonickou soutěží.',\n",
       " 'bohužel s tím jsou špatné zkušenosti protože architektonická soutěž vyplodí jakýsi architektonický návrh s tím že investoři potom o něho nemají zájem.',\n",
       " 'takže jsme město se vydalo cestou prodeje pozemku.',\n",
       " 'barbora kroužková moderátorka dobře počkejte prosím.',\n",
       " 'počkejte vydržte vydržte chviličku.',\n",
       " 'když takto hovoříte o těch soutěžích.',\n",
       " 'řekněte nám byla nějaká vypsána?',\n",
       " 'proběhla nějaká ta soutěž?',\n",
       " 'když už mluvíte negativně.',\n",
       " 'dalibor madej náměstek primátora ostravy pro životní prostředí ods samozřejmě.',\n",
       " 'barbora kroužková moderátorka tak proč byla tedy?',\n",
       " 'dalibor madej náměstek primátora ostravy pro životní prostředí ods samozřejmě že byla vypsaná soutěž.',\n",
       " 'dokonce myslím že dvě soutěže od roku 86 to začlo ty soutěže.',\n",
       " 'jak říkám bohužel a podotýkám pokud investorem není přímo město tak investoři o takovýto projekt nemají zájem.',\n",
       " 'barbora kroužková moderátorka tak ještě jednou.',\n",
       " 'promiňte že se takto snažíme dopátrat tedy konkrétní a pravdivé situace.',\n",
       " 'bylo to tak pane náměstku že původně tedy jednu z těch soutěží vyhrála lávka od evy jiřičné a plán na vybudování jakéhosi parku zeleně a taky možnosti na kulturní performance?',\n",
       " 'dalibor madej náměstek primátora ostravy pro životní prostředí ods to si asi nerozumíme protože lávka nebyla součástí při prodeji pozemku.',\n",
       " 'tam o lávce ve smlouvě není vůbec zmínka.',\n",
       " 's tím přišel investor sám.',\n",
       " 's tou lávkou.',\n",
       " 'františek lutonský moderátor a pane náměstku jak to bylo teda s tou architektonickou soutěží?',\n",
       " 'mě pořád není jasná jedna věc.',\n",
       " 'je vypsaná nějaká architektonická soutěž kdy víte že investorem bude někdo jiný než město.',\n",
       " 'vy říkáte že dopředu ale víme že takovéhle soutěže většinou nemají smysl.',\n",
       " 'a přesto do toho investujete peníze.',\n",
       " 'dalibor madej náměstek primátora ostravy pro životní prostředí ods v té době to bohužel nikdo nevěděl že o takovýto projekt není zájem.',\n",
       " 'a skutečně byly vypsány minimálně dvě soutěže myslím na tomto území.',\n",
       " 's tím že o to skutečně nebyl zájem.',\n",
       " 'a protože jsme chtěli minimálně oživit centrum města a chtěli jsme aby se v tomto území stavělo proto jsme šli cestou prodeje pozemku kde si město stanovilo určité podmínky za jakých je možné na tomto území stavět.',\n",
       " 'barbora kroužková moderátorka my se teď obrátíme na umělce.',\n",
       " 'i když pánové vteřinku ještě vydržte protože my si pustíme kousek té vaší fiktivní reportáže.',\n",
       " 'ukázka barbora kroužková moderátorka pánové ta reportáž je opravdu fiktivní abychom teď neplašili hlavně ostravany.',\n",
       " 'nicméně pane skórko vy jste taky teď slyšel pana náměstka madeje.',\n",
       " 'zkuste nám ze svého pohledu byť je jasné že vy nesouhlasíte s tím co se teď děje ale vysvětlit nějaký průběh jak těch soutěží tak dalšího rozhodování města abychom se dostali k tomu jestli se něco dělá pro občany ostravy.',\n",
       " 'anebo jestli jde jenom o peníze.',\n",
       " 'vladimír skórka filmový tvůrce hudebník tak kdybych to měl nějakým způsobem ze svého pohledu osvětlit tak asi bych řekl nejdřív že vlastně já jsem se vlastně nebo oba dva asi jsme se vzbudili taky vlastně až za pět minut pět minut po dvanácté jak se říká.',\n",
       " 'protože to bylo ve chvíli kdy už to vlastně rostlo.',\n",
       " 'a ten náš motiv byl takový že my jsme vlastně aspoň si to myslím oba dva vlastně jsme byli cítili jsme se napáleni tak trošku tím co jsme se dozvídali v průběhu let.',\n",
       " 'protože jak jsem se později právě při studiu toho materiálu nebo materiálu k těm k tomu filmování dozvěděl tak to se tady řešilo od roku 2006.',\n",
       " 'a ty soutěže z toho co já vím opravdu byly dvě.',\n",
       " 'nejdřív byla vyhlášena architektonická která ale i jak pan madej řekl vlastně byla k ničemu.',\n",
       " 'ale o té se strašně hodně právě psalo v médiích jako ostravských tak i severomoravských.',\n",
       " 'psalo se o ní hodně v radničních listech.',\n",
       " 'prostě byla kolem toho obrovská jakoby publicita.',\n",
       " 'a ejhle prostě potom vlastně když to jako začala růst a já jsem to přestal sledovat.',\n",
       " 'pak jsem se dozvěděl že určité skupiny ostravanů například hnutí za starou ostravu a takový pořádaly tehdy už jakési debaty o tom docela sofistikované i dokonce s politiky.',\n",
       " 'ale k ničemu to nevedlo a já prostě tím jak to nakonec dopadlo a když jsem viděl co tam roste a vypadá to opravdu kort z určitých pohledů strašně škaredě a navíc nezvykle podobně k atomové elektrárně.',\n",
       " 'tak jsme dostali prostě tenhle ten nápad.',\n",
       " 'navíc se tomu začalo v odborných kruzích tady říkat fukušima.',\n",
       " 'to není náš původní nápad to tak opravdu reálně si tady o tom lidi architekti a umělci povídají.',\n",
       " 'takže jsme dostali nápad že to nějak zpracujeme a tady oslovil jsem šíma aby napsal scénář a.',\n",
       " 'františek lutonský moderátor no a tak oslovení tak oslovíme teda šimiho s dovolením já teda použiju jak jste ho oslovil vy.',\n",
       " 'pane šimíčku jak na to teď lidi reagují na tu fiktivní reportáž a je opravdu to tak že v ostravě to prostě lidi říkají to je fukušima to tady nechceme?',\n",
       " 'nebo jako můžete ještě nějak dál postupovat proti tomu?',\n",
       " 'martin šimíček scénárista tak je to opravdu tak že lidé tomu takhle říkali.',\n",
       " 'to fakt není náš výmysl.',\n",
       " 'a není se co divit když se na to člověk podívá jak to vypadá.',\n",
       " 'teď už se s tím asi těžko těžko bude dát něco dělat no.',\n",
       " 'ale my jsme chtěli dát těm lidem aspoň možnost se někde k tomu vyjádřit.',\n",
       " 'barbora kroužková moderátorka a máte promiňte pocit že převažuje.',\n",
       " 'máte promiňte pocit když jste si dělali i takovou možná ne úplně zcela reprezentativní anketu že spíš převažují negativní vjemy právě toho díla které tam vzniká?',\n",
       " 'martin šimíček scénárista tak ono stačí přečíst si přečíst si tu diskuzi která se teda pod tou reportáží pod uvedením té reportáže rozvinula a tam je to zcela jasné že lidem se to nelíbí.',\n",
       " 'akorát my jsme jim chtěli dát ten hlas prostě.',\n",
       " 'chtěli jsme chtěli bysme aby se k tomu mohli někde vyjádřit a aby se ledy aspoň trošku hnuly v tomto směru.',\n",
       " 'vladimír skórka filmový tvůrce hudebník tam opravdu bych řekl že ve dvou vlastně hodinách se na tom internetu objevilo 300 komentářů a z toho vlastně ani jeden nebyl jakoby kladný.',\n",
       " 'barbora kroužková moderátorka dobře promiňte my se s vámi rozloučíme.',\n",
       " 'díky že jste takhle prezentovali ten svůj názor.',\n",
       " 'ta reportáž je taky dostupná aby ještě dostal slovo pan náměstek.',\n",
       " 'pane náměstku jaký z toho máte pocit?',\n",
       " 'vám se to líbí?',\n",
       " 'dalibor madej náměstek primátora ostravy pro životní prostředí ods já nepatřím ani mezi zastánce ani mezi odpůrce protože říkám.',\n",
       " 'tam se řeší celé území já nehodnotím jeden barák.',\n",
       " 'co se mi líbí na tom že jestli takováto stavba už v této chvíli kdy není dostavěná budí emoce tak pro mě to je dobrá zpráva protože z toho opravdu něco může vzejít dobrého.',\n",
       " 'takže.',\n",
       " 'františek lutonský moderátor myslíte?',\n",
       " 'barbora kroužková moderátorka když jsou negativní?',\n",
       " 'dalibor madej náměstek primátora ostravy pro životní prostředí ods ano i když jsou negativní.',\n",
       " 'nemusíte chodit daleko.',\n",
       " 'vemte si tančící dům v praze který dodneška budí emoce a přitom jezdí se na něho dívat turisté z celého světa.',\n",
       " 'františek lutonský moderátor při vší úctě teda ve srovnání s tančícím domem to chce hodně velkou fantazii.',\n",
       " 'barbora kroužková moderátorka a vy budete mít fukušimu.',\n",
       " 'dalibor madej náměstek primátora ostravy pro životní prostředí ods já samozřejmě nejsem architekt.',\n",
       " 'říkám já si počkám na celkový výsledek protože tam se řeší celé území.',\n",
       " 'takže já v této chvíli nehodnotím jeden barák.',\n",
       " 'barbora kroužková moderátorka tak i vám samozřejmě děkujeme za vyjádření a do ostravy všem posíláme přání dobrého dne.',\n",
       " 'dalibor madej náměstek primátora ostravy pro životní prostředí ods taky na shledanou.',\n",
       " 'barbora kroužková moderátorka na shledanou.',\n",
       " 'martin šimíček scénárista na shledanou.',\n",
       " 'kde jsou ve spojených státech přívětiví k turistům.',\n",
       " 'markéta daňhelová moderátorka kde ve spojených státech jsou lidé nejvíc přívětiví k turistům a kde naopak žijí největí hrubiáni?',\n",
       " 'tak právě tuto otázku si položil časopis travel leisure.',\n",
       " 'odpověď je překvapivá.',\n",
       " 'nejmíň vstřícní jsou prý obyvatelé new yorku. redaktorka největšími sprosťáky jsou newyorčani.',\n",
       " 'letos dokonce předstihli obyvatel los angeles.',\n",
       " 'ti nakonec skončili až čtvrtí.',\n",
       " 's hulváty se dál turisti setkávají hodně taky ve washingtonu a miami.',\n",
       " 'od návštěvy new yorku ale tahle nelichotivá nálepka turisty zřejmě neodradí.',\n",
       " 'loni přijelo do velké jablka rekordních padesát a půl milionu turistů.',\n",
       " 'o tři a půl procenta víc než v roce 2010.',\n",
       " 'new york tak posílil svoje postavení nejoblíbenější turistické destinace ve spojených státech.',\n",
       " 'podle odborníků na cestovní ruch to má několik příčin.',\n",
       " 'slabý dolar levné ubytován a nespočet možností které město nabízí.',\n",
       " 'sami newyorčani výsledky průzkumu odmítají.',\n",
       " 'naopak tvrdí že jsou přátelští a ochotní kdykoli a komukoli pomoci.',\n",
       " 'new york nicméně v časopisu získal i další negativa.',\n",
       " 'je nejdražší nejšpinavější a nejhlučnější město ve spojených státech.',\n",
       " 'naopak nejpřátelštějším městem je podle ankety new orleans pan san juan v portoriku a nashville v tennessee.',\n",
       " 'pohnné hmoty stále zdražují.',\n",
       " 'markéta daňhelová moderátorka hezké dopoledne.',\n",
       " 'ekonomickou desetiminutovku začneme přehledem zpráv.',\n",
       " 'ceny pohonných hmot v uplynulém týdnu výrazně rostly a vystoupaly na nové rekordy.',\n",
       " 'potvrdil to dnes český statistický úřad.',\n",
       " 'nejprodávanější benzín natural 95 podražil o 60 haléřů na průměrných 36 25 za litr.',\n",
       " 'nafta dokonce o 70 haléřů.',\n",
       " 'v průměru stála 36 90.',\n",
       " 'řecko znovu jedná o odpuštění dluhů.',\n",
       " 'markéta daňhelová moderátorka řecká vláda znovu jedná s bankami o odpuštění části řeckého dluhu.',\n",
       " 'vyjednávání trvají už sedm měsíců.',\n",
       " 'poslední nabídku bank eurozóna odmítla jako nedostatečnou.',\n",
       " 'začíná se tak mluvit o nutnosti zapojit do dohody o oddlužení i veřejné věřitele nejen ty soukromé.',\n",
       " 'hlavně evropskou centrální banku.',\n",
       " 'ovoce do škol.',\n",
       " 'lada kolovratová moderátorka vláda se dnes bude zabývat přihláškou česka do programu ovoce do škol pro příští rok.',\n",
       " 'podle návrhu si projekt vyžádá v přepočtu 73 milionů korun.',\n",
       " 'z toho 53 milionů korun dá evropská unie zbylých dvacet milionů doplatí česko ze státního rozpočtu.',\n",
       " 's programem ovoce do škol však nesouhlasí ministerstvo financí.',\n",
       " 'firma apple měla rekordní zisky.',\n",
       " 'lada kolovratová moderátorka výsledky společnosti apple za poslední čtvrtletí loňského roku předčily očekávání analytiků.',\n",
       " 'firma měla tržby víc než 46 miliard dolarů což je meziroční nárůst o 73 .',\n",
       " 'na výsledcích se podepsaly hlavně vysoké prodeje iphonů a ipadů.',\n",
       " 'česko přispěje do fondu na záchranu eurozóny.',\n",
       " 'lada kolovratová moderátorka a na řadě je ekonomika čt24.',\n",
       " 'vítám vás u jejího sledování a začneme krátkým přehledem ekonomických zpráv. 38 miliardami korun by mělo česko přispět do společného fondu na záchranu eurozóny.',\n",
       " 'miroslav kalousek to řekl v bruselu po setkání ministrů financí evropské unie.',\n",
       " 'o konkrétní částce dnes rozhodne vláda.',\n",
       " 'peníze by měly jít z rezerv české národní banky.',\n",
       " 'kalousek má podporu některých sociálních demokratů.',\n",
       " 'premiér petr nečas byl k půjčce doposud skeptický.',\n",
       " 'vliv ratingových agentur.',\n",
       " 'lada kolovratová moderátorka v přepočtu zhruba deset bilionů korun si chce zajistit mezinárodní měnový fond na zmírnění dopadů finanční krize.',\n",
       " 'sumu použije mimo jiné na nové úvěry pro nejproblémovější ekonomiky.',\n",
       " 'zástupci fondu totiž nečekají že by se výhled globální ekonomiky výrazně zlepšil.',\n",
       " 'naopak věří že obří finanční polštář přijde vhod i v dalších letech. redaktor pokud se ekonomická situace zhorší nemusí současná úvěrová kapacita stačit.',\n",
       " 'černý scénář mezinárodního měnového fondu proto operuje s astronomickými čísly. zpráva mezinárodního měnového fondu na základě našich odhadů podle nichž bude v celém světě v nadcházejících letech potenciálně zapotřebí finanční pomoc asi za bilion dolarů má fond v úmyslu zajistit si další zdroje v objemu až 500 miliard dolarů. redaktor panika nebo pragmatický přístup?',\n",
       " 'jasné téma schůzky zástupců nejvyspělejších ekonomik planety kteří právě možnosti navýšení měnového fondu proberou.',\n",
       " 'před jednáním v mexiku ale převládá spíš zdrženlivý názor.',\n",
       " 'řada států chce nejdřív vidět u evropských politiků větší snahu o zvládnutí ekonomické situace.',\n",
       " 'evropa v posledních dvou letech spolkla zhruba třetinu zdrojů měnového fondu.',\n",
       " 'mark carney guvernér kanadské centrální banky pokud má smysl zvyšovat zdroje mmf pak se zdá že hlavní důraz musíme věnovat dopadům evropské krize na nevinné země. redaktor k posílení fondu by v budoucnu mohlo přispět i česko.',\n",
       " 'hovořilo se o 90 miliardách korun.',\n",
       " 'premiér petr nečas už ale předeslal že suma bude výrazně nižší.',\n",
       " 'lada kolovratová moderátorka a ve studiu už je se mnou ekonom poštovní spořitelny jan bureš.',\n",
       " 'dobré dopoledne.',\n",
       " 'jan bureš ekonom poštovní spořitelna pěkné ráno.',\n",
       " 'lada kolovratová moderátorka pane bureši hovoříme li tedy o navyšování mezinárodního měnového fondu tak jak jsme to slyšeli v našem příspěvku jde o paniku nebo pragmatický přístup?',\n",
       " 'má smysl navyšovat zdroje mmf?',\n",
       " 'jan bureš ekonom poštovní spořitelna z pohledu měnového fondu je to pragmatický přístup protože skutečně evropská krize eskaluje a je pravděpodobné že bude zapotřebí víc prostředků na řešení těchto problémů.',\n",
       " 'na druhou stranu si myslím a zastávám spíše v tomto názor spojených států že evropa by měla své problémy řešit z vlastních zdrojů a že v tuhletu chvíli měnový fond už není efektivním nástrojem na to jak ty problémy dál řešit.',\n",
       " 'lada kolovratová moderátorka zkusme si stručně říct jak podle vás nakonec přispěje česká republika?',\n",
       " 'tady se vedou velké debaty zatím.',\n",
       " 'jan bureš ekonom poštovní spořitelna bude hodně záležet jak se k celé věci postaví další země.',\n",
       " 'pokavaď země stojící mimo eurozónu velká británie ale pak třeba i ty velké vyspělé ekonomiky jako spojené státy nebudou navyšovat svoje podíly v mezinárodním měnovém fondu tak i česká republika pravděpodobně zůstane stát stranou.',\n",
       " 'lada kolovratová moderátorka obraťme malinko list.',\n",
       " 'tato témata spolu ovšem velmi úzce souvisí.',\n",
       " 'v evropě se poslední dobou a v posledních dnech hlavně rozvíjí vášnivá debata ohledně vlivu ratingových agentur.',\n",
       " 'jak vy sám jste například vnímal to poslední snížení ratingu devíti zemím které se doposud pyšnily nejvyšším hodnocením úvěrové spolehlivosti?',\n",
       " 'jan bureš ekonom poštovní spořitelna nebylo to úplně překvapivé protože agentura standard poor s která k tomu přikročila už v průběhu prosince varovala že bude hodnotit všechny členské země ne pouze na základě jejich individuálního hospodaření ale také na základě toho jak jsou všechny společně schopné řešit krizi v eurozóně.',\n",
       " 'a tam ta známka z pohledu agentury standard poor s je po právu velice kritická a není se tedy čemu divit že sebrala nejlepší hodnocení zemím jako je francie a rakousko.',\n",
       " 'lada kolovratová moderátorka ozývají se ovšem hlasy že se stáváme vězni ratingových agentur.',\n",
       " 'souhlasíte?',\n",
       " 'jan bureš ekonom poštovní spořitelna nesouhlasím.',\n",
       " 'rozhodně si myslím že například v případě agentury standard poor s ta předběžná opatrnost konzervativnost je na místě a ratingové agentury pouze se snaží poučit z chyb minulých z chyb které udělaly v průběhu nebo v nějakém náběhu do americké realitní krize kde fakticky zaspaly s tím zhoršením hodnocení a řadě investorů po dlouhou dobu nasazovaly růžové brýle.',\n",
       " 'lada kolovratová moderátorka ovšem neměly by převzít ratingové agentury za svá hodnocení jakousi zodpovědnost?',\n",
       " 'doposud prakticky žádnou nemají.',\n",
       " 'jan bureš ekonom poštovní spořitelna oni přímou zodpovědnost nemají na druhou stranu určitou přenesou zodpovědnost pociťují v tom že jim méně nebo více věří trhy.',\n",
       " 'a odráží se to i v tom jestli ratingy oficiální ratingy nějakým způsobem kopírují tu náladu na trzích kterou můžeme sledovat například ve vývoji kontraktů credit default swaps nebo i jiných kontraktů.',\n",
       " 'takže z tohoto pohledu ratingové agentury v tuhletu chvíli skutečně nabírají tu ztracenou důvěru.',\n",
       " 'lada kolovratová moderátorka tak a není na ratingovém trhu příliš nízká konkurence?',\n",
       " 'jak by se vám líbila ta myšlenka o které se také v posledních dnech hovoří a sice vznik jakési nezávislé evropské ratingové agentury?',\n",
       " 'jan bureš ekonom poštovní spořitelna nebráním se dalším ratingovým agenturám na druhou stranu si myslím že už v tom názvu samotném nezávislá společná ratingová evropská agentura je něco špatného protože na její vznik tlačí především politici a to z toho důvodu že se jim nelíbí ta současná hodnocení která dostávají od těch zaběhlých ratingových agentur.',\n",
       " 'a v posledních skutečně několika kvartálech letech ty ratingové agentury udělaly určitý krok vpřed a myslím si že jsou nezávislejší že ta konkurence tam existuje a jejím dokladem je například to že agentura standard poor s se poměrně významně liší v hodnocení od agentury fitch a moody s třeba i v případě spojených států nebo francie a rakouska.',\n",
       " 'lada kolovratová moderátorka jan bureš ekonom poštovní spořitelny.',\n",
       " 'děkuji vám za rozhovor a přeji hezký den.',\n",
       " 'jan bureš ekonom poštovní spořitelna pěkný den.',\n",
       " 'eurozóna je na prahu recese.',\n",
       " 'lada kolovratová moderátorka a na řadě je dopolední ekonomika čt24 kterou odstartujeme krátkým přehledem ekonomických zpráv.',\n",
       " 'eurozóna je na prahu ekonomické recese.',\n",
       " 'předpovídá to šéf ministrů financí jean claude juncker.',\n",
       " 'současně také vyzval partnery aby našli způsob jak ekonomický růst podpořit.',\n",
       " 'hrubý domácí produkt se dvě čtvrtletí v řadě propadal a podle analytiků tomu tak bylo i v posledním kvartálu loňského roku.',\n",
       " 'studio burza.',\n",
       " 'lada kolovratová moderátorka a my pojďme na burzu.',\n",
       " 'americké akcie ve středu stouply na nejvyšší hodnotu od července.',\n",
       " 'náladu na trhu podpořily příznivé výsledky banky goladman sachs a zprávy z mezinárodního měnového fondu.',\n",
       " 'ten uvažuje o pomoci pro země postižené evropskou dluhovou krizí jak jsme už tady řekli.',\n",
       " 'podrobnosti má tomáš kolbaba.',\n",
       " 'začíná studio burza.',\n",
       " 'tomáš kolbaba redaktor dobrý den z burzovního paláce.',\n",
       " 'americkým akciovým trhům se tedy včera výrazně dařilo a co je potěšující také jsme zažili největší objem obchodů v letošním roce.',\n",
       " 'americké akcie tak včera dokázaly posílit už podeváté z posledních jedenácti obchodních seancí.',\n",
       " 'z pohledu jednotlivých sektorů se dařilo především stavařským společnostem kterému pomáhala lepší data z realitního sektoru.',\n",
       " 'celý trh tak posílil o 4 najdeme ale i tituly které rostly o téměř 8 .',\n",
       " 'typickým příkladem jsou akcie stavařské společnost kb home.',\n",
       " 'ty od začátku roku tedy za posledních dvacet obchodních dní posílily o úctyhodných 44 .',\n",
       " 'dalším úspěšným sektorem byli maloobchodní prodejci se zisky okolo 2 5 .',\n",
       " 'k nejúspěšnějším firmám se pak řadily takové firmy jako sears holding nebo office depot které vzrostly dokonce o procent osm.',\n",
       " 'nezaostávaly ani banky.',\n",
       " 'o lepším výsledku na akcii a zisku na akcii výrazně rostly akcie goldman sachs které včera posílily o téměř 7 .',\n",
       " 'okolo pěti procent pak rostly i další finanční domy jako třeba bank of america nebo jp morgan chase.',\n",
       " 'po závěru obchodování se pak svými výsledky pochlubila společnost ebay.',\n",
       " 'tato internetová aukční síň meziročně navýšila zisk o úctyhodných 250 .',\n",
       " 'vydělala tak 60 centů na akcii.',\n",
       " 'do výsledků se pozitivně promítly také jednorázové položky.',\n",
       " 'a to prodej části podílu ve společnosti skype.',\n",
       " 'také výhled společnosti na celý rok 2012 je pozitivní i když jak firma tak analytici očekávají určité zpomalení tempa růstu.',\n",
       " 'koho naopak včerejší den nepotěšil tak to byli akcionáři společnosti eastman kodak.',\n",
       " 'tento americký průkopník fotografické techniky totiž požádal ve spojených státech o ochranu a to fakticky znamená bankrot společnosti která na trhu působila 131 let.',\n",
       " 'toto opatření se zatím týká americké společnosti.',\n",
       " 'dceřiné firmy by neměly být dotčeny a mohly by fungovat podle běžného režimu.',\n",
       " 'žádost o ochranu před věřiteli má tak společnosti dodat čas na restrukturalizaci společnosti do roku 2013 a firma by se ze současných problémů chtěla dostat pod prodejem některých patentů na digitální fotografii.',\n",
       " 'to je pro tuto chvíli ze studia burza vše.',\n",
       " 'bylo deset hodin a na vás čekají pravidelné zprávy.',\n",
       " 'jiří pospíšil se bude starat o sbírku umění.',\n",
       " 'zuzana burešová moderátorka o sbírku umění kterou shromáždila nadace jana a medy mládkových se bude v budoucnu starat ministr spravedlnosti jiří pospíšil.',\n",
       " 'v hyde parku čt24 meda mládková řekla že v poslední vůli mu všechno předala.',\n",
       " 'pospíšil jí se správou nadace pomáhá už teď.',\n",
       " 'meda mládková mecenáška umění hyde park 27.1.2012 já si přeji aby on jednou to všechno převzal.',\n",
       " 'já si ho nesmírně vážím.',\n",
       " 'hyde park 27.1.2012 a on s tím souhlasí?',\n",
       " 'meda mládková mecenáška umění hyde park 27.1.2012 já ani nevím.',\n",
       " 'já doufám že jo.',\n",
       " 'jiří pospíšil ministr spravedlnosti ods moje role je správce a pečovatel o její dílo o její nadaci.',\n",
       " 'nadace se také stává generálním dědicem majetku paní medy.',\n",
       " 'já jí pomáhám i v současnosti.',\n",
       " 'já jsem jí slíbil že jsem připraven pokud bude mít i ona zájem se do budoucna o její nadaci starat a starat se o její odkaz.',\n",
       " 'a až odejdu z politiky jsem připraven se tomu úkolu věnovat naplno.',\n",
       " 'nizozemsko chce od roku 2013 zakázat zahalování obličeje na veřejnosti.',\n",
       " 'zuzana burešová moderátorka nizozemsko chce od roku 2013 zakázat zahalování obličeje na veřejnosti.',\n",
       " 'za nošení muslimských burek by mohla hrozit pokuta v přepočtu až 10 tisíc korun.',\n",
       " 'podle tamní vlády se zákon bude týkat i například nošení kukel nebo motocyklových helem na nevhodných místech třeba v obchodě.',\n",
       " 'návrh bude schvalovat kabinet příští týden.',\n",
       " 'český svaz tělesné výchovy má nového šéfa.',\n",
       " 'zuzana burešová moderátorka novým šéfem českého svazu tělesné výchovy se stal miroslav jansta předseda basketbalové federace.',\n",
       " 'zvolila ho valná hromada která ještě vybere nový výkonný výbor.',\n",
       " 'do nymburku kde delegáti jednají zdravím kolegyni zuzanu luňákovou.',\n",
       " 'jak velkou podporu měl miroslav jansta mezi delegáty?',\n",
       " 'zuzana luňáková redaktorka zvolení jansty novým předsedou čstv byla poměrně jednoznačná záležitost.',\n",
       " 'hlasovalo pro něj přes 93 z celkových 150 delegátů.',\n",
       " 'teď probíhá volba členů výkonného výboru a i tady kandidují ve sportovním prostředí známé osobnosti jako třeba šéf tenisového svazu ivo kaderka nebo miroslav pelta.',\n",
       " 'já jenom připomenu že čstv na tom není finančně dobře a to i připomněl nový šéf čstv.',\n",
       " 've svém úvodním projevu řekl že se bude snažit skoncovat s minulostí a zaměřit se na budoucnost a znova upozornil že čstv a celému sportu budou chybět peníze které mohl dostávat v hazardu.',\n",
       " 'nebezpečná křižovatka.',\n",
       " 'zuzana burešová moderátorka nesovice na vyškovsku už roky čekají na úpravu nebezpečné křižovatky u železničního přejezdu.',\n",
       " 'je nepřehledná a v ranní špičce pomáhají chodcům zaměstnanci obecního úřadu.',\n",
       " 'ředitelství silnic a dálnic na rekonstrukci křižovatky zařadilo do plánu staveb na letošní rok.',\n",
       " 'musí ale ještě sehnat 130 milionů korun.',\n",
       " 'ivana šmelová redaktorka den za dnem mezi 7. a 8. ráno josef reška s kolegou zastavují dopravu.',\n",
       " 'aby se hlavně školáci bezpečně dostali z jedné strany silnice na druhou nasadil obecní úřad vlastní síly.',\n",
       " 've špičce je totiž podle místních překonání křižovatky téměř nemožné.',\n",
       " 'zdena pavlíková obyvatelka nesovice je to někdy až jak se říká o strach tady přecházet.',\n",
       " 'z jedné strany vám zastaví a z druhé strany by vás přejelo.',\n",
       " 'josef reška zaměstnanec obecního úřadu nesovice kolikrát nám nadávají a jsou na nás hrubí že je zastavujeme.',\n",
       " 'ivana šmelová redaktorka nepřehledné křížení frekventované silnice první třídy sousedí se železničním přejezdem.',\n",
       " 'často se tu tvoří kolony a řidiči bourají.',\n",
       " 'vítězslav reška starosta nesovice nez.',\n",
       " 'v minulosti tu byly 3 smrtelné nehody pokud si pamatuji a několik havárií že to odnesly pouze plechy teda.',\n",
       " 'ivana šmelová redaktorka rekonstrukce vázla roky hlavně na nedostatku peněz změnách předpisů a výkupu pozemků a budov.',\n",
       " 'teď je vše připravené březnový termín zahájení úprav se ale přesto ještě odsune.',\n",
       " 'zdeněk pánek ředitel ředitelství silnic a dálnic závod brno předpokládáme že k zahájení této stavby dojde letos.',\n",
       " 'doufáme že se nám s ministerstvem dopravy a s fondem dopravní infrastruktury podaří nalézt finanční prostředky.',\n",
       " 'ivana šmelová redaktorka křižovatka se posune asi o 25 metrů dál do bezpečné vzdálenosti od přejezdu.',\n",
       " 'čtyři domy se tak budou muset zbourat.',\n",
       " 'věra hoderová úsek výstavby silnic řsd závod brno dojde k rozšíření prostorů křižovatky o odbočovací pruhy.',\n",
       " 'ivana šmelová redaktorka rekonstrukce by měla být hotová během jedné stavební sezony.',\n",
       " 'úplná uzávěra ale čeká místní čeká jen na několik týdnů.',\n",
       " 'spor o českou pomoc eurozóně.',\n",
       " 'jakub železný moderátor dobrý večer. 38 miliard korun to je suma kterou chce ministr financí miroslav kalousek schválit jako tolik diskutovanou půjčku eurozóně.',\n",
       " 'je to méně než bylo předpokládáno ale dá se předpokládat že kolem toho bude ještě rada dohadů.',\n",
       " 'sám strážce české státní pokladny dnes také řekl že v bruselu prý nerozumějí tomu proč chce česká vláda s výjimkou jeho top 09 schválit budoucí smlouvu o rozpočtové odpovědnosti svými občany v referendu.',\n",
       " 'miroslav kalousek ministr financí top 09 seznámil jsem své kolegy s pozicí české vlády že v případě že se rozhodne podepsat tuto smlouvu bude prosazovat ratifikaci referendem.',\n",
       " 'v očích všech svých kolegů všech svých kolegů ze zemí evropské unie četl jsem totální nepochopení tohoto postoje.',\n",
       " 'jakub železný moderátor no a prvním hostem je rektor vysoké škole ekonomické richard hindls.',\n",
       " 'vaše magnificence přeji vám dobrý večer.',\n",
       " 'richard hindls rektor vysoká škola ekonomická pěkný večer.',\n",
       " 'jakub železný moderátor ministr financí miroslav kalousek dneska také řekl že navrhne ve středu vládě půjčku mezinárodnímu měnovému fondu na záchranu eurozóny do výše miliardy a půl eur to je v přepočtu zhruba 38 miliard českých korun.',\n",
       " 'váš komentář k této sumě a k tomu co pan ministr navrhuje?',\n",
       " 'richard hindls rektor vysoká škola ekonomická tak nejprve asi celkový objem to co by ráda evropa poskytla mezinárodnímu měnovému fondu je přibližně 200 miliard z toho v té struktuře je asi 150 miliard které by měly dát země eurozóny a řekněme 50 miliard které by měly přijít z těch zemí jako jsme my a další které eurem neplatí které euro nemají.',\n",
       " 'náš závazek původně zněl zhruba na 90 miliard čili zhruba o 2 5násobek větší částku.',\n",
       " 'v tuhle chvíli jsme na nějakých 7 promile toho co by evropa měnovému fondu měla nebo chtěla poskytnout.',\n",
       " 'jakub železný moderátor mě zajímá váš názor když jsme tedy u té sumy tak ona ta suma je asi i výsledkem i jakéhosi politického kompromisu protože těch původních zhruba 90 miliard to se příliš nesetkalo s nadšením na české politické scéně.',\n",
       " 'richard hindls rektor vysoká škola ekonomická je to přibližně částka která odpovídá velikosti a síle naší ekonomiky a pokud bychom to brali k relaci k nějakým jiným zemím které jsou kolem nás a také neplatí eurem jako je třeba polsko nebo jako jsou některé severské země tak já bych řekl že částka zhruba odpovídá nějaké relaci.',\n",
       " 'jakub železný moderátor a principiálně tedy jste pro to aby česko ačkoliv není v eurozóně ten záchranný balíček sanovalo nějakou částkou?',\n",
       " 'richard hindls rektor vysoká škola ekonomická já vám na tu otázku odpovím až poslední větou a možná přece jenom takovou malou výkrutku předtím.',\n",
       " 'je to situace kdy vlastně evropa si ze svých peněz uloží nebo půjčí mezinárodnímu měnovému fondu aby od něj potom získala nějakým způsobem podporu nebo jistotu v problémech které evropa má v tom je ta situace opravdu asi trošinku zvláštní.',\n",
       " 'protože my se vlastně jakoby obracíme na třetí stranu abychom jí půjčili ze svých zdrojů peníze aby ta třetí strana potom vůči nám byla nějakým způsobem ekonomicky shovívavější.',\n",
       " 'z pohledu toho že jsme členy řekněme té západní části evropy a jejích všech výhod i nevýhod problémů i úspěchů já si myslím že to rozhodnutí nebo aspoň ten návrh toho rozhodnutí je správný jakkoliv samozřejmě rozhodne teprve vláda a dokonce ani ta ne protože to poslední slovo bude mít česká národní banka.',\n",
       " 'jakub železný moderátor česká národní banka.',\n",
       " 'na druhou stranu ale ony přece existují vaše magnificence země mimo eurozónu které půjčku zatím vyloučily mám a mysli británii a bulharsko .',\n",
       " 'richard hindls rektor vysoká škola ekonomická británie a bulharsko ano.',\n",
       " 'jakub železný moderátor . proč by tedy česko nemohlo být třetí?',\n",
       " 'ono se od počátku říkalo že bychom neměli být úplně osamělí ale to už bychom teď zjevně nebyli.',\n",
       " 'richard hindls rektor vysoká škola ekonomická to je věc která je samozřejmě k diskusi protože británie se velmi rychle po všech těch jednáních už vlastně na konci prosince vymezila tímto způsobem jak jste říkal.',\n",
       " 'bulharsko nevím přesně jaké k tomu má důvody.',\n",
       " 'samozřejmě je to asi otázka nějakého pocitu pospolitosti vůči evropě.',\n",
       " 'já si stále myslím že by měl převládat ten názor že se může stát komukoliv cokoliv a jestliže jsme se jednou dohodli na nějakém souručenství že bychom měli asi nést i ty ztráty které jsou jistým způsobem strádáním ale .',\n",
       " 'jakub železný moderátor ale my nejsme v rámci toho souručenství členy toho užšího souručenství tedy mám na mysli eurozónu.',\n",
       " 'richard hindls rektor vysoká škola ekonomická nejsme nejsme ale to je pouze 17 zemí a samozřejmě ta evropa je dnes velikým celkem a teď víme že bude přistupovat i chorvatsko.',\n",
       " 'takže je to asi věc ne nebo běh na delší trať.',\n",
       " 'já bych se za tu půjčku spíš přimlouval.',\n",
       " 'jakub železný moderátor ono pane rektore to nejsou peníze ze státního rozpočtu tak jsme dlouhodobě uklidňovány.',\n",
       " 'měly být tedy z devizových rezerv české národní banky ale i tak kde je řečeno že ty peníze dostaneme zpět?',\n",
       " 'zvlášť v situaci kdy víme až ani vy ekonomové nejste schopni predikovat jak bude vypadat ekonomika v příštích měsících.',\n",
       " 'richard hindls rektor vysoká škola ekonomická státní peníze to skutečně nejsou jsou to devizové rezervy banky ale samozřejmě stát za ně a za ten ušlý zisk z těch peněz který by případně připadal našemu hospodářství tak samozřejmě stát za ně nese určitou odpovědnost.',\n",
       " 'no na tuhle otázku je opravdu velmi těžké odpovědět protože všichni musíme doufat že ten scénář který nyní probíhá nedojde až ke svému definitivnímu konci .',\n",
       " 'jakub železný moderátor promiňte pane profesore ale doufání je docela málo v takto zásadních otázkách přece.',\n",
       " 'richard hindls rektor vysoká škola ekonomická tak někdy je naděje možná víc než holá skutečnost protože z nějakých základních premisí musíte vycházet nedá se všechno negovat.',\n",
       " 'a pokud jsme se rozhodli že půjdeme touto cestou tak samozřejmě můžeme mít i ty nejčernější vyhlídky ale můžeme mít také . to je otázka nastavení nějakého vnímání té situace.',\n",
       " 'já si myslím že jistá míra řekněme zdravého sebevědomí jakkoliv teď jsme všichni v určitých problémech je také součást té situace.',\n",
       " 'jakub železný moderátor ale i pan ministr kalousek dneska mluvil o tom že by on tedy řekl přímo že by vláda ručila národní bance za případné znehodnocení půjčení peněz a za ten ušlý zisk.',\n",
       " 'já vím že je to takové co by bylo kdyby ale když už i sám ministr financí připouští nebo něco říká takového tak to zní jako že takovou možnost připouští.',\n",
       " 'richard hindls rektor vysoká škola ekonomická samozřejmě tahle možnost existuje vždycky ale stát má samozřejmě nástroje k tomu aby .',\n",
       " 'samozřejmě stálo by nás to každého něco ale stát má nástroje jak si s touto situací poradit.',\n",
       " 'já bych možná ještě v té souvislosti abychom se stále nedívali jenom doprostřed evropy přece jenom bych tady možná si dovolil připomenout jednání g20 které je asi 2 měsíce staré a ve kterém se vlastně před tím jednáním velmi jaksi nadějně shlíželo k tomu že i ostatní části světa nějakým způsobem budou přispívat do mezinárodního měnového fondu a tím odbřemeňovat situaci která je dneska v české republice.',\n",
       " 'na druhé straně se pak ukázalo během těch jednání g20 a bezprostředně po nich že zase tak silný zájem těchto zemí o tu pomoc není.',\n",
       " 'nakonec to jednání dopadlo trošku jinak než se původně očekávalo.',\n",
       " 'tak na mě to dělalo tenkrát dojem trošku jako kdyby se řeklo dobře evropo udělala sis problémy v podstatě sama protože ta fiskální krize je problémem především chování evropských států a evropských politiků udělala sis ty problémy vyřešit si je.',\n",
       " 'takže trošku i ta g20 se od toho nějakým způsobem odklonila.',\n",
       " 'ale není to tak že by evropa měla mít nějaký jiný podíl než ty ostatní státy.',\n",
       " 'prostě evropa je také součást světového hospodářství.',\n",
       " 'jakub železný moderátor co říkáte argumentu že mezinárodní měnový fond je dobrý věřitel tedy že zase z tohoto hlediska je to relativně bezpečné.',\n",
       " 'je to skutečně tak?',\n",
       " 'richard hindls rektor vysoká škola ekonomická on je dobrý věřitel a docela dneska nastavil takový vztyčený prst vůči tomu co se dneska u nás děje protože zrovna dneska mezinárodní měnový fond snížil výhled světové ekonomiky na hodnotu která je samozřejmě kladná která by se nám v evropě velmi líbila číslo 3 3.',\n",
       " 'ale je to pořád hodnota která je nad nulou a je nižší než byla.',\n",
       " 'takže z tohodle pohledu z tohodle pohledu bych řekl že i mezinárodní měnový fond je velmi stabilní institucí to zase .',\n",
       " 'jakub železný moderátor takže z tohoto hlediska se nemusíme ničeho obávat?',\n",
       " 'richard hindls rektor vysoká škola ekonomická já myslím že ne příliš.',\n",
       " 'jakub železný moderátor do studia teď přišel i další host ředitel výzkumu centra pro ekonomiku a politiku marek loužek.',\n",
       " 'vítám vás.',\n",
       " 'dobrý večer.',\n",
       " 'marek loužek ředitel pro výzkum centrum pro ekonomiku a politiku dobrý den.',\n",
       " 'jakub železný moderátor pojďme teď k dalšímu tématu pánové teď už společně další související věcí je ona smlouva o fiskálních pravidlech evropské unie.',\n",
       " 'pan ministr kalousek dneska po návratu z bruselu doslova řekl že postoji české vlády k této smlouvě představitelé ostatních členských států eu nerozumějí.',\n",
       " 'slyšeli jsme to koneckonců i v tom jeho vyjádření na úvod.',\n",
       " 'pane docente loužku jaký to že jsme nečitelní dává podle vás o česku obraz?',\n",
       " 'jak vy hodnotíte tohle povzdechnutí pana ministra kalouska?',\n",
       " 'marek loužek ředitel pro výzkum centrum pro ekonomiku a politiku já myslím že určitě nejsme nečitelní.',\n",
       " 'my máme prostě svůj vlastní přístup k té fiskální smlouvě a to že nejsme nadšeni z každého paragrafu který bude obsahovat je naprosto přirozené a pan premiér koneckonců už naznačil zdrženlivost v té fiskální smlouvě.',\n",
       " 'takže já myslím že to je naprosto v pořádku.',\n",
       " 'jsou země které se nepřipojí jako je velká británie možná ještě některé další takže já myslím že tady není vůbec žádný problém.',\n",
       " 'jakub železný moderátor čili vám to co pan ministr říká tedy to že jsme v bruselu já teď si dovolím jeho slova přeložit trošku za troublemakery to vám nevadí nebo nepřipadá vám to?',\n",
       " 'marek loužek ředitel pro výzkum centrum pro ekonomiku a politiku já myslím že žádní troublemakeři určitě nejsme .',\n",
       " 'jakub železný moderátor dobře já to možná interpretuji trošku to posouvám uznávám ale na mě tak ta jeho slova působila jako že on přijel z bruselu a tvářil se že nikdo nechápal co to ti češi dělají.',\n",
       " 'marek loužek ředitel pro výzkum centrum pro ekonomiku a politiku ne prostě každá země má svůj vlastní přístup svoje vlastní tradice k tomu problému a my asi nepatříme úplně k těm nejvíc federalistickým silám a to myslím že všichni vědí takže není za tím žádný problém.',\n",
       " 'jakub železný moderátor na druhou stranu proč by v tak zásadních věcech měli pane profesore hindlsi všichni držet jednu linii?',\n",
       " 'vždyť jde o svrchovanou věc každého státu.',\n",
       " 'richard hindls rektor vysoká škola ekonomická tak oni ji určitě ani nedrží protože co říká marek loužek my jsme trošku v jiné situaci než velký zbytek evropy my se pohybujeme v otázce veřejného dluhu někde kolem 40 procent.',\n",
       " 'snažíme se všemožně vylepšit si deficit takže . a docela se nám to možná i daří tak z tohodle pohledu zase samozřejmě . přestáli jsme relativně dobře i krizi kolem let 2008 2009 zejména třeba v bankovním sektoru takže z tohodle pohledu zase naše republika má nějaké vlastní základní předpoklady pro chování se v této situaci.',\n",
       " 'já si vůbec nemyslím že evropa je nějaký jednotným šedivým monolitním blokem který se chová zcela stejně.',\n",
       " 'ty výchozí parametry jednotlivých zemí jsou poměrně dost odlišné.',\n",
       " 'to ostatně vidíme na prvních stránkách novin denně.',\n",
       " 'jakub železný moderátor dobře takže váš názor na tu smlouvu o fiskální unii tak jak v současné době vypadá že je připravována je pro česko akceptovatelná z vašeho pohledu?',\n",
       " 'richard hindls rektor vysoká škola ekonomická já si myslím že akceptovatelná je pokud půjdeme po té stránce parametrů protože my opravdu máme vlastní zájem na tom abychom si udrželi ty parametry v takové míře jaké mají být.',\n",
       " 'a potom ostatně evropa se v té fiskální smlouvě chce zavázat k něčemu k čemu už se měla zavázat dávno i bez té smlouvy.',\n",
       " 'vždyť co se dělo kolem let 2003 2004 kdy se všechny parametry maastrichtu začaly v některých zemích prudce zhoršovat a teď se vlastně evropa pomocí té smlouvy vrací k tomu z čeho vycházela při tom když do eurozóny vstupovala nebo když ji tedy samostatně vytvářela.',\n",
       " 'takže z tohodle pohledu mě se to zdá jenom jakoby posun zpátky o nějakých 10 let ale tohle se nemělo vůbec stát.',\n",
       " 'jakub železný moderátor váš názor pane docente na vztah česka a téhle smlouvy jak ji vidíte je pro česko výhodná nevýhodná?',\n",
       " 'marek loužek ředitel pro výzkum centrum pro ekonomiku a politiku tak já myslím že nějaké fiskální pravidlo že si země stanovují samy pro sebe určitá fiskální pravidla a střízlivost v rozpočtové politice to je navýsost potřebné.',\n",
       " 'otázka je ovšem jestli by měla existovat z bruselu nadekretovaná nějaká pravidla a vnucovat vlastně členským zemím seshora.',\n",
       " 'to já si myslím že je problém to si může každá země udělat sama.',\n",
       " 'jakub železný moderátor promiňte není to jenom taková trošku pocitová záležitost?',\n",
       " 'já mám na mysli to že pan ministr kalousek sám přece říká že naše pravidla jsou a budou ještě přísnější tak proč by nám mělo vadit něco jenom proto že to je z bruselu.',\n",
       " 'čili to co říkáte je to opravdu problém to že to je seshora nebo je to nějaký váš pocit?',\n",
       " 'marek loužek ředitel pro výzkum centrum pro ekonomiku a politiku no tak je to problém že to je seshora nadekretovaná pravidla která by mohla si stanovit každá členská země sama.',\n",
       " 'a já chci ještě říct .',\n",
       " 'jakub železný moderátor a když my sami máme stanovena nějaká pravidla která jsou stejně přísnější tak je to jedno ne?',\n",
       " 'marek loužek ředitel pro výzkum centrum pro ekonomiku a politiku no tak by nám to teoreticky nemuselo vadit.',\n",
       " 'problém je ovšem to že vlastně ta smlouva obsahuje i schvalování státních rozpočtů členských zemí a to je takový zásah do suverenity každého členského státu že si každá členská země rozmyslí jestli na takovou smlouvu má přistupovat.',\n",
       " 'richard hindls rektor vysoká škola ekonomická no na to asi nejde vůbec nic říct.',\n",
       " 'my nejsme zvyklí na podobné politiky to je opravdu poměrně výrazný zásah ale otázka je jak se budou vyvíjet ta jednání v ostatních zemích.',\n",
       " 'protože si myslím že se o tomhle asi bude debatovat.',\n",
       " 'slyšeli jsme dneska třeba polsko a podobně tohle asi není ukončená záležitost.',\n",
       " 'jakub železný moderátor máte pocit že to úskalí nebude zdaleka jenom u nás nebo v některých zemích ale že až si to všichni pořádně přečtou tak třeba zjistí že argumenty které říká pan docent loužek budou vadit i jinde?',\n",
       " 'richard hindls rektor vysoká škola ekonomická může se to samozřejmě stát protože zase jak už jsem říkal do té situace každý vstupujeme trošku z jiné startovní čáry.',\n",
       " 'my ne úplně z té nejhorší na druhé straně jsme zase malou ekonomikou která je hodně otevřená tomu co se děje kolem nás je na tom hodně závislá.',\n",
       " 'takže opravdu by se to asi muselo odstránkovat zemi po zemi a zjišťovat jaké jsou priority těch jednotlivých zemí.',\n",
       " 'jakub železný moderátor na závěr k tomuto tématu pánové váš názor na referendum které požadují 2 ze 3 koaličních stran v této věci?',\n",
       " 'pane docente loužku?',\n",
       " 'marek loužek ředitel pro výzkum centrum pro ekonomiku a politiku já myslím že referendum je naprosto zbytečné že by měla vláda se postavit tomu čelem a dát jasné stanovisko a není potřeba zavádět nějak složitá referenda.',\n",
       " 'jakub železný moderátor dobře jaké by to mělo být stanovisko tedy když říkáte že by to mělo být čelem a jasně?',\n",
       " 'marek loužek ředitel pro výzkum centrum pro ekonomiku a politiku podle mě by měla dát negativní stanovisko.',\n",
       " 'jakub železný moderátor pane profesore?',\n",
       " 'richard hindls rektor vysoká škola ekonomická já si také myslím že to referendum je opravdu v této situaci zbytečné vláda nese často mnohem větší odpovědnost za mnohem větší celky.',\n",
       " 'já se osobně domnívám že se vláda spíš přikloní k této záležitosti.',\n",
       " 'jakub železný moderátor a váš názor je že to je správně?',\n",
       " 'richard hindls rektor vysoká škola ekonomická že by se přiklonit měla.',\n",
       " 'jakub železný moderátor že by se přiklonit měla dobře.',\n",
       " 'pánové na závěr ještě využiju toho že vy jste z vysoké školy ekonomické vy jste z centra pro ekonomiku a politiku takže svým způsobem oba velmi dobře znáte prezidenta václava klause a ten právě dnes do té debaty o akademických svobodách docela jasně zasáhl.',\n",
       " 'asi víte co řekl řekl že má pocit že je to falešné že akademici to přehánějí a vlastně se velice jasně postavil za školné i za některé další návrhy pana ministra dobeše.',\n",
       " 'pane rektore váš návrh váš názor?',\n",
       " 'richard hindls rektor vysoká škola ekonomická my jsme dneska já můžu říct i několik základních skutečností my jsme dneska dlouze jednali s panem ministrem dobešem nedošli jsme k nějakému zásadnímu závěru ale také to jednání musím říct že bylo velmi klidné nebylo vůbec emotivní.',\n",
       " 'zhruba v té době asi pan prezident hovořil o tom tématu já jsem se to dozvěděl až mnohem mnohem později.',\n",
       " 'jednoznačně tam zaznělo že rektoři jsou pro reformy.',\n",
       " 'my ostatně už léta poukazujeme na celou řadu věcí které nám prostě komplikují život podstatně marek loužek je také kantor a ví moc dobře o čem hovořím.',\n",
       " 'z tohodle pohledu zase myslím že to dnešní nastavení jakkoliv pan ministr nechce ustoupit nebo zatím neustupuje ze svých pozic tak z tohodle pohledu si myslím že to dnešní jednání vneslo trošku světla.',\n",
       " 'my jsme se dohodli že se obnoví činnost jakési pracovní skupiny která je trojúhelníková stojí někde mezi radou vysokých škol ministerstvem školství a českou konferencí rektorů a že se sejdeme zhruba asi za 10 dní znovu v tom přibližném v té struktuře jako dnes.',\n",
       " 'takže z tohodle pohledu myslím že je dneska poměrně o čem hovořit.',\n",
       " 'jakub železný moderátor váš názor na to co řekl pan prezident a na to jak v současné době probíhá ta debata mezi akademiky a státem?',\n",
       " 'marek loužek ředitel pro výzkum centrum pro ekonomiku a politiku tak já s panem prezidentem v tomhle souhlasím.',\n",
       " 'myslím si že ty protesty proti té vysokoškolské reformě jsou trošku přehnané a že si to vůbec nezaslouží aby studenti do toho byli ještě zatahováni a nějaké protesty to si myslím že opravdu to není důstojné.',\n",
       " 'jakub železný moderátor pánové děkuji i za odpovědi na tohle téma které jsme si trošku přidali k tomu hlavnímu tématu.',\n",
       " 'mimochodem k tomu hlavnímu tématu budeme mít zítra hlavního hosta právě miroslava kalouska už zmiňovaného ministra financí takže se dívejte i zítra na události komentáře v 10 večer.',\n",
       " 'jinak vám moc děkuji že jste přišli.',\n",
       " 'na shledanou.',\n",
       " 'richard hindls rektor vysoká škola ekonomická pěkný večer.',\n",
       " 'na shledanou.',\n",
       " 'marek loužek ředitel pro výzkum centrum pro ekonomiku a politiku děkuji za pozvání.',\n",
       " 'na shledanou.',\n",
       " 'emoce a zmatky na úřadech práce.',\n",
       " 'jakub železný moderátor z úřadů práce zaznívají ostré výhrady směrem k novému způsobu výplaty dávek.',\n",
       " 'už 3 týdny mají zaměstnanci úřadů novou agendu ale stěžují si že jich je málo že se neorientují v počítačovém programu a že ten program má navíc řadu nedostatků.',\n",
       " 'ministr práce a sociálních věcí jaromír drábek přiznává že problémy jsou.',\n",
       " 'zároveň ale říká že změny se musely udělat najednou.',\n",
       " 'olga zajíčková klientka úřadu práce nezlobte se na mě ale už toho mám opravdu dost. pracovnice úřadu práce tak se posaďte já vám zavolám kolegyni.',\n",
       " 'olga zajíčková klientka úřadu práce takže já čekám mladá paní.',\n",
       " 'kamila štichová redaktorka v posledních dnech na úřadech práce nic neobvyklého.',\n",
       " 'klienti byli zvyklí že peníze jim v minulosti chodily v dřívějším termínu.',\n",
       " 's tím jak jim dochází peníze dochází i trpělivost.',\n",
       " 'ivan vilím ředitel kontaktního pracoviště úřadu práce litoměřice ty ženský který jsou za těma přepážkama ty to potom odnášej tu nespokojenost.',\n",
       " 'kamila štichová redaktorka samy se přitom podle odborů potýkají se svými problémy.',\n",
       " 'nový počítačový program neustále padá údaje tak mizí a musí se vyplňovat i několikrát znovu.',\n",
       " 'stovky žádostí se tak místo v počítačích zatím hromadí v krabicích od banánů.',\n",
       " 'eva pešková členka odborové organizace při úřadu práce litoměřice kdybysme tu svoji práci měly jsme pro ni podmínky tak ji vykonáváme ale tohle to to co se děje teď je prostě něco neskutečného.',\n",
       " 'šárka zemanová předsedkyně odborové organizace při úřadu práce ostrava lidé jsou už psychicky opravdu vyčerpaní z této situace a požadujeme taky aby byla i jejich situace jako zaměstnanců řešena.',\n",
       " 'kamila štichová redaktorka odbory po vedení ministerstva a úřadu práce požadují zprovoznění softwaru nasazení antikonfliktních týmů a psychologickou pomoc pro své zaměstnance.',\n",
       " 'když se tak nestane dojde prý až na trestní oznámení.',\n",
       " 'jiří reichl mluvčí generálního ředitelství úřadu práce čr mají právo upozorňovat na to co se jim nelíbí to je jejich zákonné právo a my se k tomu musíme nějak postavit.',\n",
       " 'petra tachecí redaktorka pracovnice úřadů práce poslední týdny běžně pracují i o víkendu přesto do konce měsíce zřejmě nestihnou všem klientům poslat peněžní poukázku.',\n",
       " 'kamila štichová redaktorka to ale ministerstvo odmítá a klienty uklidňuje o své peníze se bát nemusíte.',\n",
       " 'jaromír drábek ministr práce a sociálních věcí top 09 je reálný předpoklad že do konce měsíce v zákonném termínu všechny dávky které mají být vyplaceny do konce ledna tak vyplatíme.',\n",
       " ...]"
      ]
     },
     "execution_count": 28,
     "metadata": {},
     "output_type": "execute_result"
    }
   ],
   "source": [
    "# get all properties of embeddings\n",
    "sentences"
   ]
  },
  {
   "cell_type": "code",
   "execution_count": 29,
   "metadata": {},
   "outputs": [
    {
     "name": "stderr",
     "output_type": "stream",
     "text": [
      "2022-11-14 15:43:15,745 - BERTopic - Reduced dimensionality\n",
      "2022-11-14 15:43:16,012 - BERTopic - Clustered reduced embeddings\n"
     ]
    }
   ],
   "source": [
    "topics, probs = topic_model.fit_transform(documents=sentences, embeddings=embeddings)"
   ]
  },
  {
   "cell_type": "code",
   "execution_count": 30,
   "metadata": {},
   "outputs": [
    {
     "data": {
      "application/vnd.plotly.v1+json": {
       "config": {
        "plotlyServerURL": "https://plot.ly"
       },
       "data": [
        {
         "marker": {
          "color": "#D55E00"
         },
         "orientation": "h",
         "type": "bar",
         "x": [
          0.01676486118752672,
          0.01849709195627378,
          0.019207980953638657,
          0.023727822728207566,
          0.024647928693942868,
          0.029170343834497035,
          0.02932770292119424,
          0.029473543239510434,
          0.03014062787662666,
          0.032185466350785626
         ],
         "xaxis": "x",
         "y": [
          "vysoké  ",
          "školné  ",
          "škol  ",
          "školy  ",
          "stanislav  ",
          "rozvoj  ",
          "prorektor  ",
          "štech  ",
          "karlova  ",
          "univerzita  "
         ],
         "yaxis": "y"
        },
        {
         "marker": {
          "color": "#0072B2"
         },
         "orientation": "h",
         "type": "bar",
         "x": [
          0.011717598651870371,
          0.011985322986750561,
          0.012709389337833813,
          0.012906253267940392,
          0.014052604570871907,
          0.015620382738368768,
          0.016505626163074147,
          0.020546369558079036,
          0.02085020388524738,
          0.028401091275266993
         ],
         "xaxis": "x2",
         "y": [
          "českou  ",
          "českých  ",
          "ods  ",
          "republiky  ",
          "česka  ",
          "českého  ",
          "pražské  ",
          "česku  ",
          "česko  ",
          "české  "
         ],
         "yaxis": "y2"
        },
        {
         "marker": {
          "color": "#CC79A7"
         },
         "orientation": "h",
         "type": "bar",
         "x": [
          0.012639381472340566,
          0.0131025630406549,
          0.01472786236519967,
          0.014850840729320042,
          0.017229641873665512,
          0.017470084054206535,
          0.017534599381936734,
          0.0192231099771699,
          0.020120230346814268,
          0.0203428859143428
         ],
         "xaxis": "x3",
         "y": [
          "stanislav  ",
          "titul  ",
          "australian  ",
          "open  ",
          "mistrovství  ",
          "poháru  ",
          "evropy  ",
          "vyhrál  ",
          "bartůšek  ",
          "finále  "
         ],
         "yaxis": "y3"
        },
        {
         "marker": {
          "color": "#E69F00"
         },
         "orientation": "h",
         "type": "bar",
         "x": [
          0.014150607133246828,
          0.01457960814079608,
          0.01468844250683759,
          0.01619873078917467,
          0.016457654479626455,
          0.016492775143761736,
          0.02061596892970217,
          0.02125627717052891,
          0.02329301504912065,
          0.025744981063009674
         ],
         "xaxis": "x4",
         "y": [
          "nestalo  ",
          "pravda  ",
          "nestihli  ",
          "žárovku  ",
          "nemůže  ",
          "nemám  ",
          "nebudu  ",
          "nikdy  ",
          "nebude  ",
          "nikdo  "
         ],
         "yaxis": "y4"
        },
        {
         "marker": {
          "color": "#56B4E9"
         },
         "orientation": "h",
         "type": "bar",
         "x": [
          0.016966828545522852,
          0.017767624655691462,
          0.018088464562727835,
          0.01814085405529316,
          0.02107582814678986,
          0.02217215495646942,
          0.022280635561011956,
          0.024945681273847557,
          0.0460438302631341,
          0.05715756562149183
         ],
         "xaxis": "x5",
         "y": [
          "právní  ",
          "advokátů  ",
          "advokát  ",
          "právník  ",
          "soudce  ",
          "ústavního  ",
          "exekutorů  ",
          "ústavní  ",
          "soudu  ",
          "soud  "
         ],
         "yaxis": "y5"
        },
        {
         "marker": {
          "color": "#009E73"
         },
         "orientation": "h",
         "type": "bar",
         "x": [
          0.015117583764571384,
          0.015216915051007002,
          0.016094047653836055,
          0.016378742681322046,
          0.018004996970297667,
          0.0197487030494463,
          0.04447584879565559,
          0.04556472255244239,
          0.05069539206667277,
          0.07176228040077837
         ],
         "xaxis": "x6",
         "y": [
          "jednotky  ",
          "50  ",
          "lessy  ",
          "prezident  ",
          "karvinsko  ",
          "policisty  ",
          "policistů  ",
          "policisté  ",
          "policejní  ",
          "policie  "
         ],
         "yaxis": "y6"
        },
        {
         "marker": {
          "color": "#F0E442"
         },
         "orientation": "h",
         "type": "bar",
         "x": [
          0.014028322900668817,
          0.014828104306800247,
          0.015319702357774731,
          0.016548520709999646,
          0.016803349268466647,
          0.016803349268466647,
          0.019674022150937328,
          0.02214322934337213,
          0.02645106825179321,
          0.027030462978966035
         ],
         "xaxis": "x7",
         "y": [
          "lékaře  ",
          "lékařů  ",
          "pacienti  ",
          "fn  ",
          "onemocnění  ",
          "přednosta  ",
          "diagnóza  ",
          "zdravotnictví  ",
          "lékaři  ",
          "nemocnice  "
         ],
         "yaxis": "y7"
        },
        {
         "marker": {
          "color": "#D55E00"
         },
         "orientation": "h",
         "type": "bar",
         "x": [
          0.019305126531448266,
          0.019545335074325168,
          0.01982056195945061,
          0.01982056195945061,
          0.019823890678442223,
          0.019829011174265238,
          0.020405748562477417,
          0.024200109395543176,
          0.2161487241451766,
          0.2516999605589221
         ],
         "xaxis": "x8",
         "y": [
          "karviná  ",
          "petr  ",
          "kašová  ",
          "vanda  ",
          "vašek  ",
          "české  ",
          "redakce  ",
          "olomouc  ",
          "česká  ",
          "televize  "
         ],
         "yaxis": "y8"
        },
        {
         "marker": {
          "color": "#0072B2"
         },
         "orientation": "h",
         "type": "bar",
         "x": [
          0.02908337146017483,
          0.02929735865572428,
          0.029785013047562564,
          0.029785013047562564,
          0.03030706067757238,
          0.03054811045995384,
          0.03099190578805459,
          0.031400674944323116,
          0.04024205912431467,
          0.04764888662806291
         ],
         "xaxis": "x9",
         "y": [
          "dětí  ",
          "psycholožka  ",
          "pedagogicko  ",
          "masáková  ",
          "psychologická  ",
          "kamila  ",
          "štichová  ",
          "dítě  ",
          "rodiče  ",
          "děti  "
         ],
         "yaxis": "y9"
        },
        {
         "marker": {
          "color": "#CC79A7"
         },
         "orientation": "h",
         "type": "bar",
         "x": [
          0.020510233168433634,
          0.0217061574752734,
          0.02205044330113709,
          0.024996959481616794,
          0.025982199773151114,
          0.02896355820338912,
          0.029603789275441942,
          0.03575958890738597,
          0.04562077632649374,
          0.07465938853779477
         ],
         "xaxis": "x10",
         "y": [
          "000  ",
          "300  ",
          "dolarů  ",
          "ročně  ",
          "miliardy  ",
          "200  ",
          "miliard  ",
          "zhruba  ",
          "150  ",
          "milionů  "
         ],
         "yaxis": "y10"
        },
        {
         "marker": {
          "color": "#E69F00"
         },
         "orientation": "h",
         "type": "bar",
         "x": [
          0.015847973045234803,
          0.01588955861682486,
          0.0171369125574663,
          0.01768663339290867,
          0.02179659313376923,
          0.026295060926532672,
          0.027578530235860283,
          0.03354458513434285,
          0.035829093517616595,
          0.056986425237831866
         ],
         "xaxis": "x11",
         "y": [
          "úřad  ",
          "nebudou  ",
          "trhu  ",
          "systému  ",
          "odboráři  ",
          "úřady  ",
          "systém  ",
          "práci  ",
          "nezaměstnanost  ",
          "práce  "
         ],
         "yaxis": "y11"
        },
        {
         "marker": {
          "color": "#56B4E9"
         },
         "orientation": "h",
         "type": "bar",
         "x": [
          0.01710561001635261,
          0.01736492598021872,
          0.01736492598021872,
          0.01793397825781357,
          0.018146364278370464,
          0.018146364278370464,
          0.01866372462441133,
          0.022198143414306266,
          0.02763673563916158,
          0.028910417794312245
         ],
         "xaxis": "x12",
         "y": [
          "štěpánka  ",
          "tachecí  ",
          "martanová  ",
          "šebela  ",
          "podrobnější  ",
          "bolí  ",
          "samko  ",
          "zuzana  ",
          "markéta  ",
          "michal  "
         ],
         "yaxis": "y12"
        },
        {
         "marker": {
          "color": "#009E73"
         },
         "orientation": "h",
         "type": "bar",
         "x": [
          0.03395590489754368,
          0.03545161052636664,
          0.04176025729816366,
          0.04176025729816366,
          0.04539721160910881,
          0.04957625901890989,
          0.05106567539300874,
          0.053715716331866344,
          0.06843338065167957,
          0.0996045416577199
         ],
         "xaxis": "x13",
         "y": [
          "kubanková  ",
          "pěkný  ",
          "voldánová  ",
          "jolana  ",
          "hezké  ",
          "zigmundová  ",
          "dobré  ",
          "iva  ",
          "čt  ",
          "poledne  "
         ],
         "yaxis": "y13"
        },
        {
         "marker": {
          "color": "#F0E442"
         },
         "orientation": "h",
         "type": "bar",
         "x": [
          0.01779370356530153,
          0.018163827611474358,
          0.02071524010345359,
          0.022033892897293284,
          0.025223023713390805,
          0.025640738303014252,
          0.0270935299989559,
          0.0270935299989559,
          0.0270935299989559,
          0.028945682767759735
         ],
         "xaxis": "x14",
         "y": [
          "barbora  ",
          "kroužková  ",
          "podrobnosti  ",
          "rošt  ",
          "razantní  ",
          "jitka  ",
          "šediváčkova  ",
          "longu  ",
          "uši  ",
          "sluková  "
         ],
         "yaxis": "y14"
        },
        {
         "marker": {
          "color": "#D55E00"
         },
         "orientation": "h",
         "type": "bar",
         "x": [
          0.025972183042159987,
          0.02731674619195181,
          0.027521319976243422,
          0.030819893367326223,
          0.03334036848515525,
          0.03334036848515525,
          0.0341845894700905,
          0.034565362967798385,
          0.03562621223587315,
          0.03587038850639245
         ],
         "xaxis": "x15",
         "y": [
          "duchcov  ",
          "náměstek  ",
          "prostředí  ",
          "města  ",
          "dalibor  ",
          "madej  ",
          "město  ",
          "životní  ",
          "ostravy  ",
          "primátora  "
         ],
         "yaxis": "y15"
        },
        {
         "marker": {
          "color": "#0072B2"
         },
         "orientation": "h",
         "type": "bar",
         "x": [
          0.022575302992095637,
          0.022575302992095637,
          0.026294590418869335,
          0.027597246605214336,
          0.02814025267752239,
          0.028518921224544098,
          0.03009759885686772,
          0.03411749191850628,
          0.039441885628304,
          0.04502440428403582
         ],
         "xaxis": "x16",
         "y": [
          "newt  ",
          "santorum  ",
          "kandidáta  ",
          "volby  ",
          "voleb  ",
          "republikáni  ",
          "nominaci  ",
          "republikánský  ",
          "floridě  ",
          "volební  "
         ],
         "yaxis": "y16"
        },
        {
         "marker": {
          "color": "#CC79A7"
         },
         "orientation": "h",
         "type": "bar",
         "x": [
          0.02905514196328556,
          0.02984357652838173,
          0.030703095295807094,
          0.03351899182884729,
          0.03351899182884729,
          0.03537774754605464,
          0.038001314803730354,
          0.038001314803730354,
          0.039688720010115995,
          0.04287683570449342
         ],
         "xaxis": "x17",
         "y": [
          "jinými  ",
          "dobré  ",
          "nejlepší  ",
          "dovolte  ",
          "návštěvnice  ",
          "poznámku  ",
          "zamyslel  ",
          "gregorová  ",
          "fakt  ",
          "myslím  "
         ],
         "yaxis": "y17"
        },
        {
         "marker": {
          "color": "#E69F00"
         },
         "orientation": "h",
         "type": "bar",
         "x": [
          0.024358449130070407,
          0.024800611207236353,
          0.026640467129549875,
          0.028371510377438746,
          0.028371510377438746,
          0.030771533482220458,
          0.03546438797179843,
          0.05847074164051358,
          0.06308959949276755,
          0.07360453274156213
         ],
         "xaxis": "x18",
         "y": [
          "přehrady  ",
          "hráz  ",
          "opatření  ",
          "protipovodňových  ",
          "jordán  ",
          "nádrže  ",
          "vodou  ",
          "vodu  ",
          "vody  ",
          "voda  "
         ],
         "yaxis": "y18"
        },
        {
         "marker": {
          "color": "#56B4E9"
         },
         "orientation": "h",
         "type": "bar",
         "x": [
          0.02673121063780686,
          0.02947621020166891,
          0.030056943771600165,
          0.030702753147229506,
          0.03206668766446631,
          0.03324713807734921,
          0.040732799797327225,
          0.046755245866933595,
          0.05208167496122756,
          0.05521439606820884
         ],
         "xaxis": "x19",
         "y": [
          "evropských  ",
          "eurozónu  ",
          "země  ",
          "evropě  ",
          "fondu  ",
          "evropská  ",
          "eurozóny  ",
          "evropské  ",
          "unie  ",
          "evropa  "
         ],
         "yaxis": "y19"
        },
        {
         "marker": {
          "color": "#009E73"
         },
         "orientation": "h",
         "type": "bar",
         "x": [
          0.022336650686162116,
          0.022462137962281265,
          0.024356068300557237,
          0.024807791058913144,
          0.02507482649832534,
          0.028283661239311315,
          0.028468468960930863,
          0.029949517283041686,
          0.036330693632178244,
          0.07273636051647743
         ],
         "xaxis": "x20",
         "y": [
          "tisícová  ",
          "daně  ",
          "termínu  ",
          "dávky  ",
          "daň  ",
          "nákladů  ",
          "peněz  ",
          "hotovosti  ",
          "platím  ",
          "peníze  "
         ],
         "yaxis": "y20"
        }
       ],
       "layout": {
        "annotations": [
         {
          "font": {
           "size": 16
          },
          "showarrow": false,
          "text": "Topic 0",
          "x": 0.0875,
          "xanchor": "center",
          "xref": "paper",
          "y": 0.9999999999999999,
          "yanchor": "bottom",
          "yref": "paper"
         },
         {
          "font": {
           "size": 16
          },
          "showarrow": false,
          "text": "Topic 1",
          "x": 0.36250000000000004,
          "xanchor": "center",
          "xref": "paper",
          "y": 0.9999999999999999,
          "yanchor": "bottom",
          "yref": "paper"
         },
         {
          "font": {
           "size": 16
          },
          "showarrow": false,
          "text": "Topic 2",
          "x": 0.6375000000000001,
          "xanchor": "center",
          "xref": "paper",
          "y": 0.9999999999999999,
          "yanchor": "bottom",
          "yref": "paper"
         },
         {
          "font": {
           "size": 16
          },
          "showarrow": false,
          "text": "Topic 3",
          "x": 0.9125,
          "xanchor": "center",
          "xref": "paper",
          "y": 0.9999999999999999,
          "yanchor": "bottom",
          "yref": "paper"
         },
         {
          "font": {
           "size": 16
          },
          "showarrow": false,
          "text": "Topic 4",
          "x": 0.0875,
          "xanchor": "center",
          "xref": "paper",
          "y": 0.7839999999999999,
          "yanchor": "bottom",
          "yref": "paper"
         },
         {
          "font": {
           "size": 16
          },
          "showarrow": false,
          "text": "Topic 5",
          "x": 0.36250000000000004,
          "xanchor": "center",
          "xref": "paper",
          "y": 0.7839999999999999,
          "yanchor": "bottom",
          "yref": "paper"
         },
         {
          "font": {
           "size": 16
          },
          "showarrow": false,
          "text": "Topic 6",
          "x": 0.6375000000000001,
          "xanchor": "center",
          "xref": "paper",
          "y": 0.7839999999999999,
          "yanchor": "bottom",
          "yref": "paper"
         },
         {
          "font": {
           "size": 16
          },
          "showarrow": false,
          "text": "Topic 7",
          "x": 0.9125,
          "xanchor": "center",
          "xref": "paper",
          "y": 0.7839999999999999,
          "yanchor": "bottom",
          "yref": "paper"
         },
         {
          "font": {
           "size": 16
          },
          "showarrow": false,
          "text": "Topic 8",
          "x": 0.0875,
          "xanchor": "center",
          "xref": "paper",
          "y": 0.568,
          "yanchor": "bottom",
          "yref": "paper"
         },
         {
          "font": {
           "size": 16
          },
          "showarrow": false,
          "text": "Topic 9",
          "x": 0.36250000000000004,
          "xanchor": "center",
          "xref": "paper",
          "y": 0.568,
          "yanchor": "bottom",
          "yref": "paper"
         },
         {
          "font": {
           "size": 16
          },
          "showarrow": false,
          "text": "Topic 10",
          "x": 0.6375000000000001,
          "xanchor": "center",
          "xref": "paper",
          "y": 0.568,
          "yanchor": "bottom",
          "yref": "paper"
         },
         {
          "font": {
           "size": 16
          },
          "showarrow": false,
          "text": "Topic 11",
          "x": 0.9125,
          "xanchor": "center",
          "xref": "paper",
          "y": 0.568,
          "yanchor": "bottom",
          "yref": "paper"
         },
         {
          "font": {
           "size": 16
          },
          "showarrow": false,
          "text": "Topic 12",
          "x": 0.0875,
          "xanchor": "center",
          "xref": "paper",
          "y": 0.352,
          "yanchor": "bottom",
          "yref": "paper"
         },
         {
          "font": {
           "size": 16
          },
          "showarrow": false,
          "text": "Topic 13",
          "x": 0.36250000000000004,
          "xanchor": "center",
          "xref": "paper",
          "y": 0.352,
          "yanchor": "bottom",
          "yref": "paper"
         },
         {
          "font": {
           "size": 16
          },
          "showarrow": false,
          "text": "Topic 14",
          "x": 0.6375000000000001,
          "xanchor": "center",
          "xref": "paper",
          "y": 0.352,
          "yanchor": "bottom",
          "yref": "paper"
         },
         {
          "font": {
           "size": 16
          },
          "showarrow": false,
          "text": "Topic 15",
          "x": 0.9125,
          "xanchor": "center",
          "xref": "paper",
          "y": 0.352,
          "yanchor": "bottom",
          "yref": "paper"
         },
         {
          "font": {
           "size": 16
          },
          "showarrow": false,
          "text": "Topic 16",
          "x": 0.0875,
          "xanchor": "center",
          "xref": "paper",
          "y": 0.13599999999999998,
          "yanchor": "bottom",
          "yref": "paper"
         },
         {
          "font": {
           "size": 16
          },
          "showarrow": false,
          "text": "Topic 17",
          "x": 0.36250000000000004,
          "xanchor": "center",
          "xref": "paper",
          "y": 0.13599999999999998,
          "yanchor": "bottom",
          "yref": "paper"
         },
         {
          "font": {
           "size": 16
          },
          "showarrow": false,
          "text": "Topic 18",
          "x": 0.6375000000000001,
          "xanchor": "center",
          "xref": "paper",
          "y": 0.13599999999999998,
          "yanchor": "bottom",
          "yref": "paper"
         },
         {
          "font": {
           "size": 16
          },
          "showarrow": false,
          "text": "Topic 19",
          "x": 0.9125,
          "xanchor": "center",
          "xref": "paper",
          "y": 0.13599999999999998,
          "yanchor": "bottom",
          "yref": "paper"
         }
        ],
        "height": 2500,
        "hoverlabel": {
         "bgcolor": "white",
         "font": {
          "family": "Rockwell",
          "size": 16
         }
        },
        "showlegend": false,
        "template": {
         "data": {
          "bar": [
           {
            "error_x": {
             "color": "#2a3f5f"
            },
            "error_y": {
             "color": "#2a3f5f"
            },
            "marker": {
             "line": {
              "color": "white",
              "width": 0.5
             },
             "pattern": {
              "fillmode": "overlay",
              "size": 10,
              "solidity": 0.2
             }
            },
            "type": "bar"
           }
          ],
          "barpolar": [
           {
            "marker": {
             "line": {
              "color": "white",
              "width": 0.5
             },
             "pattern": {
              "fillmode": "overlay",
              "size": 10,
              "solidity": 0.2
             }
            },
            "type": "barpolar"
           }
          ],
          "carpet": [
           {
            "aaxis": {
             "endlinecolor": "#2a3f5f",
             "gridcolor": "#C8D4E3",
             "linecolor": "#C8D4E3",
             "minorgridcolor": "#C8D4E3",
             "startlinecolor": "#2a3f5f"
            },
            "baxis": {
             "endlinecolor": "#2a3f5f",
             "gridcolor": "#C8D4E3",
             "linecolor": "#C8D4E3",
             "minorgridcolor": "#C8D4E3",
             "startlinecolor": "#2a3f5f"
            },
            "type": "carpet"
           }
          ],
          "choropleth": [
           {
            "colorbar": {
             "outlinewidth": 0,
             "ticks": ""
            },
            "type": "choropleth"
           }
          ],
          "contour": [
           {
            "colorbar": {
             "outlinewidth": 0,
             "ticks": ""
            },
            "colorscale": [
             [
              0,
              "#0d0887"
             ],
             [
              0.1111111111111111,
              "#46039f"
             ],
             [
              0.2222222222222222,
              "#7201a8"
             ],
             [
              0.3333333333333333,
              "#9c179e"
             ],
             [
              0.4444444444444444,
              "#bd3786"
             ],
             [
              0.5555555555555556,
              "#d8576b"
             ],
             [
              0.6666666666666666,
              "#ed7953"
             ],
             [
              0.7777777777777778,
              "#fb9f3a"
             ],
             [
              0.8888888888888888,
              "#fdca26"
             ],
             [
              1,
              "#f0f921"
             ]
            ],
            "type": "contour"
           }
          ],
          "contourcarpet": [
           {
            "colorbar": {
             "outlinewidth": 0,
             "ticks": ""
            },
            "type": "contourcarpet"
           }
          ],
          "heatmap": [
           {
            "colorbar": {
             "outlinewidth": 0,
             "ticks": ""
            },
            "colorscale": [
             [
              0,
              "#0d0887"
             ],
             [
              0.1111111111111111,
              "#46039f"
             ],
             [
              0.2222222222222222,
              "#7201a8"
             ],
             [
              0.3333333333333333,
              "#9c179e"
             ],
             [
              0.4444444444444444,
              "#bd3786"
             ],
             [
              0.5555555555555556,
              "#d8576b"
             ],
             [
              0.6666666666666666,
              "#ed7953"
             ],
             [
              0.7777777777777778,
              "#fb9f3a"
             ],
             [
              0.8888888888888888,
              "#fdca26"
             ],
             [
              1,
              "#f0f921"
             ]
            ],
            "type": "heatmap"
           }
          ],
          "heatmapgl": [
           {
            "colorbar": {
             "outlinewidth": 0,
             "ticks": ""
            },
            "colorscale": [
             [
              0,
              "#0d0887"
             ],
             [
              0.1111111111111111,
              "#46039f"
             ],
             [
              0.2222222222222222,
              "#7201a8"
             ],
             [
              0.3333333333333333,
              "#9c179e"
             ],
             [
              0.4444444444444444,
              "#bd3786"
             ],
             [
              0.5555555555555556,
              "#d8576b"
             ],
             [
              0.6666666666666666,
              "#ed7953"
             ],
             [
              0.7777777777777778,
              "#fb9f3a"
             ],
             [
              0.8888888888888888,
              "#fdca26"
             ],
             [
              1,
              "#f0f921"
             ]
            ],
            "type": "heatmapgl"
           }
          ],
          "histogram": [
           {
            "marker": {
             "pattern": {
              "fillmode": "overlay",
              "size": 10,
              "solidity": 0.2
             }
            },
            "type": "histogram"
           }
          ],
          "histogram2d": [
           {
            "colorbar": {
             "outlinewidth": 0,
             "ticks": ""
            },
            "colorscale": [
             [
              0,
              "#0d0887"
             ],
             [
              0.1111111111111111,
              "#46039f"
             ],
             [
              0.2222222222222222,
              "#7201a8"
             ],
             [
              0.3333333333333333,
              "#9c179e"
             ],
             [
              0.4444444444444444,
              "#bd3786"
             ],
             [
              0.5555555555555556,
              "#d8576b"
             ],
             [
              0.6666666666666666,
              "#ed7953"
             ],
             [
              0.7777777777777778,
              "#fb9f3a"
             ],
             [
              0.8888888888888888,
              "#fdca26"
             ],
             [
              1,
              "#f0f921"
             ]
            ],
            "type": "histogram2d"
           }
          ],
          "histogram2dcontour": [
           {
            "colorbar": {
             "outlinewidth": 0,
             "ticks": ""
            },
            "colorscale": [
             [
              0,
              "#0d0887"
             ],
             [
              0.1111111111111111,
              "#46039f"
             ],
             [
              0.2222222222222222,
              "#7201a8"
             ],
             [
              0.3333333333333333,
              "#9c179e"
             ],
             [
              0.4444444444444444,
              "#bd3786"
             ],
             [
              0.5555555555555556,
              "#d8576b"
             ],
             [
              0.6666666666666666,
              "#ed7953"
             ],
             [
              0.7777777777777778,
              "#fb9f3a"
             ],
             [
              0.8888888888888888,
              "#fdca26"
             ],
             [
              1,
              "#f0f921"
             ]
            ],
            "type": "histogram2dcontour"
           }
          ],
          "mesh3d": [
           {
            "colorbar": {
             "outlinewidth": 0,
             "ticks": ""
            },
            "type": "mesh3d"
           }
          ],
          "parcoords": [
           {
            "line": {
             "colorbar": {
              "outlinewidth": 0,
              "ticks": ""
             }
            },
            "type": "parcoords"
           }
          ],
          "pie": [
           {
            "automargin": true,
            "type": "pie"
           }
          ],
          "scatter": [
           {
            "fillpattern": {
             "fillmode": "overlay",
             "size": 10,
             "solidity": 0.2
            },
            "type": "scatter"
           }
          ],
          "scatter3d": [
           {
            "line": {
             "colorbar": {
              "outlinewidth": 0,
              "ticks": ""
             }
            },
            "marker": {
             "colorbar": {
              "outlinewidth": 0,
              "ticks": ""
             }
            },
            "type": "scatter3d"
           }
          ],
          "scattercarpet": [
           {
            "marker": {
             "colorbar": {
              "outlinewidth": 0,
              "ticks": ""
             }
            },
            "type": "scattercarpet"
           }
          ],
          "scattergeo": [
           {
            "marker": {
             "colorbar": {
              "outlinewidth": 0,
              "ticks": ""
             }
            },
            "type": "scattergeo"
           }
          ],
          "scattergl": [
           {
            "marker": {
             "colorbar": {
              "outlinewidth": 0,
              "ticks": ""
             }
            },
            "type": "scattergl"
           }
          ],
          "scattermapbox": [
           {
            "marker": {
             "colorbar": {
              "outlinewidth": 0,
              "ticks": ""
             }
            },
            "type": "scattermapbox"
           }
          ],
          "scatterpolar": [
           {
            "marker": {
             "colorbar": {
              "outlinewidth": 0,
              "ticks": ""
             }
            },
            "type": "scatterpolar"
           }
          ],
          "scatterpolargl": [
           {
            "marker": {
             "colorbar": {
              "outlinewidth": 0,
              "ticks": ""
             }
            },
            "type": "scatterpolargl"
           }
          ],
          "scatterternary": [
           {
            "marker": {
             "colorbar": {
              "outlinewidth": 0,
              "ticks": ""
             }
            },
            "type": "scatterternary"
           }
          ],
          "surface": [
           {
            "colorbar": {
             "outlinewidth": 0,
             "ticks": ""
            },
            "colorscale": [
             [
              0,
              "#0d0887"
             ],
             [
              0.1111111111111111,
              "#46039f"
             ],
             [
              0.2222222222222222,
              "#7201a8"
             ],
             [
              0.3333333333333333,
              "#9c179e"
             ],
             [
              0.4444444444444444,
              "#bd3786"
             ],
             [
              0.5555555555555556,
              "#d8576b"
             ],
             [
              0.6666666666666666,
              "#ed7953"
             ],
             [
              0.7777777777777778,
              "#fb9f3a"
             ],
             [
              0.8888888888888888,
              "#fdca26"
             ],
             [
              1,
              "#f0f921"
             ]
            ],
            "type": "surface"
           }
          ],
          "table": [
           {
            "cells": {
             "fill": {
              "color": "#EBF0F8"
             },
             "line": {
              "color": "white"
             }
            },
            "header": {
             "fill": {
              "color": "#C8D4E3"
             },
             "line": {
              "color": "white"
             }
            },
            "type": "table"
           }
          ]
         },
         "layout": {
          "annotationdefaults": {
           "arrowcolor": "#2a3f5f",
           "arrowhead": 0,
           "arrowwidth": 1
          },
          "autotypenumbers": "strict",
          "coloraxis": {
           "colorbar": {
            "outlinewidth": 0,
            "ticks": ""
           }
          },
          "colorscale": {
           "diverging": [
            [
             0,
             "#8e0152"
            ],
            [
             0.1,
             "#c51b7d"
            ],
            [
             0.2,
             "#de77ae"
            ],
            [
             0.3,
             "#f1b6da"
            ],
            [
             0.4,
             "#fde0ef"
            ],
            [
             0.5,
             "#f7f7f7"
            ],
            [
             0.6,
             "#e6f5d0"
            ],
            [
             0.7,
             "#b8e186"
            ],
            [
             0.8,
             "#7fbc41"
            ],
            [
             0.9,
             "#4d9221"
            ],
            [
             1,
             "#276419"
            ]
           ],
           "sequential": [
            [
             0,
             "#0d0887"
            ],
            [
             0.1111111111111111,
             "#46039f"
            ],
            [
             0.2222222222222222,
             "#7201a8"
            ],
            [
             0.3333333333333333,
             "#9c179e"
            ],
            [
             0.4444444444444444,
             "#bd3786"
            ],
            [
             0.5555555555555556,
             "#d8576b"
            ],
            [
             0.6666666666666666,
             "#ed7953"
            ],
            [
             0.7777777777777778,
             "#fb9f3a"
            ],
            [
             0.8888888888888888,
             "#fdca26"
            ],
            [
             1,
             "#f0f921"
            ]
           ],
           "sequentialminus": [
            [
             0,
             "#0d0887"
            ],
            [
             0.1111111111111111,
             "#46039f"
            ],
            [
             0.2222222222222222,
             "#7201a8"
            ],
            [
             0.3333333333333333,
             "#9c179e"
            ],
            [
             0.4444444444444444,
             "#bd3786"
            ],
            [
             0.5555555555555556,
             "#d8576b"
            ],
            [
             0.6666666666666666,
             "#ed7953"
            ],
            [
             0.7777777777777778,
             "#fb9f3a"
            ],
            [
             0.8888888888888888,
             "#fdca26"
            ],
            [
             1,
             "#f0f921"
            ]
           ]
          },
          "colorway": [
           "#636efa",
           "#EF553B",
           "#00cc96",
           "#ab63fa",
           "#FFA15A",
           "#19d3f3",
           "#FF6692",
           "#B6E880",
           "#FF97FF",
           "#FECB52"
          ],
          "font": {
           "color": "#2a3f5f"
          },
          "geo": {
           "bgcolor": "white",
           "lakecolor": "white",
           "landcolor": "white",
           "showlakes": true,
           "showland": true,
           "subunitcolor": "#C8D4E3"
          },
          "hoverlabel": {
           "align": "left"
          },
          "hovermode": "closest",
          "mapbox": {
           "style": "light"
          },
          "paper_bgcolor": "white",
          "plot_bgcolor": "white",
          "polar": {
           "angularaxis": {
            "gridcolor": "#EBF0F8",
            "linecolor": "#EBF0F8",
            "ticks": ""
           },
           "bgcolor": "white",
           "radialaxis": {
            "gridcolor": "#EBF0F8",
            "linecolor": "#EBF0F8",
            "ticks": ""
           }
          },
          "scene": {
           "xaxis": {
            "backgroundcolor": "white",
            "gridcolor": "#DFE8F3",
            "gridwidth": 2,
            "linecolor": "#EBF0F8",
            "showbackground": true,
            "ticks": "",
            "zerolinecolor": "#EBF0F8"
           },
           "yaxis": {
            "backgroundcolor": "white",
            "gridcolor": "#DFE8F3",
            "gridwidth": 2,
            "linecolor": "#EBF0F8",
            "showbackground": true,
            "ticks": "",
            "zerolinecolor": "#EBF0F8"
           },
           "zaxis": {
            "backgroundcolor": "white",
            "gridcolor": "#DFE8F3",
            "gridwidth": 2,
            "linecolor": "#EBF0F8",
            "showbackground": true,
            "ticks": "",
            "zerolinecolor": "#EBF0F8"
           }
          },
          "shapedefaults": {
           "line": {
            "color": "#2a3f5f"
           }
          },
          "ternary": {
           "aaxis": {
            "gridcolor": "#DFE8F3",
            "linecolor": "#A2B1C6",
            "ticks": ""
           },
           "baxis": {
            "gridcolor": "#DFE8F3",
            "linecolor": "#A2B1C6",
            "ticks": ""
           },
           "bgcolor": "white",
           "caxis": {
            "gridcolor": "#DFE8F3",
            "linecolor": "#A2B1C6",
            "ticks": ""
           }
          },
          "title": {
           "x": 0.05
          },
          "xaxis": {
           "automargin": true,
           "gridcolor": "#EBF0F8",
           "linecolor": "#EBF0F8",
           "ticks": "",
           "title": {
            "standoff": 15
           },
           "zerolinecolor": "#EBF0F8",
           "zerolinewidth": 2
          },
          "yaxis": {
           "automargin": true,
           "gridcolor": "#EBF0F8",
           "linecolor": "#EBF0F8",
           "ticks": "",
           "title": {
            "standoff": 15
           },
           "zerolinecolor": "#EBF0F8",
           "zerolinewidth": 2
          }
         }
        },
        "title": {
         "font": {
          "color": "Black",
          "size": 22
         },
         "text": "<b>Topic Word Scores",
         "x": 0.5,
         "xanchor": "center",
         "yanchor": "top"
        },
        "width": 1600,
        "xaxis": {
         "anchor": "y",
         "domain": [
          0,
          0.175
         ],
         "showgrid": true
        },
        "xaxis10": {
         "anchor": "y10",
         "domain": [
          0.275,
          0.45
         ],
         "showgrid": true
        },
        "xaxis11": {
         "anchor": "y11",
         "domain": [
          0.55,
          0.7250000000000001
         ],
         "showgrid": true
        },
        "xaxis12": {
         "anchor": "y12",
         "domain": [
          0.825,
          1
         ],
         "showgrid": true
        },
        "xaxis13": {
         "anchor": "y13",
         "domain": [
          0,
          0.175
         ],
         "showgrid": true
        },
        "xaxis14": {
         "anchor": "y14",
         "domain": [
          0.275,
          0.45
         ],
         "showgrid": true
        },
        "xaxis15": {
         "anchor": "y15",
         "domain": [
          0.55,
          0.7250000000000001
         ],
         "showgrid": true
        },
        "xaxis16": {
         "anchor": "y16",
         "domain": [
          0.825,
          1
         ],
         "showgrid": true
        },
        "xaxis17": {
         "anchor": "y17",
         "domain": [
          0,
          0.175
         ],
         "showgrid": true
        },
        "xaxis18": {
         "anchor": "y18",
         "domain": [
          0.275,
          0.45
         ],
         "showgrid": true
        },
        "xaxis19": {
         "anchor": "y19",
         "domain": [
          0.55,
          0.7250000000000001
         ],
         "showgrid": true
        },
        "xaxis2": {
         "anchor": "y2",
         "domain": [
          0.275,
          0.45
         ],
         "showgrid": true
        },
        "xaxis20": {
         "anchor": "y20",
         "domain": [
          0.825,
          1
         ],
         "showgrid": true
        },
        "xaxis3": {
         "anchor": "y3",
         "domain": [
          0.55,
          0.7250000000000001
         ],
         "showgrid": true
        },
        "xaxis4": {
         "anchor": "y4",
         "domain": [
          0.825,
          1
         ],
         "showgrid": true
        },
        "xaxis5": {
         "anchor": "y5",
         "domain": [
          0,
          0.175
         ],
         "showgrid": true
        },
        "xaxis6": {
         "anchor": "y6",
         "domain": [
          0.275,
          0.45
         ],
         "showgrid": true
        },
        "xaxis7": {
         "anchor": "y7",
         "domain": [
          0.55,
          0.7250000000000001
         ],
         "showgrid": true
        },
        "xaxis8": {
         "anchor": "y8",
         "domain": [
          0.825,
          1
         ],
         "showgrid": true
        },
        "xaxis9": {
         "anchor": "y9",
         "domain": [
          0,
          0.175
         ],
         "showgrid": true
        },
        "yaxis": {
         "anchor": "x",
         "domain": [
          0.8639999999999999,
          0.9999999999999999
         ],
         "showgrid": true
        },
        "yaxis10": {
         "anchor": "x10",
         "domain": [
          0.43199999999999994,
          0.568
         ],
         "showgrid": true
        },
        "yaxis11": {
         "anchor": "x11",
         "domain": [
          0.43199999999999994,
          0.568
         ],
         "showgrid": true
        },
        "yaxis12": {
         "anchor": "x12",
         "domain": [
          0.43199999999999994,
          0.568
         ],
         "showgrid": true
        },
        "yaxis13": {
         "anchor": "x13",
         "domain": [
          0.21599999999999997,
          0.352
         ],
         "showgrid": true
        },
        "yaxis14": {
         "anchor": "x14",
         "domain": [
          0.21599999999999997,
          0.352
         ],
         "showgrid": true
        },
        "yaxis15": {
         "anchor": "x15",
         "domain": [
          0.21599999999999997,
          0.352
         ],
         "showgrid": true
        },
        "yaxis16": {
         "anchor": "x16",
         "domain": [
          0.21599999999999997,
          0.352
         ],
         "showgrid": true
        },
        "yaxis17": {
         "anchor": "x17",
         "domain": [
          0,
          0.13599999999999998
         ],
         "showgrid": true
        },
        "yaxis18": {
         "anchor": "x18",
         "domain": [
          0,
          0.13599999999999998
         ],
         "showgrid": true
        },
        "yaxis19": {
         "anchor": "x19",
         "domain": [
          0,
          0.13599999999999998
         ],
         "showgrid": true
        },
        "yaxis2": {
         "anchor": "x2",
         "domain": [
          0.8639999999999999,
          0.9999999999999999
         ],
         "showgrid": true
        },
        "yaxis20": {
         "anchor": "x20",
         "domain": [
          0,
          0.13599999999999998
         ],
         "showgrid": true
        },
        "yaxis3": {
         "anchor": "x3",
         "domain": [
          0.8639999999999999,
          0.9999999999999999
         ],
         "showgrid": true
        },
        "yaxis4": {
         "anchor": "x4",
         "domain": [
          0.8639999999999999,
          0.9999999999999999
         ],
         "showgrid": true
        },
        "yaxis5": {
         "anchor": "x5",
         "domain": [
          0.6479999999999999,
          0.7839999999999999
         ],
         "showgrid": true
        },
        "yaxis6": {
         "anchor": "x6",
         "domain": [
          0.6479999999999999,
          0.7839999999999999
         ],
         "showgrid": true
        },
        "yaxis7": {
         "anchor": "x7",
         "domain": [
          0.6479999999999999,
          0.7839999999999999
         ],
         "showgrid": true
        },
        "yaxis8": {
         "anchor": "x8",
         "domain": [
          0.6479999999999999,
          0.7839999999999999
         ],
         "showgrid": true
        },
        "yaxis9": {
         "anchor": "x9",
         "domain": [
          0.43199999999999994,
          0.568
         ],
         "showgrid": true
        }
       }
      },
      "text/html": [
       "<div>                            <div id=\"414c15e6-3bde-4094-bfa2-a2316366f67b\" class=\"plotly-graph-div\" style=\"height:2500px; width:1600px;\"></div>            <script type=\"text/javascript\">                require([\"plotly\"], function(Plotly) {                    window.PLOTLYENV=window.PLOTLYENV || {};                                    if (document.getElementById(\"414c15e6-3bde-4094-bfa2-a2316366f67b\")) {                    Plotly.newPlot(                        \"414c15e6-3bde-4094-bfa2-a2316366f67b\",                        [{\"marker\":{\"color\":\"#D55E00\"},\"orientation\":\"h\",\"x\":[0.01676486118752672,0.01849709195627378,0.019207980953638657,0.023727822728207566,0.024647928693942868,0.029170343834497035,0.02932770292119424,0.029473543239510434,0.03014062787662666,0.032185466350785626],\"y\":[\"vysok\\u00e9  \",\"\\u0161koln\\u00e9  \",\"\\u0161kol  \",\"\\u0161koly  \",\"stanislav  \",\"rozvoj  \",\"prorektor  \",\"\\u0161tech  \",\"karlova  \",\"univerzita  \"],\"type\":\"bar\",\"xaxis\":\"x\",\"yaxis\":\"y\"},{\"marker\":{\"color\":\"#0072B2\"},\"orientation\":\"h\",\"x\":[0.011717598651870371,0.011985322986750561,0.012709389337833813,0.012906253267940392,0.014052604570871907,0.015620382738368768,0.016505626163074147,0.020546369558079036,0.02085020388524738,0.028401091275266993],\"y\":[\"\\u010deskou  \",\"\\u010desk\\u00fdch  \",\"ods  \",\"republiky  \",\"\\u010deska  \",\"\\u010desk\\u00e9ho  \",\"pra\\u017esk\\u00e9  \",\"\\u010desku  \",\"\\u010desko  \",\"\\u010desk\\u00e9  \"],\"type\":\"bar\",\"xaxis\":\"x2\",\"yaxis\":\"y2\"},{\"marker\":{\"color\":\"#CC79A7\"},\"orientation\":\"h\",\"x\":[0.012639381472340566,0.0131025630406549,0.01472786236519967,0.014850840729320042,0.017229641873665512,0.017470084054206535,0.017534599381936734,0.0192231099771699,0.020120230346814268,0.0203428859143428],\"y\":[\"stanislav  \",\"titul  \",\"australian  \",\"open  \",\"mistrovstv\\u00ed  \",\"poh\\u00e1ru  \",\"evropy  \",\"vyhr\\u00e1l  \",\"bart\\u016f\\u0161ek  \",\"fin\\u00e1le  \"],\"type\":\"bar\",\"xaxis\":\"x3\",\"yaxis\":\"y3\"},{\"marker\":{\"color\":\"#E69F00\"},\"orientation\":\"h\",\"x\":[0.014150607133246828,0.01457960814079608,0.01468844250683759,0.01619873078917467,0.016457654479626455,0.016492775143761736,0.02061596892970217,0.02125627717052891,0.02329301504912065,0.025744981063009674],\"y\":[\"nestalo  \",\"pravda  \",\"nestihli  \",\"\\u017e\\u00e1rovku  \",\"nem\\u016f\\u017ee  \",\"nem\\u00e1m  \",\"nebudu  \",\"nikdy  \",\"nebude  \",\"nikdo  \"],\"type\":\"bar\",\"xaxis\":\"x4\",\"yaxis\":\"y4\"},{\"marker\":{\"color\":\"#56B4E9\"},\"orientation\":\"h\",\"x\":[0.016966828545522852,0.017767624655691462,0.018088464562727835,0.01814085405529316,0.02107582814678986,0.02217215495646942,0.022280635561011956,0.024945681273847557,0.0460438302631341,0.05715756562149183],\"y\":[\"pr\\u00e1vn\\u00ed  \",\"advok\\u00e1t\\u016f  \",\"advok\\u00e1t  \",\"pr\\u00e1vn\\u00edk  \",\"soudce  \",\"\\u00fastavn\\u00edho  \",\"exekutor\\u016f  \",\"\\u00fastavn\\u00ed  \",\"soudu  \",\"soud  \"],\"type\":\"bar\",\"xaxis\":\"x5\",\"yaxis\":\"y5\"},{\"marker\":{\"color\":\"#009E73\"},\"orientation\":\"h\",\"x\":[0.015117583764571384,0.015216915051007002,0.016094047653836055,0.016378742681322046,0.018004996970297667,0.0197487030494463,0.04447584879565559,0.04556472255244239,0.05069539206667277,0.07176228040077837],\"y\":[\"jednotky  \",\"50  \",\"lessy  \",\"prezident  \",\"karvinsko  \",\"policisty  \",\"policist\\u016f  \",\"policist\\u00e9  \",\"policejn\\u00ed  \",\"policie  \"],\"type\":\"bar\",\"xaxis\":\"x6\",\"yaxis\":\"y6\"},{\"marker\":{\"color\":\"#F0E442\"},\"orientation\":\"h\",\"x\":[0.014028322900668817,0.014828104306800247,0.015319702357774731,0.016548520709999646,0.016803349268466647,0.016803349268466647,0.019674022150937328,0.02214322934337213,0.02645106825179321,0.027030462978966035],\"y\":[\"l\\u00e9ka\\u0159e  \",\"l\\u00e9ka\\u0159\\u016f  \",\"pacienti  \",\"fn  \",\"onemocn\\u011bn\\u00ed  \",\"p\\u0159ednosta  \",\"diagn\\u00f3za  \",\"zdravotnictv\\u00ed  \",\"l\\u00e9ka\\u0159i  \",\"nemocnice  \"],\"type\":\"bar\",\"xaxis\":\"x7\",\"yaxis\":\"y7\"},{\"marker\":{\"color\":\"#D55E00\"},\"orientation\":\"h\",\"x\":[0.019305126531448266,0.019545335074325168,0.01982056195945061,0.01982056195945061,0.019823890678442223,0.019829011174265238,0.020405748562477417,0.024200109395543176,0.2161487241451766,0.2516999605589221],\"y\":[\"karvin\\u00e1  \",\"petr  \",\"ka\\u0161ov\\u00e1  \",\"vanda  \",\"va\\u0161ek  \",\"\\u010desk\\u00e9  \",\"redakce  \",\"olomouc  \",\"\\u010desk\\u00e1  \",\"televize  \"],\"type\":\"bar\",\"xaxis\":\"x8\",\"yaxis\":\"y8\"},{\"marker\":{\"color\":\"#0072B2\"},\"orientation\":\"h\",\"x\":[0.02908337146017483,0.02929735865572428,0.029785013047562564,0.029785013047562564,0.03030706067757238,0.03054811045995384,0.03099190578805459,0.031400674944323116,0.04024205912431467,0.04764888662806291],\"y\":[\"d\\u011bt\\u00ed  \",\"psycholo\\u017eka  \",\"pedagogicko  \",\"mas\\u00e1kov\\u00e1  \",\"psychologick\\u00e1  \",\"kamila  \",\"\\u0161tichov\\u00e1  \",\"d\\u00edt\\u011b  \",\"rodi\\u010de  \",\"d\\u011bti  \"],\"type\":\"bar\",\"xaxis\":\"x9\",\"yaxis\":\"y9\"},{\"marker\":{\"color\":\"#CC79A7\"},\"orientation\":\"h\",\"x\":[0.020510233168433634,0.0217061574752734,0.02205044330113709,0.024996959481616794,0.025982199773151114,0.02896355820338912,0.029603789275441942,0.03575958890738597,0.04562077632649374,0.07465938853779477],\"y\":[\"000  \",\"300  \",\"dolar\\u016f  \",\"ro\\u010dn\\u011b  \",\"miliardy  \",\"200  \",\"miliard  \",\"zhruba  \",\"150  \",\"milion\\u016f  \"],\"type\":\"bar\",\"xaxis\":\"x10\",\"yaxis\":\"y10\"},{\"marker\":{\"color\":\"#E69F00\"},\"orientation\":\"h\",\"x\":[0.015847973045234803,0.01588955861682486,0.0171369125574663,0.01768663339290867,0.02179659313376923,0.026295060926532672,0.027578530235860283,0.03354458513434285,0.035829093517616595,0.056986425237831866],\"y\":[\"\\u00fa\\u0159ad  \",\"nebudou  \",\"trhu  \",\"syst\\u00e9mu  \",\"odbor\\u00e1\\u0159i  \",\"\\u00fa\\u0159ady  \",\"syst\\u00e9m  \",\"pr\\u00e1ci  \",\"nezam\\u011bstnanost  \",\"pr\\u00e1ce  \"],\"type\":\"bar\",\"xaxis\":\"x11\",\"yaxis\":\"y11\"},{\"marker\":{\"color\":\"#56B4E9\"},\"orientation\":\"h\",\"x\":[0.01710561001635261,0.01736492598021872,0.01736492598021872,0.01793397825781357,0.018146364278370464,0.018146364278370464,0.01866372462441133,0.022198143414306266,0.02763673563916158,0.028910417794312245],\"y\":[\"\\u0161t\\u011bp\\u00e1nka  \",\"tachec\\u00ed  \",\"martanov\\u00e1  \",\"\\u0161ebela  \",\"podrobn\\u011bj\\u0161\\u00ed  \",\"bol\\u00ed  \",\"samko  \",\"zuzana  \",\"mark\\u00e9ta  \",\"michal  \"],\"type\":\"bar\",\"xaxis\":\"x12\",\"yaxis\":\"y12\"},{\"marker\":{\"color\":\"#009E73\"},\"orientation\":\"h\",\"x\":[0.03395590489754368,0.03545161052636664,0.04176025729816366,0.04176025729816366,0.04539721160910881,0.04957625901890989,0.05106567539300874,0.053715716331866344,0.06843338065167957,0.0996045416577199],\"y\":[\"kubankov\\u00e1  \",\"p\\u011bkn\\u00fd  \",\"vold\\u00e1nov\\u00e1  \",\"jolana  \",\"hezk\\u00e9  \",\"zigmundov\\u00e1  \",\"dobr\\u00e9  \",\"iva  \",\"\\u010dt  \",\"poledne  \"],\"type\":\"bar\",\"xaxis\":\"x13\",\"yaxis\":\"y13\"},{\"marker\":{\"color\":\"#F0E442\"},\"orientation\":\"h\",\"x\":[0.01779370356530153,0.018163827611474358,0.02071524010345359,0.022033892897293284,0.025223023713390805,0.025640738303014252,0.0270935299989559,0.0270935299989559,0.0270935299989559,0.028945682767759735],\"y\":[\"barbora  \",\"krou\\u017ekov\\u00e1  \",\"podrobnosti  \",\"ro\\u0161t  \",\"razantn\\u00ed  \",\"jitka  \",\"\\u0161ediv\\u00e1\\u010dkova  \",\"longu  \",\"u\\u0161i  \",\"slukov\\u00e1  \"],\"type\":\"bar\",\"xaxis\":\"x14\",\"yaxis\":\"y14\"},{\"marker\":{\"color\":\"#D55E00\"},\"orientation\":\"h\",\"x\":[0.025972183042159987,0.02731674619195181,0.027521319976243422,0.030819893367326223,0.03334036848515525,0.03334036848515525,0.0341845894700905,0.034565362967798385,0.03562621223587315,0.03587038850639245],\"y\":[\"duchcov  \",\"n\\u00e1m\\u011bstek  \",\"prost\\u0159ed\\u00ed  \",\"m\\u011bsta  \",\"dalibor  \",\"madej  \",\"m\\u011bsto  \",\"\\u017eivotn\\u00ed  \",\"ostravy  \",\"prim\\u00e1tora  \"],\"type\":\"bar\",\"xaxis\":\"x15\",\"yaxis\":\"y15\"},{\"marker\":{\"color\":\"#0072B2\"},\"orientation\":\"h\",\"x\":[0.022575302992095637,0.022575302992095637,0.026294590418869335,0.027597246605214336,0.02814025267752239,0.028518921224544098,0.03009759885686772,0.03411749191850628,0.039441885628304,0.04502440428403582],\"y\":[\"newt  \",\"santorum  \",\"kandid\\u00e1ta  \",\"volby  \",\"voleb  \",\"republik\\u00e1ni  \",\"nominaci  \",\"republik\\u00e1nsk\\u00fd  \",\"florid\\u011b  \",\"volebn\\u00ed  \"],\"type\":\"bar\",\"xaxis\":\"x16\",\"yaxis\":\"y16\"},{\"marker\":{\"color\":\"#CC79A7\"},\"orientation\":\"h\",\"x\":[0.02905514196328556,0.02984357652838173,0.030703095295807094,0.03351899182884729,0.03351899182884729,0.03537774754605464,0.038001314803730354,0.038001314803730354,0.039688720010115995,0.04287683570449342],\"y\":[\"jin\\u00fdmi  \",\"dobr\\u00e9  \",\"nejlep\\u0161\\u00ed  \",\"dovolte  \",\"n\\u00e1v\\u0161t\\u011bvnice  \",\"pozn\\u00e1mku  \",\"zamyslel  \",\"gregorov\\u00e1  \",\"fakt  \",\"mysl\\u00edm  \"],\"type\":\"bar\",\"xaxis\":\"x17\",\"yaxis\":\"y17\"},{\"marker\":{\"color\":\"#E69F00\"},\"orientation\":\"h\",\"x\":[0.024358449130070407,0.024800611207236353,0.026640467129549875,0.028371510377438746,0.028371510377438746,0.030771533482220458,0.03546438797179843,0.05847074164051358,0.06308959949276755,0.07360453274156213],\"y\":[\"p\\u0159ehrady  \",\"hr\\u00e1z  \",\"opat\\u0159en\\u00ed  \",\"protipovod\\u0148ov\\u00fdch  \",\"jord\\u00e1n  \",\"n\\u00e1dr\\u017ee  \",\"vodou  \",\"vodu  \",\"vody  \",\"voda  \"],\"type\":\"bar\",\"xaxis\":\"x18\",\"yaxis\":\"y18\"},{\"marker\":{\"color\":\"#56B4E9\"},\"orientation\":\"h\",\"x\":[0.02673121063780686,0.02947621020166891,0.030056943771600165,0.030702753147229506,0.03206668766446631,0.03324713807734921,0.040732799797327225,0.046755245866933595,0.05208167496122756,0.05521439606820884],\"y\":[\"evropsk\\u00fdch  \",\"euroz\\u00f3nu  \",\"zem\\u011b  \",\"evrop\\u011b  \",\"fondu  \",\"evropsk\\u00e1  \",\"euroz\\u00f3ny  \",\"evropsk\\u00e9  \",\"unie  \",\"evropa  \"],\"type\":\"bar\",\"xaxis\":\"x19\",\"yaxis\":\"y19\"},{\"marker\":{\"color\":\"#009E73\"},\"orientation\":\"h\",\"x\":[0.022336650686162116,0.022462137962281265,0.024356068300557237,0.024807791058913144,0.02507482649832534,0.028283661239311315,0.028468468960930863,0.029949517283041686,0.036330693632178244,0.07273636051647743],\"y\":[\"tis\\u00edcov\\u00e1  \",\"dan\\u011b  \",\"term\\u00ednu  \",\"d\\u00e1vky  \",\"da\\u0148  \",\"n\\u00e1klad\\u016f  \",\"pen\\u011bz  \",\"hotovosti  \",\"plat\\u00edm  \",\"pen\\u00edze  \"],\"type\":\"bar\",\"xaxis\":\"x20\",\"yaxis\":\"y20\"}],                        {\"template\":{\"data\":{\"barpolar\":[{\"marker\":{\"line\":{\"color\":\"white\",\"width\":0.5},\"pattern\":{\"fillmode\":\"overlay\",\"size\":10,\"solidity\":0.2}},\"type\":\"barpolar\"}],\"bar\":[{\"error_x\":{\"color\":\"#2a3f5f\"},\"error_y\":{\"color\":\"#2a3f5f\"},\"marker\":{\"line\":{\"color\":\"white\",\"width\":0.5},\"pattern\":{\"fillmode\":\"overlay\",\"size\":10,\"solidity\":0.2}},\"type\":\"bar\"}],\"carpet\":[{\"aaxis\":{\"endlinecolor\":\"#2a3f5f\",\"gridcolor\":\"#C8D4E3\",\"linecolor\":\"#C8D4E3\",\"minorgridcolor\":\"#C8D4E3\",\"startlinecolor\":\"#2a3f5f\"},\"baxis\":{\"endlinecolor\":\"#2a3f5f\",\"gridcolor\":\"#C8D4E3\",\"linecolor\":\"#C8D4E3\",\"minorgridcolor\":\"#C8D4E3\",\"startlinecolor\":\"#2a3f5f\"},\"type\":\"carpet\"}],\"choropleth\":[{\"colorbar\":{\"outlinewidth\":0,\"ticks\":\"\"},\"type\":\"choropleth\"}],\"contourcarpet\":[{\"colorbar\":{\"outlinewidth\":0,\"ticks\":\"\"},\"type\":\"contourcarpet\"}],\"contour\":[{\"colorbar\":{\"outlinewidth\":0,\"ticks\":\"\"},\"colorscale\":[[0.0,\"#0d0887\"],[0.1111111111111111,\"#46039f\"],[0.2222222222222222,\"#7201a8\"],[0.3333333333333333,\"#9c179e\"],[0.4444444444444444,\"#bd3786\"],[0.5555555555555556,\"#d8576b\"],[0.6666666666666666,\"#ed7953\"],[0.7777777777777778,\"#fb9f3a\"],[0.8888888888888888,\"#fdca26\"],[1.0,\"#f0f921\"]],\"type\":\"contour\"}],\"heatmapgl\":[{\"colorbar\":{\"outlinewidth\":0,\"ticks\":\"\"},\"colorscale\":[[0.0,\"#0d0887\"],[0.1111111111111111,\"#46039f\"],[0.2222222222222222,\"#7201a8\"],[0.3333333333333333,\"#9c179e\"],[0.4444444444444444,\"#bd3786\"],[0.5555555555555556,\"#d8576b\"],[0.6666666666666666,\"#ed7953\"],[0.7777777777777778,\"#fb9f3a\"],[0.8888888888888888,\"#fdca26\"],[1.0,\"#f0f921\"]],\"type\":\"heatmapgl\"}],\"heatmap\":[{\"colorbar\":{\"outlinewidth\":0,\"ticks\":\"\"},\"colorscale\":[[0.0,\"#0d0887\"],[0.1111111111111111,\"#46039f\"],[0.2222222222222222,\"#7201a8\"],[0.3333333333333333,\"#9c179e\"],[0.4444444444444444,\"#bd3786\"],[0.5555555555555556,\"#d8576b\"],[0.6666666666666666,\"#ed7953\"],[0.7777777777777778,\"#fb9f3a\"],[0.8888888888888888,\"#fdca26\"],[1.0,\"#f0f921\"]],\"type\":\"heatmap\"}],\"histogram2dcontour\":[{\"colorbar\":{\"outlinewidth\":0,\"ticks\":\"\"},\"colorscale\":[[0.0,\"#0d0887\"],[0.1111111111111111,\"#46039f\"],[0.2222222222222222,\"#7201a8\"],[0.3333333333333333,\"#9c179e\"],[0.4444444444444444,\"#bd3786\"],[0.5555555555555556,\"#d8576b\"],[0.6666666666666666,\"#ed7953\"],[0.7777777777777778,\"#fb9f3a\"],[0.8888888888888888,\"#fdca26\"],[1.0,\"#f0f921\"]],\"type\":\"histogram2dcontour\"}],\"histogram2d\":[{\"colorbar\":{\"outlinewidth\":0,\"ticks\":\"\"},\"colorscale\":[[0.0,\"#0d0887\"],[0.1111111111111111,\"#46039f\"],[0.2222222222222222,\"#7201a8\"],[0.3333333333333333,\"#9c179e\"],[0.4444444444444444,\"#bd3786\"],[0.5555555555555556,\"#d8576b\"],[0.6666666666666666,\"#ed7953\"],[0.7777777777777778,\"#fb9f3a\"],[0.8888888888888888,\"#fdca26\"],[1.0,\"#f0f921\"]],\"type\":\"histogram2d\"}],\"histogram\":[{\"marker\":{\"pattern\":{\"fillmode\":\"overlay\",\"size\":10,\"solidity\":0.2}},\"type\":\"histogram\"}],\"mesh3d\":[{\"colorbar\":{\"outlinewidth\":0,\"ticks\":\"\"},\"type\":\"mesh3d\"}],\"parcoords\":[{\"line\":{\"colorbar\":{\"outlinewidth\":0,\"ticks\":\"\"}},\"type\":\"parcoords\"}],\"pie\":[{\"automargin\":true,\"type\":\"pie\"}],\"scatter3d\":[{\"line\":{\"colorbar\":{\"outlinewidth\":0,\"ticks\":\"\"}},\"marker\":{\"colorbar\":{\"outlinewidth\":0,\"ticks\":\"\"}},\"type\":\"scatter3d\"}],\"scattercarpet\":[{\"marker\":{\"colorbar\":{\"outlinewidth\":0,\"ticks\":\"\"}},\"type\":\"scattercarpet\"}],\"scattergeo\":[{\"marker\":{\"colorbar\":{\"outlinewidth\":0,\"ticks\":\"\"}},\"type\":\"scattergeo\"}],\"scattergl\":[{\"marker\":{\"colorbar\":{\"outlinewidth\":0,\"ticks\":\"\"}},\"type\":\"scattergl\"}],\"scattermapbox\":[{\"marker\":{\"colorbar\":{\"outlinewidth\":0,\"ticks\":\"\"}},\"type\":\"scattermapbox\"}],\"scatterpolargl\":[{\"marker\":{\"colorbar\":{\"outlinewidth\":0,\"ticks\":\"\"}},\"type\":\"scatterpolargl\"}],\"scatterpolar\":[{\"marker\":{\"colorbar\":{\"outlinewidth\":0,\"ticks\":\"\"}},\"type\":\"scatterpolar\"}],\"scatter\":[{\"fillpattern\":{\"fillmode\":\"overlay\",\"size\":10,\"solidity\":0.2},\"type\":\"scatter\"}],\"scatterternary\":[{\"marker\":{\"colorbar\":{\"outlinewidth\":0,\"ticks\":\"\"}},\"type\":\"scatterternary\"}],\"surface\":[{\"colorbar\":{\"outlinewidth\":0,\"ticks\":\"\"},\"colorscale\":[[0.0,\"#0d0887\"],[0.1111111111111111,\"#46039f\"],[0.2222222222222222,\"#7201a8\"],[0.3333333333333333,\"#9c179e\"],[0.4444444444444444,\"#bd3786\"],[0.5555555555555556,\"#d8576b\"],[0.6666666666666666,\"#ed7953\"],[0.7777777777777778,\"#fb9f3a\"],[0.8888888888888888,\"#fdca26\"],[1.0,\"#f0f921\"]],\"type\":\"surface\"}],\"table\":[{\"cells\":{\"fill\":{\"color\":\"#EBF0F8\"},\"line\":{\"color\":\"white\"}},\"header\":{\"fill\":{\"color\":\"#C8D4E3\"},\"line\":{\"color\":\"white\"}},\"type\":\"table\"}]},\"layout\":{\"annotationdefaults\":{\"arrowcolor\":\"#2a3f5f\",\"arrowhead\":0,\"arrowwidth\":1},\"autotypenumbers\":\"strict\",\"coloraxis\":{\"colorbar\":{\"outlinewidth\":0,\"ticks\":\"\"}},\"colorscale\":{\"diverging\":[[0,\"#8e0152\"],[0.1,\"#c51b7d\"],[0.2,\"#de77ae\"],[0.3,\"#f1b6da\"],[0.4,\"#fde0ef\"],[0.5,\"#f7f7f7\"],[0.6,\"#e6f5d0\"],[0.7,\"#b8e186\"],[0.8,\"#7fbc41\"],[0.9,\"#4d9221\"],[1,\"#276419\"]],\"sequential\":[[0.0,\"#0d0887\"],[0.1111111111111111,\"#46039f\"],[0.2222222222222222,\"#7201a8\"],[0.3333333333333333,\"#9c179e\"],[0.4444444444444444,\"#bd3786\"],[0.5555555555555556,\"#d8576b\"],[0.6666666666666666,\"#ed7953\"],[0.7777777777777778,\"#fb9f3a\"],[0.8888888888888888,\"#fdca26\"],[1.0,\"#f0f921\"]],\"sequentialminus\":[[0.0,\"#0d0887\"],[0.1111111111111111,\"#46039f\"],[0.2222222222222222,\"#7201a8\"],[0.3333333333333333,\"#9c179e\"],[0.4444444444444444,\"#bd3786\"],[0.5555555555555556,\"#d8576b\"],[0.6666666666666666,\"#ed7953\"],[0.7777777777777778,\"#fb9f3a\"],[0.8888888888888888,\"#fdca26\"],[1.0,\"#f0f921\"]]},\"colorway\":[\"#636efa\",\"#EF553B\",\"#00cc96\",\"#ab63fa\",\"#FFA15A\",\"#19d3f3\",\"#FF6692\",\"#B6E880\",\"#FF97FF\",\"#FECB52\"],\"font\":{\"color\":\"#2a3f5f\"},\"geo\":{\"bgcolor\":\"white\",\"lakecolor\":\"white\",\"landcolor\":\"white\",\"showlakes\":true,\"showland\":true,\"subunitcolor\":\"#C8D4E3\"},\"hoverlabel\":{\"align\":\"left\"},\"hovermode\":\"closest\",\"mapbox\":{\"style\":\"light\"},\"paper_bgcolor\":\"white\",\"plot_bgcolor\":\"white\",\"polar\":{\"angularaxis\":{\"gridcolor\":\"#EBF0F8\",\"linecolor\":\"#EBF0F8\",\"ticks\":\"\"},\"bgcolor\":\"white\",\"radialaxis\":{\"gridcolor\":\"#EBF0F8\",\"linecolor\":\"#EBF0F8\",\"ticks\":\"\"}},\"scene\":{\"xaxis\":{\"backgroundcolor\":\"white\",\"gridcolor\":\"#DFE8F3\",\"gridwidth\":2,\"linecolor\":\"#EBF0F8\",\"showbackground\":true,\"ticks\":\"\",\"zerolinecolor\":\"#EBF0F8\"},\"yaxis\":{\"backgroundcolor\":\"white\",\"gridcolor\":\"#DFE8F3\",\"gridwidth\":2,\"linecolor\":\"#EBF0F8\",\"showbackground\":true,\"ticks\":\"\",\"zerolinecolor\":\"#EBF0F8\"},\"zaxis\":{\"backgroundcolor\":\"white\",\"gridcolor\":\"#DFE8F3\",\"gridwidth\":2,\"linecolor\":\"#EBF0F8\",\"showbackground\":true,\"ticks\":\"\",\"zerolinecolor\":\"#EBF0F8\"}},\"shapedefaults\":{\"line\":{\"color\":\"#2a3f5f\"}},\"ternary\":{\"aaxis\":{\"gridcolor\":\"#DFE8F3\",\"linecolor\":\"#A2B1C6\",\"ticks\":\"\"},\"baxis\":{\"gridcolor\":\"#DFE8F3\",\"linecolor\":\"#A2B1C6\",\"ticks\":\"\"},\"bgcolor\":\"white\",\"caxis\":{\"gridcolor\":\"#DFE8F3\",\"linecolor\":\"#A2B1C6\",\"ticks\":\"\"}},\"title\":{\"x\":0.05},\"xaxis\":{\"automargin\":true,\"gridcolor\":\"#EBF0F8\",\"linecolor\":\"#EBF0F8\",\"ticks\":\"\",\"title\":{\"standoff\":15},\"zerolinecolor\":\"#EBF0F8\",\"zerolinewidth\":2},\"yaxis\":{\"automargin\":true,\"gridcolor\":\"#EBF0F8\",\"linecolor\":\"#EBF0F8\",\"ticks\":\"\",\"title\":{\"standoff\":15},\"zerolinecolor\":\"#EBF0F8\",\"zerolinewidth\":2}}},\"xaxis\":{\"anchor\":\"y\",\"domain\":[0.0,0.175],\"showgrid\":true},\"yaxis\":{\"anchor\":\"x\",\"domain\":[0.8639999999999999,0.9999999999999999],\"showgrid\":true},\"xaxis2\":{\"anchor\":\"y2\",\"domain\":[0.275,0.45],\"showgrid\":true},\"yaxis2\":{\"anchor\":\"x2\",\"domain\":[0.8639999999999999,0.9999999999999999],\"showgrid\":true},\"xaxis3\":{\"anchor\":\"y3\",\"domain\":[0.55,0.7250000000000001],\"showgrid\":true},\"yaxis3\":{\"anchor\":\"x3\",\"domain\":[0.8639999999999999,0.9999999999999999],\"showgrid\":true},\"xaxis4\":{\"anchor\":\"y4\",\"domain\":[0.825,1.0],\"showgrid\":true},\"yaxis4\":{\"anchor\":\"x4\",\"domain\":[0.8639999999999999,0.9999999999999999],\"showgrid\":true},\"xaxis5\":{\"anchor\":\"y5\",\"domain\":[0.0,0.175],\"showgrid\":true},\"yaxis5\":{\"anchor\":\"x5\",\"domain\":[0.6479999999999999,0.7839999999999999],\"showgrid\":true},\"xaxis6\":{\"anchor\":\"y6\",\"domain\":[0.275,0.45],\"showgrid\":true},\"yaxis6\":{\"anchor\":\"x6\",\"domain\":[0.6479999999999999,0.7839999999999999],\"showgrid\":true},\"xaxis7\":{\"anchor\":\"y7\",\"domain\":[0.55,0.7250000000000001],\"showgrid\":true},\"yaxis7\":{\"anchor\":\"x7\",\"domain\":[0.6479999999999999,0.7839999999999999],\"showgrid\":true},\"xaxis8\":{\"anchor\":\"y8\",\"domain\":[0.825,1.0],\"showgrid\":true},\"yaxis8\":{\"anchor\":\"x8\",\"domain\":[0.6479999999999999,0.7839999999999999],\"showgrid\":true},\"xaxis9\":{\"anchor\":\"y9\",\"domain\":[0.0,0.175],\"showgrid\":true},\"yaxis9\":{\"anchor\":\"x9\",\"domain\":[0.43199999999999994,0.568],\"showgrid\":true},\"xaxis10\":{\"anchor\":\"y10\",\"domain\":[0.275,0.45],\"showgrid\":true},\"yaxis10\":{\"anchor\":\"x10\",\"domain\":[0.43199999999999994,0.568],\"showgrid\":true},\"xaxis11\":{\"anchor\":\"y11\",\"domain\":[0.55,0.7250000000000001],\"showgrid\":true},\"yaxis11\":{\"anchor\":\"x11\",\"domain\":[0.43199999999999994,0.568],\"showgrid\":true},\"xaxis12\":{\"anchor\":\"y12\",\"domain\":[0.825,1.0],\"showgrid\":true},\"yaxis12\":{\"anchor\":\"x12\",\"domain\":[0.43199999999999994,0.568],\"showgrid\":true},\"xaxis13\":{\"anchor\":\"y13\",\"domain\":[0.0,0.175],\"showgrid\":true},\"yaxis13\":{\"anchor\":\"x13\",\"domain\":[0.21599999999999997,0.352],\"showgrid\":true},\"xaxis14\":{\"anchor\":\"y14\",\"domain\":[0.275,0.45],\"showgrid\":true},\"yaxis14\":{\"anchor\":\"x14\",\"domain\":[0.21599999999999997,0.352],\"showgrid\":true},\"xaxis15\":{\"anchor\":\"y15\",\"domain\":[0.55,0.7250000000000001],\"showgrid\":true},\"yaxis15\":{\"anchor\":\"x15\",\"domain\":[0.21599999999999997,0.352],\"showgrid\":true},\"xaxis16\":{\"anchor\":\"y16\",\"domain\":[0.825,1.0],\"showgrid\":true},\"yaxis16\":{\"anchor\":\"x16\",\"domain\":[0.21599999999999997,0.352],\"showgrid\":true},\"xaxis17\":{\"anchor\":\"y17\",\"domain\":[0.0,0.175],\"showgrid\":true},\"yaxis17\":{\"anchor\":\"x17\",\"domain\":[0.0,0.13599999999999998],\"showgrid\":true},\"xaxis18\":{\"anchor\":\"y18\",\"domain\":[0.275,0.45],\"showgrid\":true},\"yaxis18\":{\"anchor\":\"x18\",\"domain\":[0.0,0.13599999999999998],\"showgrid\":true},\"xaxis19\":{\"anchor\":\"y19\",\"domain\":[0.55,0.7250000000000001],\"showgrid\":true},\"yaxis19\":{\"anchor\":\"x19\",\"domain\":[0.0,0.13599999999999998],\"showgrid\":true},\"xaxis20\":{\"anchor\":\"y20\",\"domain\":[0.825,1.0],\"showgrid\":true},\"yaxis20\":{\"anchor\":\"x20\",\"domain\":[0.0,0.13599999999999998],\"showgrid\":true},\"annotations\":[{\"font\":{\"size\":16},\"showarrow\":false,\"text\":\"Topic 0\",\"x\":0.0875,\"xanchor\":\"center\",\"xref\":\"paper\",\"y\":0.9999999999999999,\"yanchor\":\"bottom\",\"yref\":\"paper\"},{\"font\":{\"size\":16},\"showarrow\":false,\"text\":\"Topic 1\",\"x\":0.36250000000000004,\"xanchor\":\"center\",\"xref\":\"paper\",\"y\":0.9999999999999999,\"yanchor\":\"bottom\",\"yref\":\"paper\"},{\"font\":{\"size\":16},\"showarrow\":false,\"text\":\"Topic 2\",\"x\":0.6375000000000001,\"xanchor\":\"center\",\"xref\":\"paper\",\"y\":0.9999999999999999,\"yanchor\":\"bottom\",\"yref\":\"paper\"},{\"font\":{\"size\":16},\"showarrow\":false,\"text\":\"Topic 3\",\"x\":0.9125,\"xanchor\":\"center\",\"xref\":\"paper\",\"y\":0.9999999999999999,\"yanchor\":\"bottom\",\"yref\":\"paper\"},{\"font\":{\"size\":16},\"showarrow\":false,\"text\":\"Topic 4\",\"x\":0.0875,\"xanchor\":\"center\",\"xref\":\"paper\",\"y\":0.7839999999999999,\"yanchor\":\"bottom\",\"yref\":\"paper\"},{\"font\":{\"size\":16},\"showarrow\":false,\"text\":\"Topic 5\",\"x\":0.36250000000000004,\"xanchor\":\"center\",\"xref\":\"paper\",\"y\":0.7839999999999999,\"yanchor\":\"bottom\",\"yref\":\"paper\"},{\"font\":{\"size\":16},\"showarrow\":false,\"text\":\"Topic 6\",\"x\":0.6375000000000001,\"xanchor\":\"center\",\"xref\":\"paper\",\"y\":0.7839999999999999,\"yanchor\":\"bottom\",\"yref\":\"paper\"},{\"font\":{\"size\":16},\"showarrow\":false,\"text\":\"Topic 7\",\"x\":0.9125,\"xanchor\":\"center\",\"xref\":\"paper\",\"y\":0.7839999999999999,\"yanchor\":\"bottom\",\"yref\":\"paper\"},{\"font\":{\"size\":16},\"showarrow\":false,\"text\":\"Topic 8\",\"x\":0.0875,\"xanchor\":\"center\",\"xref\":\"paper\",\"y\":0.568,\"yanchor\":\"bottom\",\"yref\":\"paper\"},{\"font\":{\"size\":16},\"showarrow\":false,\"text\":\"Topic 9\",\"x\":0.36250000000000004,\"xanchor\":\"center\",\"xref\":\"paper\",\"y\":0.568,\"yanchor\":\"bottom\",\"yref\":\"paper\"},{\"font\":{\"size\":16},\"showarrow\":false,\"text\":\"Topic 10\",\"x\":0.6375000000000001,\"xanchor\":\"center\",\"xref\":\"paper\",\"y\":0.568,\"yanchor\":\"bottom\",\"yref\":\"paper\"},{\"font\":{\"size\":16},\"showarrow\":false,\"text\":\"Topic 11\",\"x\":0.9125,\"xanchor\":\"center\",\"xref\":\"paper\",\"y\":0.568,\"yanchor\":\"bottom\",\"yref\":\"paper\"},{\"font\":{\"size\":16},\"showarrow\":false,\"text\":\"Topic 12\",\"x\":0.0875,\"xanchor\":\"center\",\"xref\":\"paper\",\"y\":0.352,\"yanchor\":\"bottom\",\"yref\":\"paper\"},{\"font\":{\"size\":16},\"showarrow\":false,\"text\":\"Topic 13\",\"x\":0.36250000000000004,\"xanchor\":\"center\",\"xref\":\"paper\",\"y\":0.352,\"yanchor\":\"bottom\",\"yref\":\"paper\"},{\"font\":{\"size\":16},\"showarrow\":false,\"text\":\"Topic 14\",\"x\":0.6375000000000001,\"xanchor\":\"center\",\"xref\":\"paper\",\"y\":0.352,\"yanchor\":\"bottom\",\"yref\":\"paper\"},{\"font\":{\"size\":16},\"showarrow\":false,\"text\":\"Topic 15\",\"x\":0.9125,\"xanchor\":\"center\",\"xref\":\"paper\",\"y\":0.352,\"yanchor\":\"bottom\",\"yref\":\"paper\"},{\"font\":{\"size\":16},\"showarrow\":false,\"text\":\"Topic 16\",\"x\":0.0875,\"xanchor\":\"center\",\"xref\":\"paper\",\"y\":0.13599999999999998,\"yanchor\":\"bottom\",\"yref\":\"paper\"},{\"font\":{\"size\":16},\"showarrow\":false,\"text\":\"Topic 17\",\"x\":0.36250000000000004,\"xanchor\":\"center\",\"xref\":\"paper\",\"y\":0.13599999999999998,\"yanchor\":\"bottom\",\"yref\":\"paper\"},{\"font\":{\"size\":16},\"showarrow\":false,\"text\":\"Topic 18\",\"x\":0.6375000000000001,\"xanchor\":\"center\",\"xref\":\"paper\",\"y\":0.13599999999999998,\"yanchor\":\"bottom\",\"yref\":\"paper\"},{\"font\":{\"size\":16},\"showarrow\":false,\"text\":\"Topic 19\",\"x\":0.9125,\"xanchor\":\"center\",\"xref\":\"paper\",\"y\":0.13599999999999998,\"yanchor\":\"bottom\",\"yref\":\"paper\"}],\"title\":{\"font\":{\"size\":22,\"color\":\"Black\"},\"text\":\"<b>Topic Word Scores\",\"x\":0.5,\"xanchor\":\"center\",\"yanchor\":\"top\"},\"hoverlabel\":{\"font\":{\"size\":16,\"family\":\"Rockwell\"},\"bgcolor\":\"white\"},\"showlegend\":false,\"width\":1600,\"height\":2500},                        {\"responsive\": true}                    ).then(function(){\n",
       "                            \n",
       "var gd = document.getElementById('414c15e6-3bde-4094-bfa2-a2316366f67b');\n",
       "var x = new MutationObserver(function (mutations, observer) {{\n",
       "        var display = window.getComputedStyle(gd).display;\n",
       "        if (!display || display === 'none') {{\n",
       "            console.log([gd, 'removed!']);\n",
       "            Plotly.purge(gd);\n",
       "            observer.disconnect();\n",
       "        }}\n",
       "}});\n",
       "\n",
       "// Listen for the removal of the full notebook cells\n",
       "var notebookContainer = gd.closest('#notebook-container');\n",
       "if (notebookContainer) {{\n",
       "    x.observe(notebookContainer, {childList: true});\n",
       "}}\n",
       "\n",
       "// Listen for the clearing of the current output cell\n",
       "var outputEl = gd.closest('.output');\n",
       "if (outputEl) {{\n",
       "    x.observe(outputEl, {childList: true});\n",
       "}}\n",
       "\n",
       "                        })                };                });            </script>        </div>"
      ]
     },
     "metadata": {},
     "output_type": "display_data"
    }
   ],
   "source": [
    "topic_model.visualize_barchart(n_words=30, width=400, height=500, top_n_topics=20)"
   ]
  },
  {
   "cell_type": "code",
   "execution_count": null,
   "metadata": {},
   "outputs": [],
   "source": [
    "# If probabilities were calculated, then the topics can be visualized with the following code:\n",
    "# topic_model.visualize_distribution(probs[0])\n",
    "topic_model.get_representative_docs(2)\n",
    "topic_model.visualize_heatmap()"
   ]
  },
  {
   "cell_type": "code",
   "execution_count": null,
   "metadata": {},
   "outputs": [],
   "source": [
    "topics_over_time = topic_model.topics_over_time(sentences, dates, nr_bins=20)"
   ]
  },
  {
   "cell_type": "code",
   "execution_count": null,
   "metadata": {},
   "outputs": [],
   "source": [
    "topic_model.visualize_topics_over_time(topics_over_time)"
   ]
  }
 ],
 "metadata": {
  "kernelspec": {
   "display_name": "Python 3.10.6 ('datascience')",
   "language": "python",
   "name": "python3"
  },
  "language_info": {
   "codemirror_mode": {
    "name": "ipython",
    "version": 3
   },
   "file_extension": ".py",
   "mimetype": "text/x-python",
   "name": "python",
   "nbconvert_exporter": "python",
   "pygments_lexer": "ipython3",
   "version": "3.10.8"
  },
  "orig_nbformat": 4,
  "vscode": {
   "interpreter": {
    "hash": "7fcc423611767790f2393ecee3bb6574101f9de8433eefd3b59182ef24a3412e"
   }
  }
 },
 "nbformat": 4,
 "nbformat_minor": 2
}
